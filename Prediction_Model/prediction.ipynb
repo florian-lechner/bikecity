{
 "cells": [
  {
   "attachments": {},
   "cell_type": "markdown",
   "metadata": {},
   "source": [
    "### Prediction Model\n",
    "\n",
    "Data has been already cleaned in SQL.\n",
    "\n",
    "A database with a timestamp every 5 min was created with the station and weather data.\n",
    "The day-time savings time change was adjusted.\n",
    "A column for the day was added.\n",
    "The status for the night was corrected to closed.\n",
    "The CSV clean_db.csv was created from that. This database will be used as test and validation set for this prediction model.\n",
    "Column with just time.\n",
    "\n",
    "For the prediction model there will be a random forest regression done for each station."
   ]
  },
  {
   "cell_type": "code",
   "execution_count": 2,
   "metadata": {},
   "outputs": [],
   "source": [
    "# Import the required packages\n",
    "# Import package pandas for data analysis\n",
    "import pandas as pd\n",
    "\n",
    "# Import package numpy for numeric computing\n",
    "import numpy as np\n",
    "\n",
    "# Import package matplotlib for visualisation/plotting\n",
    "import matplotlib.pyplot as plt\n",
    "\n",
    "# Imports for random forest regression\n",
    "import seaborn as sns\n",
    "from sklearn.model_selection import RandomizedSearchCV\n",
    "from sklearn.model_selection import train_test_split\n",
    "from sklearn import metrics\n",
    "from sklearn.ensemble import RandomForestRegressor\n",
    "\n",
    "# For showing plots directly in the notebook run the command below\n",
    "%matplotlib inline\n",
    "\n",
    "# Connect DB\n",
    "import sys\n",
    "sys.path.append('../web/')\n",
    "from dbConnection import get_clean_db"
   ]
  },
  {
   "cell_type": "code",
   "execution_count": 3,
   "metadata": {},
   "outputs": [],
   "source": [
    "# Reading from a csv file, into a data frame\n",
    "df = pd.read_csv(\"/Users/florian/Documents/GitHub/clean_db.csv\", keep_default_na=True, dtype={16: str}, delimiter=',', skipinitialspace=True, encoding='Windows-1252') #sep=',\\s+',"
   ]
  },
  {
   "cell_type": "code",
   "execution_count": 4,
   "metadata": {},
   "outputs": [],
   "source": [
    "#sql_query = get_clean_db()\n",
    "#df = pd.DataFrame(sql_query, columns = ['timestamp', 'station_id', 'available_bikes', 'available_bike_stands', 'status', 'temperature', 'pressure', 'humidity', 'clouds', 'wind_speed_beaufort', 'wind_direction', 'precipitation_value', 'precipitation_min', 'precipitation_max', 'precipitation_probability', 'wind_speed_mps', 'weather_type', 'icon_number', 'temperature_feels_like', 'day_flag', 'time', 'day'])"
   ]
  },
  {
   "cell_type": "code",
   "execution_count": 5,
   "metadata": {},
   "outputs": [
    {
     "name": "stdout",
     "output_type": "stream",
     "text": [
      "Rows: 989972\n",
      "Columns: 22\n",
      "Index(['timestamp', 'station_id', 'available_bikes', 'available_bike_stands',\n",
      "       'status', 'temperature', 'pressure', 'humidity', 'clouds',\n",
      "       'wind_speed_beaufort', 'wind_direction', 'precipitation_value',\n",
      "       'precipitation_min', 'precipitation_max', 'precipitation_probability',\n",
      "       'wind_speed_mps', 'weather_type', 'icon_number',\n",
      "       'temperature_feels_like', 'day_flag', 'time', 'day'],\n",
      "      dtype='object')\n"
     ]
    },
    {
     "data": {
      "text/plain": [
       "timestamp                     object\n",
       "station_id                     int64\n",
       "available_bikes                int64\n",
       "available_bike_stands          int64\n",
       "status                        object\n",
       "temperature                  float64\n",
       "pressure                     float64\n",
       "humidity                     float64\n",
       "clouds                       float64\n",
       "wind_speed_beaufort            int64\n",
       "wind_direction               float64\n",
       "precipitation_value          float64\n",
       "precipitation_min            float64\n",
       "precipitation_max            float64\n",
       "precipitation_probability    float64\n",
       "wind_speed_mps               float64\n",
       "weather_type                  object\n",
       "icon_number                  float64\n",
       "temperature_feels_like       float64\n",
       "day_flag                       int64\n",
       "time                          object\n",
       "day                           object\n",
       "dtype: object"
      ]
     },
     "execution_count": 5,
     "metadata": {},
     "output_type": "execute_result"
    }
   ],
   "source": [
    "print(\"Rows: \" + str(df.shape[0]))\n",
    "print(\"Columns: \" + str(df.shape[1]))\n",
    "print(df.columns)\n",
    "df.dtypes"
   ]
  },
  {
   "attachments": {},
   "cell_type": "markdown",
   "metadata": {},
   "source": [
    "### Time Changes"
   ]
  },
  {
   "cell_type": "code",
   "execution_count": 6,
   "metadata": {},
   "outputs": [],
   "source": [
    "# Type changes & drops\n",
    "df.drop(['timestamp', 'weather_type', 'icon_number'], axis=1, inplace=True)"
   ]
  },
  {
   "cell_type": "code",
   "execution_count": 7,
   "metadata": {},
   "outputs": [],
   "source": [
    "df[\"time\"] = pd.to_datetime(df[\"time\"], format=\"%H:%M:%S\")\n",
    "df[\"time\"] = df[\"time\"].dt.strftime(\"%H:%M:%S\")"
   ]
  },
  {
   "cell_type": "code",
   "execution_count": 8,
   "metadata": {},
   "outputs": [],
   "source": [
    "def to_category(column):\n",
    "    list_unique = []\n",
    "    for i in sorted(df[column].unique()):\n",
    "        list_unique.append(i)\n",
    "\n",
    "    list_range = [i for i in range(len(list_unique))]\n",
    "    df[column] = df[column].astype('category')\n",
    "    df[column].cat.add_categories(list_range, inplace=True)\n",
    "\n",
    "    df[column] = df[column].replace(list_unique, list_range)\n",
    "    df[column] = df[column].astype('int64')"
   ]
  },
  {
   "cell_type": "code",
   "execution_count": 9,
   "metadata": {},
   "outputs": [
    {
     "name": "stderr",
     "output_type": "stream",
     "text": [
      "/var/folders/ly/rt519r9j7sx5syy44_l85hz80000gn/T/ipykernel_2826/2460517589.py:8: FutureWarning: The `inplace` parameter in pandas.Categorical.add_categories is deprecated and will be removed in a future version. Removing unused categories will always return a new Categorical object.\n",
      "  df[column].cat.add_categories(list_range, inplace=True)\n",
      "/var/folders/ly/rt519r9j7sx5syy44_l85hz80000gn/T/ipykernel_2826/2460517589.py:8: FutureWarning: The `inplace` parameter in pandas.Categorical.add_categories is deprecated and will be removed in a future version. Removing unused categories will always return a new Categorical object.\n",
      "  df[column].cat.add_categories(list_range, inplace=True)\n",
      "/var/folders/ly/rt519r9j7sx5syy44_l85hz80000gn/T/ipykernel_2826/2460517589.py:8: FutureWarning: The `inplace` parameter in pandas.Categorical.add_categories is deprecated and will be removed in a future version. Removing unused categories will always return a new Categorical object.\n",
      "  df[column].cat.add_categories(list_range, inplace=True)\n"
     ]
    }
   ],
   "source": [
    "to_category(\"status\")\n",
    "to_category(\"time\")\n",
    "to_category(\"day\")"
   ]
  },
  {
   "cell_type": "code",
   "execution_count": 10,
   "metadata": {},
   "outputs": [
    {
     "name": "stdout",
     "output_type": "stream",
     "text": [
      "[1 1 1 ... 1 1 1]\n",
      "[127 127 127 ... 108 108 108]\n",
      "[0 0 0 ... 4 4 4]\n",
      "station_id                     int64\n",
      "available_bikes                int64\n",
      "available_bike_stands          int64\n",
      "status                         int64\n",
      "temperature                  float64\n",
      "pressure                     float64\n",
      "humidity                     float64\n",
      "clouds                       float64\n",
      "wind_speed_beaufort            int64\n",
      "wind_direction               float64\n",
      "precipitation_value          float64\n",
      "precipitation_min            float64\n",
      "precipitation_max            float64\n",
      "precipitation_probability    float64\n",
      "wind_speed_mps               float64\n",
      "temperature_feels_like       float64\n",
      "day_flag                       int64\n",
      "time                           int64\n",
      "day                            int64\n",
      "dtype: object\n"
     ]
    }
   ],
   "source": [
    "print(df[\"status\"].ravel())\n",
    "print(df[\"time\"].ravel())\n",
    "print(df[\"day\"].ravel())\n",
    "print(df.dtypes)"
   ]
  },
  {
   "cell_type": "code",
   "execution_count": 11,
   "metadata": {},
   "outputs": [],
   "source": [
    "# Ratio of availability\n",
    "\n",
    "df['availabilty_ratio'] = df['available_bikes'] / (df['available_bikes'] + df['available_bike_stands'])"
   ]
  },
  {
   "cell_type": "code",
   "execution_count": 12,
   "metadata": {},
   "outputs": [
    {
     "data": {
      "text/html": [
       "<div>\n",
       "<style scoped>\n",
       "    .dataframe tbody tr th:only-of-type {\n",
       "        vertical-align: middle;\n",
       "    }\n",
       "\n",
       "    .dataframe tbody tr th {\n",
       "        vertical-align: top;\n",
       "    }\n",
       "\n",
       "    .dataframe thead th {\n",
       "        text-align: right;\n",
       "    }\n",
       "</style>\n",
       "<table border=\"1\" class=\"dataframe\">\n",
       "  <thead>\n",
       "    <tr style=\"text-align: right;\">\n",
       "      <th></th>\n",
       "      <th>station_id</th>\n",
       "      <th>available_bikes</th>\n",
       "      <th>available_bike_stands</th>\n",
       "      <th>status</th>\n",
       "      <th>temperature</th>\n",
       "      <th>pressure</th>\n",
       "      <th>humidity</th>\n",
       "      <th>clouds</th>\n",
       "      <th>wind_speed_beaufort</th>\n",
       "      <th>wind_direction</th>\n",
       "      <th>precipitation_value</th>\n",
       "      <th>precipitation_min</th>\n",
       "      <th>precipitation_max</th>\n",
       "      <th>precipitation_probability</th>\n",
       "      <th>wind_speed_mps</th>\n",
       "      <th>temperature_feels_like</th>\n",
       "      <th>day_flag</th>\n",
       "      <th>time</th>\n",
       "      <th>day</th>\n",
       "      <th>availabilty_ratio</th>\n",
       "    </tr>\n",
       "  </thead>\n",
       "  <tbody>\n",
       "    <tr>\n",
       "      <th>491568</th>\n",
       "      <td>30</td>\n",
       "      <td>0</td>\n",
       "      <td>0</td>\n",
       "      <td>1</td>\n",
       "      <td>14.5</td>\n",
       "      <td>994.9</td>\n",
       "      <td>71.3</td>\n",
       "      <td>54.4</td>\n",
       "      <td>3</td>\n",
       "      <td>206.1</td>\n",
       "      <td>0.0</td>\n",
       "      <td>0.0</td>\n",
       "      <td>0.0</td>\n",
       "      <td>0.0</td>\n",
       "      <td>4.9</td>\n",
       "      <td>14.60</td>\n",
       "      <td>1</td>\n",
       "      <td>169</td>\n",
       "      <td>4</td>\n",
       "      <td>NaN</td>\n",
       "    </tr>\n",
       "    <tr>\n",
       "      <th>491682</th>\n",
       "      <td>30</td>\n",
       "      <td>0</td>\n",
       "      <td>0</td>\n",
       "      <td>1</td>\n",
       "      <td>14.5</td>\n",
       "      <td>994.9</td>\n",
       "      <td>71.3</td>\n",
       "      <td>54.4</td>\n",
       "      <td>3</td>\n",
       "      <td>206.1</td>\n",
       "      <td>0.0</td>\n",
       "      <td>0.0</td>\n",
       "      <td>0.0</td>\n",
       "      <td>0.0</td>\n",
       "      <td>4.9</td>\n",
       "      <td>14.60</td>\n",
       "      <td>1</td>\n",
       "      <td>170</td>\n",
       "      <td>4</td>\n",
       "      <td>NaN</td>\n",
       "    </tr>\n",
       "    <tr>\n",
       "      <th>491796</th>\n",
       "      <td>30</td>\n",
       "      <td>0</td>\n",
       "      <td>0</td>\n",
       "      <td>1</td>\n",
       "      <td>14.5</td>\n",
       "      <td>994.9</td>\n",
       "      <td>71.3</td>\n",
       "      <td>54.4</td>\n",
       "      <td>3</td>\n",
       "      <td>206.1</td>\n",
       "      <td>0.0</td>\n",
       "      <td>0.0</td>\n",
       "      <td>0.0</td>\n",
       "      <td>0.0</td>\n",
       "      <td>4.9</td>\n",
       "      <td>14.60</td>\n",
       "      <td>1</td>\n",
       "      <td>170</td>\n",
       "      <td>4</td>\n",
       "      <td>NaN</td>\n",
       "    </tr>\n",
       "    <tr>\n",
       "      <th>491903</th>\n",
       "      <td>23</td>\n",
       "      <td>0</td>\n",
       "      <td>0</td>\n",
       "      <td>1</td>\n",
       "      <td>14.5</td>\n",
       "      <td>994.9</td>\n",
       "      <td>71.3</td>\n",
       "      <td>54.4</td>\n",
       "      <td>3</td>\n",
       "      <td>206.1</td>\n",
       "      <td>0.0</td>\n",
       "      <td>0.0</td>\n",
       "      <td>0.0</td>\n",
       "      <td>0.0</td>\n",
       "      <td>4.9</td>\n",
       "      <td>14.80</td>\n",
       "      <td>1</td>\n",
       "      <td>172</td>\n",
       "      <td>4</td>\n",
       "      <td>NaN</td>\n",
       "    </tr>\n",
       "    <tr>\n",
       "      <th>491910</th>\n",
       "      <td>30</td>\n",
       "      <td>0</td>\n",
       "      <td>0</td>\n",
       "      <td>1</td>\n",
       "      <td>14.5</td>\n",
       "      <td>994.9</td>\n",
       "      <td>71.3</td>\n",
       "      <td>54.4</td>\n",
       "      <td>3</td>\n",
       "      <td>206.1</td>\n",
       "      <td>0.0</td>\n",
       "      <td>0.0</td>\n",
       "      <td>0.0</td>\n",
       "      <td>0.0</td>\n",
       "      <td>4.9</td>\n",
       "      <td>14.80</td>\n",
       "      <td>1</td>\n",
       "      <td>172</td>\n",
       "      <td>4</td>\n",
       "      <td>NaN</td>\n",
       "    </tr>\n",
       "    <tr>\n",
       "      <th>...</th>\n",
       "      <td>...</td>\n",
       "      <td>...</td>\n",
       "      <td>...</td>\n",
       "      <td>...</td>\n",
       "      <td>...</td>\n",
       "      <td>...</td>\n",
       "      <td>...</td>\n",
       "      <td>...</td>\n",
       "      <td>...</td>\n",
       "      <td>...</td>\n",
       "      <td>...</td>\n",
       "      <td>...</td>\n",
       "      <td>...</td>\n",
       "      <td>...</td>\n",
       "      <td>...</td>\n",
       "      <td>...</td>\n",
       "      <td>...</td>\n",
       "      <td>...</td>\n",
       "      <td>...</td>\n",
       "      <td>...</td>\n",
       "    </tr>\n",
       "    <tr>\n",
       "      <th>582157</th>\n",
       "      <td>87</td>\n",
       "      <td>0</td>\n",
       "      <td>0</td>\n",
       "      <td>1</td>\n",
       "      <td>12.2</td>\n",
       "      <td>1010.9</td>\n",
       "      <td>82.5</td>\n",
       "      <td>100.0</td>\n",
       "      <td>2</td>\n",
       "      <td>208.3</td>\n",
       "      <td>0.0</td>\n",
       "      <td>0.0</td>\n",
       "      <td>0.0</td>\n",
       "      <td>0.0</td>\n",
       "      <td>3.2</td>\n",
       "      <td>11.47</td>\n",
       "      <td>1</td>\n",
       "      <td>105</td>\n",
       "      <td>1</td>\n",
       "      <td>NaN</td>\n",
       "    </tr>\n",
       "    <tr>\n",
       "      <th>582271</th>\n",
       "      <td>87</td>\n",
       "      <td>0</td>\n",
       "      <td>0</td>\n",
       "      <td>1</td>\n",
       "      <td>12.2</td>\n",
       "      <td>1010.9</td>\n",
       "      <td>82.5</td>\n",
       "      <td>100.0</td>\n",
       "      <td>2</td>\n",
       "      <td>208.3</td>\n",
       "      <td>0.0</td>\n",
       "      <td>0.0</td>\n",
       "      <td>0.0</td>\n",
       "      <td>0.0</td>\n",
       "      <td>3.2</td>\n",
       "      <td>11.66</td>\n",
       "      <td>1</td>\n",
       "      <td>106</td>\n",
       "      <td>1</td>\n",
       "      <td>NaN</td>\n",
       "    </tr>\n",
       "    <tr>\n",
       "      <th>582385</th>\n",
       "      <td>87</td>\n",
       "      <td>0</td>\n",
       "      <td>0</td>\n",
       "      <td>1</td>\n",
       "      <td>12.2</td>\n",
       "      <td>1010.9</td>\n",
       "      <td>82.5</td>\n",
       "      <td>100.0</td>\n",
       "      <td>2</td>\n",
       "      <td>208.3</td>\n",
       "      <td>0.0</td>\n",
       "      <td>0.0</td>\n",
       "      <td>0.0</td>\n",
       "      <td>0.0</td>\n",
       "      <td>3.2</td>\n",
       "      <td>11.65</td>\n",
       "      <td>1</td>\n",
       "      <td>107</td>\n",
       "      <td>1</td>\n",
       "      <td>NaN</td>\n",
       "    </tr>\n",
       "    <tr>\n",
       "      <th>582499</th>\n",
       "      <td>87</td>\n",
       "      <td>0</td>\n",
       "      <td>0</td>\n",
       "      <td>1</td>\n",
       "      <td>13.0</td>\n",
       "      <td>1010.8</td>\n",
       "      <td>78.1</td>\n",
       "      <td>99.7</td>\n",
       "      <td>3</td>\n",
       "      <td>211.6</td>\n",
       "      <td>0.0</td>\n",
       "      <td>0.0</td>\n",
       "      <td>0.0</td>\n",
       "      <td>5.1</td>\n",
       "      <td>4.1</td>\n",
       "      <td>11.78</td>\n",
       "      <td>1</td>\n",
       "      <td>110</td>\n",
       "      <td>1</td>\n",
       "      <td>NaN</td>\n",
       "    </tr>\n",
       "    <tr>\n",
       "      <th>824402</th>\n",
       "      <td>82</td>\n",
       "      <td>0</td>\n",
       "      <td>0</td>\n",
       "      <td>1</td>\n",
       "      <td>14.0</td>\n",
       "      <td>997.0</td>\n",
       "      <td>69.6</td>\n",
       "      <td>62.7</td>\n",
       "      <td>3</td>\n",
       "      <td>219.2</td>\n",
       "      <td>0.0</td>\n",
       "      <td>0.0</td>\n",
       "      <td>0.1</td>\n",
       "      <td>1.8</td>\n",
       "      <td>5.3</td>\n",
       "      <td>13.20</td>\n",
       "      <td>1</td>\n",
       "      <td>137</td>\n",
       "      <td>4</td>\n",
       "      <td>NaN</td>\n",
       "    </tr>\n",
       "  </tbody>\n",
       "</table>\n",
       "<p>2348 rows × 20 columns</p>\n",
       "</div>"
      ],
      "text/plain": [
       "        station_id  available_bikes  available_bike_stands  status  \\\n",
       "491568          30                0                      0       1   \n",
       "491682          30                0                      0       1   \n",
       "491796          30                0                      0       1   \n",
       "491903          23                0                      0       1   \n",
       "491910          30                0                      0       1   \n",
       "...            ...              ...                    ...     ...   \n",
       "582157          87                0                      0       1   \n",
       "582271          87                0                      0       1   \n",
       "582385          87                0                      0       1   \n",
       "582499          87                0                      0       1   \n",
       "824402          82                0                      0       1   \n",
       "\n",
       "        temperature  pressure  humidity  clouds  wind_speed_beaufort  \\\n",
       "491568         14.5     994.9      71.3    54.4                    3   \n",
       "491682         14.5     994.9      71.3    54.4                    3   \n",
       "491796         14.5     994.9      71.3    54.4                    3   \n",
       "491903         14.5     994.9      71.3    54.4                    3   \n",
       "491910         14.5     994.9      71.3    54.4                    3   \n",
       "...             ...       ...       ...     ...                  ...   \n",
       "582157         12.2    1010.9      82.5   100.0                    2   \n",
       "582271         12.2    1010.9      82.5   100.0                    2   \n",
       "582385         12.2    1010.9      82.5   100.0                    2   \n",
       "582499         13.0    1010.8      78.1    99.7                    3   \n",
       "824402         14.0     997.0      69.6    62.7                    3   \n",
       "\n",
       "        wind_direction  precipitation_value  precipitation_min  \\\n",
       "491568           206.1                  0.0                0.0   \n",
       "491682           206.1                  0.0                0.0   \n",
       "491796           206.1                  0.0                0.0   \n",
       "491903           206.1                  0.0                0.0   \n",
       "491910           206.1                  0.0                0.0   \n",
       "...                ...                  ...                ...   \n",
       "582157           208.3                  0.0                0.0   \n",
       "582271           208.3                  0.0                0.0   \n",
       "582385           208.3                  0.0                0.0   \n",
       "582499           211.6                  0.0                0.0   \n",
       "824402           219.2                  0.0                0.0   \n",
       "\n",
       "        precipitation_max  precipitation_probability  wind_speed_mps  \\\n",
       "491568                0.0                        0.0             4.9   \n",
       "491682                0.0                        0.0             4.9   \n",
       "491796                0.0                        0.0             4.9   \n",
       "491903                0.0                        0.0             4.9   \n",
       "491910                0.0                        0.0             4.9   \n",
       "...                   ...                        ...             ...   \n",
       "582157                0.0                        0.0             3.2   \n",
       "582271                0.0                        0.0             3.2   \n",
       "582385                0.0                        0.0             3.2   \n",
       "582499                0.0                        5.1             4.1   \n",
       "824402                0.1                        1.8             5.3   \n",
       "\n",
       "        temperature_feels_like  day_flag  time  day  availabilty_ratio  \n",
       "491568                   14.60         1   169    4                NaN  \n",
       "491682                   14.60         1   170    4                NaN  \n",
       "491796                   14.60         1   170    4                NaN  \n",
       "491903                   14.80         1   172    4                NaN  \n",
       "491910                   14.80         1   172    4                NaN  \n",
       "...                        ...       ...   ...  ...                ...  \n",
       "582157                   11.47         1   105    1                NaN  \n",
       "582271                   11.66         1   106    1                NaN  \n",
       "582385                   11.65         1   107    1                NaN  \n",
       "582499                   11.78         1   110    1                NaN  \n",
       "824402                   13.20         1   137    4                NaN  \n",
       "\n",
       "[2348 rows x 20 columns]"
      ]
     },
     "execution_count": 12,
     "metadata": {},
     "output_type": "execute_result"
    }
   ],
   "source": [
    "df.loc[df['availabilty_ratio'].isnull()]"
   ]
  },
  {
   "attachments": {},
   "cell_type": "markdown",
   "metadata": {},
   "source": [
    "-> Seems to be an error or a time where station is closed if bike and stands is 0. Those rows will be dropped"
   ]
  },
  {
   "cell_type": "code",
   "execution_count": 13,
   "metadata": {},
   "outputs": [],
   "source": [
    "df = df.loc[df['availabilty_ratio'].notnull()]"
   ]
  },
  {
   "cell_type": "code",
   "execution_count": 14,
   "metadata": {},
   "outputs": [
    {
     "name": "stdout",
     "output_type": "stream",
     "text": [
      "1 min: 28 mean: 31.0 max: 31 - 690\n",
      "2 min: 19 mean: 20.0 max: 20 - 149\n",
      "3 min: 18 mean: 20.0 max: 20 - 460\n",
      "4 min: 19 mean: 20.0 max: 20 - 449\n",
      "5 min: 38 mean: 40.0 max: 40 - 739\n",
      "6 min: 12 mean: 20.0 max: 20 - 147\n",
      "7 min: 28 mean: 29.0 max: 29 - 208\n",
      "8 min: 26 mean: 30.0 max: 30 - 725\n",
      "9 min: 21 mean: 24.0 max: 24 - 566\n",
      "10 min: 14 mean: 16.0 max: 16 - 691\n",
      "11 min: 28 mean: 30.0 max: 30 - 402\n",
      "12 min: 19 mean: 20.0 max: 20 - 96\n",
      "13 min: 27 mean: 30.0 max: 30 - 932\n",
      "14 min: 27 mean: 30.0 max: 30 - 1082\n",
      "15 min: 12 mean: 13.0 max: 13 - 179\n",
      "16 min: 18 mean: 20.0 max: 20 - 553\n",
      "17 min: 18 mean: 20.0 max: 20 - 794\n",
      "18 min: 28 mean: 30.0 max: 30 - 944\n",
      "19 min: 27 mean: 30.0 max: 30 - 1369\n",
      "20 min: 28 mean: 30.0 max: 30 - 251\n",
      "21 min: 27 mean: 30.0 max: 30 - 374\n",
      "22 min: 17 mean: 19.0 max: 19 - 666\n",
      "23 min: 6 mean: 30.0 max: 30 - 916\n",
      "24 min: 18 mean: 20.0 max: 20 - 1049\n",
      "25 min: 27 mean: 30.0 max: 30 - 616\n",
      "26 min: 18 mean: 20.0 max: 20 - 690\n",
      "27 min: 18 mean: 20.0 max: 20 - 809\n",
      "28 min: 29 mean: 30.0 max: 30 - 262\n",
      "29 min: 27 mean: 29.0 max: 29 - 1033\n",
      "30 min: 18 mean: 20.0 max: 20 - 208\n",
      "31 min: 18 mean: 20.0 max: 20 - 180\n",
      "32 min: 27 mean: 30.0 max: 30 - 528\n",
      "33 min: 20 mean: 23.0 max: 23 - 803\n",
      "34 min: 25 mean: 30.0 max: 30 - 357\n",
      "35 min: 27 mean: 29.0 max: 29 - 456\n",
      "36 min: 38 mean: 40.0 max: 40 - 363\n",
      "37 min: 28 mean: 30.0 max: 30 - 585\n",
      "38 min: 35 mean: 40.0 max: 40 - 1396\n",
      "39 min: 18 mean: 20.0 max: 20 - 371\n",
      "40 min: 19 mean: 21.0 max: 21 - 525\n",
      "41 min: 19 mean: 20.0 max: 20 - 224\n",
      "42 min: 28 mean: 30.0 max: 30 - 501\n",
      "43 min: 29 mean: 30.0 max: 30 - 559\n",
      "44 min: 29 mean: 30.0 max: 30 - 169\n",
      "45 min: 27 mean: 30.0 max: 30 - 205\n",
      "47 min: 38 mean: 40.0 max: 40 - 252\n",
      "48 min: 36 mean: 40.0 max: 40 - 658\n",
      "49 min: 36 mean: 40.0 max: 40 - 702\n",
      "50 min: 37 mean: 40.0 max: 40 - 460\n",
      "51 min: 36 mean: 40.0 max: 40 - 753\n",
      "52 min: 31 mean: 32.0 max: 32 - 292\n",
      "53 min: 38 mean: 40.0 max: 40 - 305\n",
      "54 min: 31 mean: 33.0 max: 33 - 270\n",
      "55 min: 28 mean: 34.0 max: 36 - 2922\n",
      "56 min: 26 mean: 40.0 max: 40 - 1011\n",
      "57 min: 21 mean: 23.0 max: 23 - 161\n",
      "58 min: 36 mean: 40.0 max: 40 - 706\n",
      "59 min: 19 mean: 20.0 max: 20 - 29\n",
      "60 min: 29 mean: 30.0 max: 30 - 160\n",
      "61 min: 24 mean: 25.0 max: 25 - 37\n",
      "62 min: 17 mean: 40.0 max: 40 - 2451\n",
      "63 min: 33 mean: 35.0 max: 35 - 530\n",
      "64 min: 37 mean: 40.0 max: 40 - 638\n",
      "65 min: 35 mean: 40.0 max: 40 - 563\n",
      "66 min: 37 mean: 40.0 max: 40 - 522\n",
      "67 min: 38 mean: 40.0 max: 40 - 987\n",
      "68 min: 37 mean: 40.0 max: 40 - 464\n",
      "69 min: 35 mean: 40.0 max: 40 - 702\n",
      "71 min: 38 mean: 40.0 max: 40 - 151\n",
      "72 min: 30 mean: 31.0 max: 31 - 48\n",
      "73 min: 29 mean: 30.0 max: 30 - 46\n",
      "74 min: 28 mean: 30.0 max: 30 - 30\n",
      "75 min: 39 mean: 40.0 max: 40 - 277\n",
      "76 min: 36 mean: 38.0 max: 38 - 195\n",
      "77 min: 26 mean: 29.0 max: 29 - 370\n",
      "78 min: 37 mean: 40.0 max: 40 - 345\n",
      "79 min: 25 mean: 27.0 max: 27 - 120\n",
      "80 min: 39 mean: 40.0 max: 40 - 127\n",
      "82 min: 2 mean: 8.0 max: 22 - 575\n",
      "83 min: 38 mean: 40.0 max: 40 - 485\n",
      "84 min: 29 mean: 30.0 max: 30 - 20\n",
      "85 min: 34 mean: 35.0 max: 35 - 53\n",
      "86 min: 36 mean: 38.0 max: 38 - 323\n",
      "87 min: 10 mean: 38.0 max: 38 - 149\n",
      "88 min: 29 mean: 30.0 max: 30 - 252\n",
      "89 min: 39 mean: 40.0 max: 40 - 205\n",
      "90 min: 35 mean: 40.0 max: 40 - 707\n",
      "91 min: 26 mean: 30.0 max: 30 - 581\n",
      "92 min: 36 mean: 40.0 max: 40 - 100\n",
      "93 min: 36 mean: 40.0 max: 40 - 370\n",
      "94 min: 38 mean: 40.0 max: 40 - 104\n",
      "95 min: 35 mean: 40.0 max: 40 - 353\n",
      "96 min: 27 mean: 30.0 max: 30 - 29\n",
      "97 min: 38 mean: 40.0 max: 40 - 100\n",
      "98 min: 38 mean: 40.0 max: 40 - 691\n",
      "99 min: 28 mean: 30.0 max: 30 - 288\n",
      "100 min: 19 mean: 25.0 max: 25 - 428\n",
      "101 min: 29 mean: 30.0 max: 30 - 184\n",
      "102 min: 38 mean: 40.0 max: 40 - 429\n",
      "103 min: 39 mean: 40.0 max: 40 - 118\n",
      "104 min: 38 mean: 40.0 max: 40 - 235\n",
      "105 min: 33 mean: 36.0 max: 36 - 64\n",
      "106 min: 38 mean: 40.0 max: 40 - 1583\n",
      "107 min: 38 mean: 40.0 max: 40 - 90\n",
      "108 min: 33 mean: 35.0 max: 35 - 117\n",
      "109 min: 28 mean: 29.0 max: 29 - 256\n",
      "110 min: 38 mean: 40.0 max: 40 - 109\n",
      "111 min: 39 mean: 40.0 max: 40 - 40\n",
      "112 min: 29 mean: 30.0 max: 30 - 251\n",
      "113 min: 39 mean: 40.0 max: 40 - 146\n",
      "114 min: 36 mean: 40.0 max: 40 - 784\n",
      "115 min: 27 mean: 30.0 max: 30 - 441\n",
      "116 min: 29 mean: 30.0 max: 30 - 7\n",
      "117 min: 38 mean: 40.0 max: 40 - 470\n"
     ]
    }
   ],
   "source": [
    "df['max_stands'] = df['available_bikes'] + df['available_bike_stands']\n",
    "stations_unique = sorted(df[\"station_id\"].unique())\n",
    "for station in stations_unique:\n",
    "    df_station = df.loc[df[\"station_id\"] == station]\n",
    "    df_clean_station = df_station.loc[df_station[\"max_stands\"] == df_station[\"max_stands\"].median()]\n",
    "    print(station, \"min:\", df_station[\"max_stands\"].min(), \"mean:\", df_station[\"max_stands\"].median(),\"max:\", df_station[\"max_stands\"].max(),\"-\", df_station.shape[0] - df_clean_station.shape[0])"
   ]
  },
  {
   "cell_type": "code",
   "execution_count": 15,
   "metadata": {},
   "outputs": [
    {
     "name": "stdout",
     "output_type": "stream",
     "text": [
      "327808\n",
      "987624\n"
     ]
    }
   ],
   "source": [
    "print(df.loc[(df[\"max_stands\"].median()-3 < df[\"max_stands\"]) & (df[\"max_stands\"] < df[\"max_stands\"].median()+3)].shape[0])\n",
    "print(df.shape[0])"
   ]
  },
  {
   "attachments": {},
   "cell_type": "markdown",
   "metadata": {},
   "source": [
    "-> Seems like many rows don't add up"
   ]
  },
  {
   "cell_type": "code",
   "execution_count": 16,
   "metadata": {},
   "outputs": [
    {
     "name": "stdout",
     "output_type": "stream",
     "text": [
      "1 min: 31 mean: 31.0 max: 31 - 0\n",
      "2 min: 20 mean: 20.0 max: 20 - 0\n",
      "3 min: 20 mean: 20.0 max: 20 - 0\n",
      "4 min: 20 mean: 20.0 max: 20 - 0\n",
      "5 min: 40 mean: 40.0 max: 40 - 0\n",
      "6 min: 20 mean: 20.0 max: 20 - 0\n",
      "7 min: 29 mean: 29.0 max: 29 - 0\n",
      "8 min: 30 mean: 30.0 max: 30 - 0\n",
      "9 min: 24 mean: 24.0 max: 24 - 0\n",
      "10 min: 16 mean: 16.0 max: 16 - 0\n",
      "11 min: 30 mean: 30.0 max: 30 - 0\n",
      "12 min: 20 mean: 20.0 max: 20 - 0\n",
      "13 min: 30 mean: 30.0 max: 30 - 0\n",
      "14 min: 30 mean: 30.0 max: 30 - 0\n",
      "15 min: 13 mean: 13.0 max: 13 - 0\n",
      "16 min: 20 mean: 20.0 max: 20 - 0\n",
      "17 min: 20 mean: 20.0 max: 20 - 0\n",
      "18 min: 30 mean: 30.0 max: 30 - 0\n",
      "19 min: 30 mean: 30.0 max: 30 - 0\n",
      "20 min: 30 mean: 30.0 max: 30 - 0\n",
      "21 min: 30 mean: 30.0 max: 30 - 0\n",
      "22 min: 19 mean: 19.0 max: 19 - 0\n",
      "23 min: 30 mean: 30.0 max: 30 - 0\n",
      "24 min: 20 mean: 20.0 max: 20 - 0\n",
      "25 min: 30 mean: 30.0 max: 30 - 0\n",
      "26 min: 20 mean: 20.0 max: 20 - 0\n",
      "27 min: 20 mean: 20.0 max: 20 - 0\n",
      "28 min: 30 mean: 30.0 max: 30 - 0\n",
      "29 min: 29 mean: 29.0 max: 29 - 0\n",
      "30 min: 20 mean: 20.0 max: 20 - 0\n",
      "31 min: 20 mean: 20.0 max: 20 - 0\n",
      "32 min: 30 mean: 30.0 max: 30 - 0\n",
      "33 min: 23 mean: 23.0 max: 23 - 0\n",
      "34 min: 30 mean: 30.0 max: 30 - 0\n",
      "35 min: 29 mean: 29.0 max: 29 - 0\n",
      "36 min: 40 mean: 40.0 max: 40 - 0\n",
      "37 min: 30 mean: 30.0 max: 30 - 0\n",
      "38 min: 40 mean: 40.0 max: 40 - 0\n",
      "39 min: 20 mean: 20.0 max: 20 - 0\n",
      "40 min: 21 mean: 21.0 max: 21 - 0\n",
      "41 min: 20 mean: 20.0 max: 20 - 0\n",
      "42 min: 30 mean: 30.0 max: 30 - 0\n",
      "43 min: 30 mean: 30.0 max: 30 - 0\n",
      "44 min: 30 mean: 30.0 max: 30 - 0\n",
      "45 min: 30 mean: 30.0 max: 30 - 0\n",
      "47 min: 40 mean: 40.0 max: 40 - 0\n",
      "48 min: 40 mean: 40.0 max: 40 - 0\n",
      "49 min: 40 mean: 40.0 max: 40 - 0\n",
      "50 min: 40 mean: 40.0 max: 40 - 0\n",
      "51 min: 40 mean: 40.0 max: 40 - 0\n",
      "52 min: 32 mean: 32.0 max: 32 - 0\n",
      "53 min: 40 mean: 40.0 max: 40 - 0\n",
      "54 min: 33 mean: 33.0 max: 33 - 0\n",
      "55 min: 34 mean: 34.0 max: 34 - 0\n",
      "56 min: 40 mean: 40.0 max: 40 - 0\n",
      "57 min: 23 mean: 23.0 max: 23 - 0\n",
      "58 min: 40 mean: 40.0 max: 40 - 0\n",
      "59 min: 20 mean: 20.0 max: 20 - 0\n",
      "60 min: 30 mean: 30.0 max: 30 - 0\n",
      "61 min: 25 mean: 25.0 max: 25 - 0\n",
      "62 min: 40 mean: 40.0 max: 40 - 0\n",
      "63 min: 35 mean: 35.0 max: 35 - 0\n",
      "64 min: 40 mean: 40.0 max: 40 - 0\n",
      "65 min: 40 mean: 40.0 max: 40 - 0\n",
      "66 min: 40 mean: 40.0 max: 40 - 0\n",
      "67 min: 40 mean: 40.0 max: 40 - 0\n",
      "68 min: 40 mean: 40.0 max: 40 - 0\n",
      "69 min: 40 mean: 40.0 max: 40 - 0\n",
      "71 min: 40 mean: 40.0 max: 40 - 0\n",
      "72 min: 31 mean: 31.0 max: 31 - 0\n",
      "73 min: 30 mean: 30.0 max: 30 - 0\n",
      "74 min: 30 mean: 30.0 max: 30 - 0\n",
      "75 min: 40 mean: 40.0 max: 40 - 0\n",
      "76 min: 38 mean: 38.0 max: 38 - 0\n",
      "77 min: 29 mean: 29.0 max: 29 - 0\n",
      "78 min: 40 mean: 40.0 max: 40 - 0\n",
      "79 min: 27 mean: 27.0 max: 27 - 0\n",
      "80 min: 40 mean: 40.0 max: 40 - 0\n",
      "82 min: 8 mean: 8.0 max: 8 - 0\n",
      "83 min: 40 mean: 40.0 max: 40 - 0\n",
      "84 min: 30 mean: 30.0 max: 30 - 0\n",
      "85 min: 35 mean: 35.0 max: 35 - 0\n",
      "86 min: 38 mean: 38.0 max: 38 - 0\n",
      "87 min: 38 mean: 38.0 max: 38 - 0\n",
      "88 min: 30 mean: 30.0 max: 30 - 0\n",
      "89 min: 40 mean: 40.0 max: 40 - 0\n",
      "90 min: 40 mean: 40.0 max: 40 - 0\n",
      "91 min: 30 mean: 30.0 max: 30 - 0\n",
      "92 min: 40 mean: 40.0 max: 40 - 0\n",
      "93 min: 40 mean: 40.0 max: 40 - 0\n",
      "94 min: 40 mean: 40.0 max: 40 - 0\n",
      "95 min: 40 mean: 40.0 max: 40 - 0\n",
      "96 min: 30 mean: 30.0 max: 30 - 0\n",
      "97 min: 40 mean: 40.0 max: 40 - 0\n",
      "98 min: 40 mean: 40.0 max: 40 - 0\n",
      "99 min: 30 mean: 30.0 max: 30 - 0\n",
      "100 min: 25 mean: 25.0 max: 25 - 0\n",
      "101 min: 30 mean: 30.0 max: 30 - 0\n",
      "102 min: 40 mean: 40.0 max: 40 - 0\n",
      "103 min: 40 mean: 40.0 max: 40 - 0\n",
      "104 min: 40 mean: 40.0 max: 40 - 0\n",
      "105 min: 36 mean: 36.0 max: 36 - 0\n",
      "106 min: 40 mean: 40.0 max: 40 - 0\n",
      "107 min: 40 mean: 40.0 max: 40 - 0\n",
      "108 min: 35 mean: 35.0 max: 35 - 0\n",
      "109 min: 29 mean: 29.0 max: 29 - 0\n",
      "110 min: 40 mean: 40.0 max: 40 - 0\n",
      "111 min: 40 mean: 40.0 max: 40 - 0\n",
      "112 min: 30 mean: 30.0 max: 30 - 0\n",
      "113 min: 40 mean: 40.0 max: 40 - 0\n",
      "114 min: 40 mean: 40.0 max: 40 - 0\n",
      "115 min: 30 mean: 30.0 max: 30 - 0\n",
      "116 min: 30 mean: 30.0 max: 30 - 0\n",
      "117 min: 40 mean: 40.0 max: 40 - 0\n"
     ]
    }
   ],
   "source": [
    "for station in stations_unique:\n",
    "    df.loc[df[\"station_id\"] == station, 'max_stands'] = round(df.loc[df[\"station_id\"] == station, 'max_stands'].median())\n",
    "\n",
    "for station in stations_unique:\n",
    "    df_station = df.loc[df[\"station_id\"] == station]\n",
    "    df_clean_station = df_station.loc[df_station[\"max_stands\"] == df_station[\"max_stands\"].median()]\n",
    "    print(station, \"min:\", df_station[\"max_stands\"].min(), \"mean:\", df_station[\"max_stands\"].median(),\"max:\", df_station[\"max_stands\"].max(),\"-\", df_station.shape[0] - df_clean_station.shape[0])"
   ]
  },
  {
   "attachments": {},
   "cell_type": "markdown",
   "metadata": {},
   "source": [
    "## Redo: Ratio:"
   ]
  },
  {
   "cell_type": "code",
   "execution_count": 17,
   "metadata": {},
   "outputs": [],
   "source": [
    "df['availabilty_ratio'] = df['available_bikes'] / df['max_stands']"
   ]
  },
  {
   "cell_type": "code",
   "execution_count": 18,
   "metadata": {},
   "outputs": [],
   "source": [
    "def correlation(df):\n",
    "    # Correlation matrix using code found on https://stanford.edu/~mwaskom/software/seaborn/examples/many_pairwise_correlations.html\n",
    "    sns.set(style=\"white\")\n",
    "\n",
    "    # Calculate correlation of all pairs of continuous features\n",
    "    corr = df.corr()\n",
    "\n",
    "    # Generate a mask for the upper triangle\n",
    "    mask = np.zeros_like(corr, dtype=np.bool)\n",
    "    mask[np.triu_indices_from(mask)] = True\n",
    "\n",
    "    # Set up the matplotlib figure\n",
    "    f, ax = plt.subplots(figsize=(11, 9))\n",
    "\n",
    "    # Generate a custom colormap - blue and red\n",
    "    cmap = sns.diverging_palette(220, 10, as_cmap=True)\n",
    "\n",
    "    # Draw the heatmap with the mask and correct aspect ratio\n",
    "    sns.heatmap(corr, annot=True, mask=mask, cmap=cmap, vmax=1, vmin=-1,\n",
    "                square=True, xticklabels=True, yticklabels=True,\n",
    "                linewidths=.5, cbar_kws={\"shrink\": .5}, ax=ax)\n",
    "    plt.yticks(rotation = 0)\n",
    "    plt.xticks(rotation = 45)"
   ]
  },
  {
   "cell_type": "code",
   "execution_count": 19,
   "metadata": {},
   "outputs": [
    {
     "data": {
      "text/html": [
       "<div>\n",
       "<style scoped>\n",
       "    .dataframe tbody tr th:only-of-type {\n",
       "        vertical-align: middle;\n",
       "    }\n",
       "\n",
       "    .dataframe tbody tr th {\n",
       "        vertical-align: top;\n",
       "    }\n",
       "\n",
       "    .dataframe thead th {\n",
       "        text-align: right;\n",
       "    }\n",
       "</style>\n",
       "<table border=\"1\" class=\"dataframe\">\n",
       "  <thead>\n",
       "    <tr style=\"text-align: right;\">\n",
       "      <th></th>\n",
       "      <th>station_id</th>\n",
       "      <th>available_bikes</th>\n",
       "      <th>available_bike_stands</th>\n",
       "      <th>status</th>\n",
       "      <th>temperature</th>\n",
       "      <th>pressure</th>\n",
       "      <th>humidity</th>\n",
       "      <th>clouds</th>\n",
       "      <th>wind_speed_beaufort</th>\n",
       "      <th>wind_direction</th>\n",
       "      <th>...</th>\n",
       "      <th>precipitation_min</th>\n",
       "      <th>precipitation_max</th>\n",
       "      <th>precipitation_probability</th>\n",
       "      <th>wind_speed_mps</th>\n",
       "      <th>temperature_feels_like</th>\n",
       "      <th>day_flag</th>\n",
       "      <th>time</th>\n",
       "      <th>day</th>\n",
       "      <th>availabilty_ratio</th>\n",
       "      <th>max_stands</th>\n",
       "    </tr>\n",
       "  </thead>\n",
       "  <tbody>\n",
       "    <tr>\n",
       "      <th>station_id</th>\n",
       "      <td>1.000000</td>\n",
       "      <td>0.069954</td>\n",
       "      <td>0.316350</td>\n",
       "      <td>-0.000120</td>\n",
       "      <td>0.001161</td>\n",
       "      <td>-0.001610</td>\n",
       "      <td>0.000874</td>\n",
       "      <td>-0.000321</td>\n",
       "      <td>-0.000739</td>\n",
       "      <td>0.000260</td>\n",
       "      <td>...</td>\n",
       "      <td>-0.000146</td>\n",
       "      <td>-0.000232</td>\n",
       "      <td>-0.000239</td>\n",
       "      <td>-0.000731</td>\n",
       "      <td>0.001216</td>\n",
       "      <td>-0.000084</td>\n",
       "      <td>0.000045</td>\n",
       "      <td>-0.000846</td>\n",
       "      <td>-0.089985</td>\n",
       "      <td>0.526522</td>\n",
       "    </tr>\n",
       "    <tr>\n",
       "      <th>available_bikes</th>\n",
       "      <td>0.069954</td>\n",
       "      <td>1.000000</td>\n",
       "      <td>-0.717159</td>\n",
       "      <td>-0.025263</td>\n",
       "      <td>-0.021311</td>\n",
       "      <td>-0.000416</td>\n",
       "      <td>0.014414</td>\n",
       "      <td>0.000475</td>\n",
       "      <td>-0.001690</td>\n",
       "      <td>-0.001023</td>\n",
       "      <td>...</td>\n",
       "      <td>0.003363</td>\n",
       "      <td>0.001842</td>\n",
       "      <td>0.000828</td>\n",
       "      <td>-0.000981</td>\n",
       "      <td>-0.019580</td>\n",
       "      <td>-0.036942</td>\n",
       "      <td>-0.012830</td>\n",
       "      <td>-0.013079</td>\n",
       "      <td>0.916704</td>\n",
       "      <td>0.220123</td>\n",
       "    </tr>\n",
       "    <tr>\n",
       "      <th>available_bike_stands</th>\n",
       "      <td>0.316350</td>\n",
       "      <td>-0.717159</td>\n",
       "      <td>1.000000</td>\n",
       "      <td>0.020921</td>\n",
       "      <td>0.015733</td>\n",
       "      <td>0.000235</td>\n",
       "      <td>-0.012937</td>\n",
       "      <td>-0.002355</td>\n",
       "      <td>0.001444</td>\n",
       "      <td>-0.000442</td>\n",
       "      <td>...</td>\n",
       "      <td>-0.002994</td>\n",
       "      <td>-0.002040</td>\n",
       "      <td>-0.001539</td>\n",
       "      <td>0.001129</td>\n",
       "      <td>0.014439</td>\n",
       "      <td>0.029183</td>\n",
       "      <td>0.012073</td>\n",
       "      <td>0.009193</td>\n",
       "      <td>-0.873082</td>\n",
       "      <td>0.515979</td>\n",
       "    </tr>\n",
       "    <tr>\n",
       "      <th>status</th>\n",
       "      <td>-0.000120</td>\n",
       "      <td>-0.025263</td>\n",
       "      <td>0.020921</td>\n",
       "      <td>1.000000</td>\n",
       "      <td>0.150919</td>\n",
       "      <td>0.010461</td>\n",
       "      <td>-0.208519</td>\n",
       "      <td>-0.029357</td>\n",
       "      <td>0.046861</td>\n",
       "      <td>-0.021596</td>\n",
       "      <td>...</td>\n",
       "      <td>0.008488</td>\n",
       "      <td>0.011885</td>\n",
       "      <td>0.004727</td>\n",
       "      <td>0.045742</td>\n",
       "      <td>0.117554</td>\n",
       "      <td>0.466250</td>\n",
       "      <td>0.628188</td>\n",
       "      <td>-0.007621</td>\n",
       "      <td>-0.029271</td>\n",
       "      <td>-0.000096</td>\n",
       "    </tr>\n",
       "    <tr>\n",
       "      <th>temperature</th>\n",
       "      <td>0.001161</td>\n",
       "      <td>-0.021311</td>\n",
       "      <td>0.015733</td>\n",
       "      <td>0.150919</td>\n",
       "      <td>1.000000</td>\n",
       "      <td>-0.240283</td>\n",
       "      <td>0.055736</td>\n",
       "      <td>0.030044</td>\n",
       "      <td>0.139247</td>\n",
       "      <td>0.136198</td>\n",
       "      <td>...</td>\n",
       "      <td>-0.173884</td>\n",
       "      <td>-0.080384</td>\n",
       "      <td>-0.034665</td>\n",
       "      <td>0.137001</td>\n",
       "      <td>0.960479</td>\n",
       "      <td>0.273407</td>\n",
       "      <td>0.130750</td>\n",
       "      <td>0.038472</td>\n",
       "      <td>-0.024195</td>\n",
       "      <td>0.000684</td>\n",
       "    </tr>\n",
       "    <tr>\n",
       "      <th>pressure</th>\n",
       "      <td>-0.001610</td>\n",
       "      <td>-0.000416</td>\n",
       "      <td>0.000235</td>\n",
       "      <td>0.010461</td>\n",
       "      <td>-0.240283</td>\n",
       "      <td>1.000000</td>\n",
       "      <td>-0.207645</td>\n",
       "      <td>0.049737</td>\n",
       "      <td>-0.458595</td>\n",
       "      <td>-0.274173</td>\n",
       "      <td>...</td>\n",
       "      <td>-0.287117</td>\n",
       "      <td>-0.316247</td>\n",
       "      <td>-0.348712</td>\n",
       "      <td>-0.493536</td>\n",
       "      <td>-0.217657</td>\n",
       "      <td>-0.004994</td>\n",
       "      <td>-0.006521</td>\n",
       "      <td>-0.050660</td>\n",
       "      <td>0.002571</td>\n",
       "      <td>-0.000322</td>\n",
       "    </tr>\n",
       "    <tr>\n",
       "      <th>humidity</th>\n",
       "      <td>0.000874</td>\n",
       "      <td>0.014414</td>\n",
       "      <td>-0.012937</td>\n",
       "      <td>-0.208519</td>\n",
       "      <td>0.055736</td>\n",
       "      <td>-0.207645</td>\n",
       "      <td>1.000000</td>\n",
       "      <td>0.257876</td>\n",
       "      <td>0.033070</td>\n",
       "      <td>0.225267</td>\n",
       "      <td>...</td>\n",
       "      <td>0.336262</td>\n",
       "      <td>0.392311</td>\n",
       "      <td>0.442597</td>\n",
       "      <td>0.013000</td>\n",
       "      <td>0.095340</td>\n",
       "      <td>-0.304926</td>\n",
       "      <td>-0.175024</td>\n",
       "      <td>-0.099047</td>\n",
       "      <td>0.022276</td>\n",
       "      <td>0.000463</td>\n",
       "    </tr>\n",
       "    <tr>\n",
       "      <th>clouds</th>\n",
       "      <td>-0.000321</td>\n",
       "      <td>0.000475</td>\n",
       "      <td>-0.002355</td>\n",
       "      <td>-0.029357</td>\n",
       "      <td>0.030044</td>\n",
       "      <td>0.049737</td>\n",
       "      <td>0.257876</td>\n",
       "      <td>1.000000</td>\n",
       "      <td>-0.087124</td>\n",
       "      <td>-0.071804</td>\n",
       "      <td>...</td>\n",
       "      <td>0.181464</td>\n",
       "      <td>0.223762</td>\n",
       "      <td>0.260239</td>\n",
       "      <td>-0.112180</td>\n",
       "      <td>0.061678</td>\n",
       "      <td>0.019149</td>\n",
       "      <td>-0.076763</td>\n",
       "      <td>-0.017599</td>\n",
       "      <td>0.001251</td>\n",
       "      <td>-0.000510</td>\n",
       "    </tr>\n",
       "    <tr>\n",
       "      <th>wind_speed_beaufort</th>\n",
       "      <td>-0.000739</td>\n",
       "      <td>-0.001690</td>\n",
       "      <td>0.001444</td>\n",
       "      <td>0.046861</td>\n",
       "      <td>0.139247</td>\n",
       "      <td>-0.458595</td>\n",
       "      <td>0.033070</td>\n",
       "      <td>-0.087124</td>\n",
       "      <td>1.000000</td>\n",
       "      <td>0.077898</td>\n",
       "      <td>...</td>\n",
       "      <td>0.298113</td>\n",
       "      <td>0.301210</td>\n",
       "      <td>0.290138</td>\n",
       "      <td>0.957294</td>\n",
       "      <td>0.060903</td>\n",
       "      <td>0.064602</td>\n",
       "      <td>0.047132</td>\n",
       "      <td>0.133833</td>\n",
       "      <td>-0.005167</td>\n",
       "      <td>-0.000972</td>\n",
       "    </tr>\n",
       "    <tr>\n",
       "      <th>wind_direction</th>\n",
       "      <td>0.000260</td>\n",
       "      <td>-0.001023</td>\n",
       "      <td>-0.000442</td>\n",
       "      <td>-0.021596</td>\n",
       "      <td>0.136198</td>\n",
       "      <td>-0.274173</td>\n",
       "      <td>0.225267</td>\n",
       "      <td>-0.071804</td>\n",
       "      <td>0.077898</td>\n",
       "      <td>1.000000</td>\n",
       "      <td>...</td>\n",
       "      <td>-0.061068</td>\n",
       "      <td>0.012821</td>\n",
       "      <td>0.051466</td>\n",
       "      <td>0.070058</td>\n",
       "      <td>0.153989</td>\n",
       "      <td>-0.011531</td>\n",
       "      <td>-0.038460</td>\n",
       "      <td>-0.137233</td>\n",
       "      <td>0.000002</td>\n",
       "      <td>-0.000718</td>\n",
       "    </tr>\n",
       "    <tr>\n",
       "      <th>precipitation_value</th>\n",
       "      <td>-0.000172</td>\n",
       "      <td>0.002679</td>\n",
       "      <td>-0.002602</td>\n",
       "      <td>0.011929</td>\n",
       "      <td>-0.134063</td>\n",
       "      <td>-0.308733</td>\n",
       "      <td>0.360782</td>\n",
       "      <td>0.199505</td>\n",
       "      <td>0.298853</td>\n",
       "      <td>-0.022678</td>\n",
       "      <td>...</td>\n",
       "      <td>0.980202</td>\n",
       "      <td>0.974158</td>\n",
       "      <td>0.861801</td>\n",
       "      <td>0.288373</td>\n",
       "      <td>-0.141150</td>\n",
       "      <td>0.019698</td>\n",
       "      <td>0.056003</td>\n",
       "      <td>-0.033290</td>\n",
       "      <td>0.003019</td>\n",
       "      <td>-0.000459</td>\n",
       "    </tr>\n",
       "    <tr>\n",
       "      <th>precipitation_min</th>\n",
       "      <td>-0.000146</td>\n",
       "      <td>0.003363</td>\n",
       "      <td>-0.002994</td>\n",
       "      <td>0.008488</td>\n",
       "      <td>-0.173884</td>\n",
       "      <td>-0.287117</td>\n",
       "      <td>0.336262</td>\n",
       "      <td>0.181464</td>\n",
       "      <td>0.298113</td>\n",
       "      <td>-0.061068</td>\n",
       "      <td>...</td>\n",
       "      <td>1.000000</td>\n",
       "      <td>0.928947</td>\n",
       "      <td>0.799698</td>\n",
       "      <td>0.291406</td>\n",
       "      <td>-0.186580</td>\n",
       "      <td>-0.000428</td>\n",
       "      <td>0.048451</td>\n",
       "      <td>-0.017835</td>\n",
       "      <td>0.003791</td>\n",
       "      <td>-0.000393</td>\n",
       "    </tr>\n",
       "    <tr>\n",
       "      <th>precipitation_max</th>\n",
       "      <td>-0.000232</td>\n",
       "      <td>0.001842</td>\n",
       "      <td>-0.002040</td>\n",
       "      <td>0.011885</td>\n",
       "      <td>-0.080384</td>\n",
       "      <td>-0.316247</td>\n",
       "      <td>0.392311</td>\n",
       "      <td>0.223762</td>\n",
       "      <td>0.301210</td>\n",
       "      <td>0.012821</td>\n",
       "      <td>...</td>\n",
       "      <td>0.928947</td>\n",
       "      <td>1.000000</td>\n",
       "      <td>0.892570</td>\n",
       "      <td>0.288455</td>\n",
       "      <td>-0.084405</td>\n",
       "      <td>0.036286</td>\n",
       "      <td>0.053742</td>\n",
       "      <td>-0.040489</td>\n",
       "      <td>0.002067</td>\n",
       "      <td>-0.000521</td>\n",
       "    </tr>\n",
       "    <tr>\n",
       "      <th>precipitation_probability</th>\n",
       "      <td>-0.000239</td>\n",
       "      <td>0.000828</td>\n",
       "      <td>-0.001539</td>\n",
       "      <td>0.004727</td>\n",
       "      <td>-0.034665</td>\n",
       "      <td>-0.348712</td>\n",
       "      <td>0.442597</td>\n",
       "      <td>0.260239</td>\n",
       "      <td>0.290138</td>\n",
       "      <td>0.051466</td>\n",
       "      <td>...</td>\n",
       "      <td>0.799698</td>\n",
       "      <td>0.892570</td>\n",
       "      <td>1.000000</td>\n",
       "      <td>0.278138</td>\n",
       "      <td>-0.035210</td>\n",
       "      <td>0.026612</td>\n",
       "      <td>0.028246</td>\n",
       "      <td>-0.004386</td>\n",
       "      <td>0.000453</td>\n",
       "      <td>-0.000596</td>\n",
       "    </tr>\n",
       "    <tr>\n",
       "      <th>wind_speed_mps</th>\n",
       "      <td>-0.000731</td>\n",
       "      <td>-0.000981</td>\n",
       "      <td>0.001129</td>\n",
       "      <td>0.045742</td>\n",
       "      <td>0.137001</td>\n",
       "      <td>-0.493536</td>\n",
       "      <td>0.013000</td>\n",
       "      <td>-0.112180</td>\n",
       "      <td>0.957294</td>\n",
       "      <td>0.070058</td>\n",
       "      <td>...</td>\n",
       "      <td>0.291406</td>\n",
       "      <td>0.288455</td>\n",
       "      <td>0.278138</td>\n",
       "      <td>1.000000</td>\n",
       "      <td>0.057748</td>\n",
       "      <td>0.047933</td>\n",
       "      <td>0.068664</td>\n",
       "      <td>0.130837</td>\n",
       "      <td>-0.004162</td>\n",
       "      <td>-0.000960</td>\n",
       "    </tr>\n",
       "    <tr>\n",
       "      <th>temperature_feels_like</th>\n",
       "      <td>0.001216</td>\n",
       "      <td>-0.019580</td>\n",
       "      <td>0.014439</td>\n",
       "      <td>0.117554</td>\n",
       "      <td>0.960479</td>\n",
       "      <td>-0.217657</td>\n",
       "      <td>0.095340</td>\n",
       "      <td>0.061678</td>\n",
       "      <td>0.060903</td>\n",
       "      <td>0.153989</td>\n",
       "      <td>...</td>\n",
       "      <td>-0.186580</td>\n",
       "      <td>-0.084405</td>\n",
       "      <td>-0.035210</td>\n",
       "      <td>0.057748</td>\n",
       "      <td>1.000000</td>\n",
       "      <td>0.230067</td>\n",
       "      <td>0.131967</td>\n",
       "      <td>0.031835</td>\n",
       "      <td>-0.022254</td>\n",
       "      <td>0.000742</td>\n",
       "    </tr>\n",
       "    <tr>\n",
       "      <th>day_flag</th>\n",
       "      <td>-0.000084</td>\n",
       "      <td>-0.036942</td>\n",
       "      <td>0.029183</td>\n",
       "      <td>0.466250</td>\n",
       "      <td>0.273407</td>\n",
       "      <td>-0.004994</td>\n",
       "      <td>-0.304926</td>\n",
       "      <td>0.019149</td>\n",
       "      <td>0.064602</td>\n",
       "      <td>-0.011531</td>\n",
       "      <td>...</td>\n",
       "      <td>-0.000428</td>\n",
       "      <td>0.036286</td>\n",
       "      <td>0.026612</td>\n",
       "      <td>0.047933</td>\n",
       "      <td>0.230067</td>\n",
       "      <td>1.000000</td>\n",
       "      <td>0.112112</td>\n",
       "      <td>0.002243</td>\n",
       "      <td>-0.048614</td>\n",
       "      <td>-0.000164</td>\n",
       "    </tr>\n",
       "    <tr>\n",
       "      <th>time</th>\n",
       "      <td>0.000045</td>\n",
       "      <td>-0.012830</td>\n",
       "      <td>0.012073</td>\n",
       "      <td>0.628188</td>\n",
       "      <td>0.130750</td>\n",
       "      <td>-0.006521</td>\n",
       "      <td>-0.175024</td>\n",
       "      <td>-0.076763</td>\n",
       "      <td>0.047132</td>\n",
       "      <td>-0.038460</td>\n",
       "      <td>...</td>\n",
       "      <td>0.048451</td>\n",
       "      <td>0.053742</td>\n",
       "      <td>0.028246</td>\n",
       "      <td>0.068664</td>\n",
       "      <td>0.131967</td>\n",
       "      <td>0.112112</td>\n",
       "      <td>1.000000</td>\n",
       "      <td>-0.015056</td>\n",
       "      <td>-0.011010</td>\n",
       "      <td>0.000018</td>\n",
       "    </tr>\n",
       "    <tr>\n",
       "      <th>day</th>\n",
       "      <td>-0.000846</td>\n",
       "      <td>-0.013079</td>\n",
       "      <td>0.009193</td>\n",
       "      <td>-0.007621</td>\n",
       "      <td>0.038472</td>\n",
       "      <td>-0.050660</td>\n",
       "      <td>-0.099047</td>\n",
       "      <td>-0.017599</td>\n",
       "      <td>0.133833</td>\n",
       "      <td>-0.137233</td>\n",
       "      <td>...</td>\n",
       "      <td>-0.017835</td>\n",
       "      <td>-0.040489</td>\n",
       "      <td>-0.004386</td>\n",
       "      <td>0.130837</td>\n",
       "      <td>0.031835</td>\n",
       "      <td>0.002243</td>\n",
       "      <td>-0.015056</td>\n",
       "      <td>1.000000</td>\n",
       "      <td>-0.023215</td>\n",
       "      <td>-0.000705</td>\n",
       "    </tr>\n",
       "    <tr>\n",
       "      <th>availabilty_ratio</th>\n",
       "      <td>-0.089985</td>\n",
       "      <td>0.916704</td>\n",
       "      <td>-0.873082</td>\n",
       "      <td>-0.029271</td>\n",
       "      <td>-0.024195</td>\n",
       "      <td>0.002571</td>\n",
       "      <td>0.022276</td>\n",
       "      <td>0.001251</td>\n",
       "      <td>-0.005167</td>\n",
       "      <td>0.000002</td>\n",
       "      <td>...</td>\n",
       "      <td>0.003791</td>\n",
       "      <td>0.002067</td>\n",
       "      <td>0.000453</td>\n",
       "      <td>-0.004162</td>\n",
       "      <td>-0.022254</td>\n",
       "      <td>-0.048614</td>\n",
       "      <td>-0.011010</td>\n",
       "      <td>-0.023215</td>\n",
       "      <td>1.000000</td>\n",
       "      <td>-0.103082</td>\n",
       "    </tr>\n",
       "    <tr>\n",
       "      <th>max_stands</th>\n",
       "      <td>0.526522</td>\n",
       "      <td>0.220123</td>\n",
       "      <td>0.515979</td>\n",
       "      <td>-0.000096</td>\n",
       "      <td>0.000684</td>\n",
       "      <td>-0.000322</td>\n",
       "      <td>0.000463</td>\n",
       "      <td>-0.000510</td>\n",
       "      <td>-0.000972</td>\n",
       "      <td>-0.000718</td>\n",
       "      <td>...</td>\n",
       "      <td>-0.000393</td>\n",
       "      <td>-0.000521</td>\n",
       "      <td>-0.000596</td>\n",
       "      <td>-0.000960</td>\n",
       "      <td>0.000742</td>\n",
       "      <td>-0.000164</td>\n",
       "      <td>0.000018</td>\n",
       "      <td>-0.000705</td>\n",
       "      <td>-0.103082</td>\n",
       "      <td>1.000000</td>\n",
       "    </tr>\n",
       "  </tbody>\n",
       "</table>\n",
       "<p>21 rows × 21 columns</p>\n",
       "</div>"
      ],
      "text/plain": [
       "                           station_id  available_bikes  available_bike_stands  \\\n",
       "station_id                   1.000000         0.069954               0.316350   \n",
       "available_bikes              0.069954         1.000000              -0.717159   \n",
       "available_bike_stands        0.316350        -0.717159               1.000000   \n",
       "status                      -0.000120        -0.025263               0.020921   \n",
       "temperature                  0.001161        -0.021311               0.015733   \n",
       "pressure                    -0.001610        -0.000416               0.000235   \n",
       "humidity                     0.000874         0.014414              -0.012937   \n",
       "clouds                      -0.000321         0.000475              -0.002355   \n",
       "wind_speed_beaufort         -0.000739        -0.001690               0.001444   \n",
       "wind_direction               0.000260        -0.001023              -0.000442   \n",
       "precipitation_value         -0.000172         0.002679              -0.002602   \n",
       "precipitation_min           -0.000146         0.003363              -0.002994   \n",
       "precipitation_max           -0.000232         0.001842              -0.002040   \n",
       "precipitation_probability   -0.000239         0.000828              -0.001539   \n",
       "wind_speed_mps              -0.000731        -0.000981               0.001129   \n",
       "temperature_feels_like       0.001216        -0.019580               0.014439   \n",
       "day_flag                    -0.000084        -0.036942               0.029183   \n",
       "time                         0.000045        -0.012830               0.012073   \n",
       "day                         -0.000846        -0.013079               0.009193   \n",
       "availabilty_ratio           -0.089985         0.916704              -0.873082   \n",
       "max_stands                   0.526522         0.220123               0.515979   \n",
       "\n",
       "                             status  temperature  pressure  humidity  \\\n",
       "station_id                -0.000120     0.001161 -0.001610  0.000874   \n",
       "available_bikes           -0.025263    -0.021311 -0.000416  0.014414   \n",
       "available_bike_stands      0.020921     0.015733  0.000235 -0.012937   \n",
       "status                     1.000000     0.150919  0.010461 -0.208519   \n",
       "temperature                0.150919     1.000000 -0.240283  0.055736   \n",
       "pressure                   0.010461    -0.240283  1.000000 -0.207645   \n",
       "humidity                  -0.208519     0.055736 -0.207645  1.000000   \n",
       "clouds                    -0.029357     0.030044  0.049737  0.257876   \n",
       "wind_speed_beaufort        0.046861     0.139247 -0.458595  0.033070   \n",
       "wind_direction            -0.021596     0.136198 -0.274173  0.225267   \n",
       "precipitation_value        0.011929    -0.134063 -0.308733  0.360782   \n",
       "precipitation_min          0.008488    -0.173884 -0.287117  0.336262   \n",
       "precipitation_max          0.011885    -0.080384 -0.316247  0.392311   \n",
       "precipitation_probability  0.004727    -0.034665 -0.348712  0.442597   \n",
       "wind_speed_mps             0.045742     0.137001 -0.493536  0.013000   \n",
       "temperature_feels_like     0.117554     0.960479 -0.217657  0.095340   \n",
       "day_flag                   0.466250     0.273407 -0.004994 -0.304926   \n",
       "time                       0.628188     0.130750 -0.006521 -0.175024   \n",
       "day                       -0.007621     0.038472 -0.050660 -0.099047   \n",
       "availabilty_ratio         -0.029271    -0.024195  0.002571  0.022276   \n",
       "max_stands                -0.000096     0.000684 -0.000322  0.000463   \n",
       "\n",
       "                             clouds  wind_speed_beaufort  wind_direction  ...  \\\n",
       "station_id                -0.000321            -0.000739        0.000260  ...   \n",
       "available_bikes            0.000475            -0.001690       -0.001023  ...   \n",
       "available_bike_stands     -0.002355             0.001444       -0.000442  ...   \n",
       "status                    -0.029357             0.046861       -0.021596  ...   \n",
       "temperature                0.030044             0.139247        0.136198  ...   \n",
       "pressure                   0.049737            -0.458595       -0.274173  ...   \n",
       "humidity                   0.257876             0.033070        0.225267  ...   \n",
       "clouds                     1.000000            -0.087124       -0.071804  ...   \n",
       "wind_speed_beaufort       -0.087124             1.000000        0.077898  ...   \n",
       "wind_direction            -0.071804             0.077898        1.000000  ...   \n",
       "precipitation_value        0.199505             0.298853       -0.022678  ...   \n",
       "precipitation_min          0.181464             0.298113       -0.061068  ...   \n",
       "precipitation_max          0.223762             0.301210        0.012821  ...   \n",
       "precipitation_probability  0.260239             0.290138        0.051466  ...   \n",
       "wind_speed_mps            -0.112180             0.957294        0.070058  ...   \n",
       "temperature_feels_like     0.061678             0.060903        0.153989  ...   \n",
       "day_flag                   0.019149             0.064602       -0.011531  ...   \n",
       "time                      -0.076763             0.047132       -0.038460  ...   \n",
       "day                       -0.017599             0.133833       -0.137233  ...   \n",
       "availabilty_ratio          0.001251            -0.005167        0.000002  ...   \n",
       "max_stands                -0.000510            -0.000972       -0.000718  ...   \n",
       "\n",
       "                           precipitation_min  precipitation_max  \\\n",
       "station_id                         -0.000146          -0.000232   \n",
       "available_bikes                     0.003363           0.001842   \n",
       "available_bike_stands              -0.002994          -0.002040   \n",
       "status                              0.008488           0.011885   \n",
       "temperature                        -0.173884          -0.080384   \n",
       "pressure                           -0.287117          -0.316247   \n",
       "humidity                            0.336262           0.392311   \n",
       "clouds                              0.181464           0.223762   \n",
       "wind_speed_beaufort                 0.298113           0.301210   \n",
       "wind_direction                     -0.061068           0.012821   \n",
       "precipitation_value                 0.980202           0.974158   \n",
       "precipitation_min                   1.000000           0.928947   \n",
       "precipitation_max                   0.928947           1.000000   \n",
       "precipitation_probability           0.799698           0.892570   \n",
       "wind_speed_mps                      0.291406           0.288455   \n",
       "temperature_feels_like             -0.186580          -0.084405   \n",
       "day_flag                           -0.000428           0.036286   \n",
       "time                                0.048451           0.053742   \n",
       "day                                -0.017835          -0.040489   \n",
       "availabilty_ratio                   0.003791           0.002067   \n",
       "max_stands                         -0.000393          -0.000521   \n",
       "\n",
       "                           precipitation_probability  wind_speed_mps  \\\n",
       "station_id                                 -0.000239       -0.000731   \n",
       "available_bikes                             0.000828       -0.000981   \n",
       "available_bike_stands                      -0.001539        0.001129   \n",
       "status                                      0.004727        0.045742   \n",
       "temperature                                -0.034665        0.137001   \n",
       "pressure                                   -0.348712       -0.493536   \n",
       "humidity                                    0.442597        0.013000   \n",
       "clouds                                      0.260239       -0.112180   \n",
       "wind_speed_beaufort                         0.290138        0.957294   \n",
       "wind_direction                              0.051466        0.070058   \n",
       "precipitation_value                         0.861801        0.288373   \n",
       "precipitation_min                           0.799698        0.291406   \n",
       "precipitation_max                           0.892570        0.288455   \n",
       "precipitation_probability                   1.000000        0.278138   \n",
       "wind_speed_mps                              0.278138        1.000000   \n",
       "temperature_feels_like                     -0.035210        0.057748   \n",
       "day_flag                                    0.026612        0.047933   \n",
       "time                                        0.028246        0.068664   \n",
       "day                                        -0.004386        0.130837   \n",
       "availabilty_ratio                           0.000453       -0.004162   \n",
       "max_stands                                 -0.000596       -0.000960   \n",
       "\n",
       "                           temperature_feels_like  day_flag      time  \\\n",
       "station_id                               0.001216 -0.000084  0.000045   \n",
       "available_bikes                         -0.019580 -0.036942 -0.012830   \n",
       "available_bike_stands                    0.014439  0.029183  0.012073   \n",
       "status                                   0.117554  0.466250  0.628188   \n",
       "temperature                              0.960479  0.273407  0.130750   \n",
       "pressure                                -0.217657 -0.004994 -0.006521   \n",
       "humidity                                 0.095340 -0.304926 -0.175024   \n",
       "clouds                                   0.061678  0.019149 -0.076763   \n",
       "wind_speed_beaufort                      0.060903  0.064602  0.047132   \n",
       "wind_direction                           0.153989 -0.011531 -0.038460   \n",
       "precipitation_value                     -0.141150  0.019698  0.056003   \n",
       "precipitation_min                       -0.186580 -0.000428  0.048451   \n",
       "precipitation_max                       -0.084405  0.036286  0.053742   \n",
       "precipitation_probability               -0.035210  0.026612  0.028246   \n",
       "wind_speed_mps                           0.057748  0.047933  0.068664   \n",
       "temperature_feels_like                   1.000000  0.230067  0.131967   \n",
       "day_flag                                 0.230067  1.000000  0.112112   \n",
       "time                                     0.131967  0.112112  1.000000   \n",
       "day                                      0.031835  0.002243 -0.015056   \n",
       "availabilty_ratio                       -0.022254 -0.048614 -0.011010   \n",
       "max_stands                               0.000742 -0.000164  0.000018   \n",
       "\n",
       "                                day  availabilty_ratio  max_stands  \n",
       "station_id                -0.000846          -0.089985    0.526522  \n",
       "available_bikes           -0.013079           0.916704    0.220123  \n",
       "available_bike_stands      0.009193          -0.873082    0.515979  \n",
       "status                    -0.007621          -0.029271   -0.000096  \n",
       "temperature                0.038472          -0.024195    0.000684  \n",
       "pressure                  -0.050660           0.002571   -0.000322  \n",
       "humidity                  -0.099047           0.022276    0.000463  \n",
       "clouds                    -0.017599           0.001251   -0.000510  \n",
       "wind_speed_beaufort        0.133833          -0.005167   -0.000972  \n",
       "wind_direction            -0.137233           0.000002   -0.000718  \n",
       "precipitation_value       -0.033290           0.003019   -0.000459  \n",
       "precipitation_min         -0.017835           0.003791   -0.000393  \n",
       "precipitation_max         -0.040489           0.002067   -0.000521  \n",
       "precipitation_probability -0.004386           0.000453   -0.000596  \n",
       "wind_speed_mps             0.130837          -0.004162   -0.000960  \n",
       "temperature_feels_like     0.031835          -0.022254    0.000742  \n",
       "day_flag                   0.002243          -0.048614   -0.000164  \n",
       "time                      -0.015056          -0.011010    0.000018  \n",
       "day                        1.000000          -0.023215   -0.000705  \n",
       "availabilty_ratio         -0.023215           1.000000   -0.103082  \n",
       "max_stands                -0.000705          -0.103082    1.000000  \n",
       "\n",
       "[21 rows x 21 columns]"
      ]
     },
     "execution_count": 19,
     "metadata": {},
     "output_type": "execute_result"
    }
   ],
   "source": [
    "df_station = df.loc[df[\"station_id\"] == 1]\n",
    "#correlation(df_station)\n",
    "corr = df.corr()\n",
    "corr"
   ]
  },
  {
   "cell_type": "code",
   "execution_count": 20,
   "metadata": {},
   "outputs": [
    {
     "name": "stderr",
     "output_type": "stream",
     "text": [
      "/var/folders/ly/rt519r9j7sx5syy44_l85hz80000gn/T/ipykernel_2826/3223872616.py:9: DeprecationWarning: `np.bool` is a deprecated alias for the builtin `bool`. To silence this warning, use `bool` by itself. Doing this will not modify any behavior and is safe. If you specifically wanted the numpy scalar type, use `np.bool_` here.\n",
      "Deprecated in NumPy 1.20; for more details and guidance: https://numpy.org/devdocs/release/1.20.0-notes.html#deprecations\n",
      "  mask = np.zeros_like(corr, dtype=np.bool)\n"
     ]
    },
    {
     "data": {
      "image/png": "[encoded data removed]",
      "text/plain": [
       "<Figure size 1100x900 with 2 Axes>"
      ]
     },
     "metadata": {},
     "output_type": "display_data"
    }
   ],
   "source": [
    "correlation_tables = []\n",
    "for station in stations_unique:\n",
    "    df_station = df.loc[df[\"station_id\"] == station]\n",
    "    correlation_tables.append(df_station.corr())\n",
    "\n",
    "# Concatenate the correlation tables into a single dataframe\n",
    "merged_corr_table = pd.concat(correlation_tables)\n",
    "correlation(merged_corr_table)\n",
    "\n",
    "# average correlation - in relation to each station"
   ]
  },
  {
   "attachments": {},
   "cell_type": "markdown",
   "metadata": {},
   "source": [
    "Result:\n",
    "- precipitation_min / _max / _value seem to represent a similar value with similar correlation. Will be reduced to just the _value.\n",
    "- wind direction and speed seem to have little influence and will be dropped as well\n",
    "- all rows with status \"CLOSED\" will be dropped and then the column will be dropped - not relevant"
   ]
  },
  {
   "cell_type": "code",
   "execution_count": 21,
   "metadata": {},
   "outputs": [],
   "source": [
    "df = df.loc[df[\"status\"] == 1]\n",
    "df.drop(['precipitation_min', 'precipitation_max', 'wind_speed_mps', 'wind_direction', 'wind_speed_beaufort', 'status'], axis=1, inplace=True)"
   ]
  },
  {
   "cell_type": "code",
   "execution_count": 22,
   "metadata": {},
   "outputs": [
    {
     "data": {
      "text/html": [
       "<div>\n",
       "<style scoped>\n",
       "    .dataframe tbody tr th:only-of-type {\n",
       "        vertical-align: middle;\n",
       "    }\n",
       "\n",
       "    .dataframe tbody tr th {\n",
       "        vertical-align: top;\n",
       "    }\n",
       "\n",
       "    .dataframe thead th {\n",
       "        text-align: right;\n",
       "    }\n",
       "</style>\n",
       "<table border=\"1\" class=\"dataframe\">\n",
       "  <thead>\n",
       "    <tr style=\"text-align: right;\">\n",
       "      <th></th>\n",
       "      <th>count</th>\n",
       "      <th>mean</th>\n",
       "      <th>std</th>\n",
       "      <th>min</th>\n",
       "      <th>25%</th>\n",
       "      <th>50%</th>\n",
       "      <th>75%</th>\n",
       "      <th>max</th>\n",
       "    </tr>\n",
       "  </thead>\n",
       "  <tbody>\n",
       "    <tr>\n",
       "      <th>station_id</th>\n",
       "      <td>813702.0</td>\n",
       "      <td>58.837077</td>\n",
       "      <td>34.133779</td>\n",
       "      <td>1.00</td>\n",
       "      <td>29.000</td>\n",
       "      <td>58.000</td>\n",
       "      <td>89.000000</td>\n",
       "      <td>117.000</td>\n",
       "    </tr>\n",
       "    <tr>\n",
       "      <th>available_bikes</th>\n",
       "      <td>813702.0</td>\n",
       "      <td>11.601055</td>\n",
       "      <td>9.424338</td>\n",
       "      <td>0.00</td>\n",
       "      <td>4.000</td>\n",
       "      <td>10.000</td>\n",
       "      <td>17.000000</td>\n",
       "      <td>40.000</td>\n",
       "    </tr>\n",
       "    <tr>\n",
       "      <th>available_bike_stands</th>\n",
       "      <td>813702.0</td>\n",
       "      <td>20.110146</td>\n",
       "      <td>10.825623</td>\n",
       "      <td>0.00</td>\n",
       "      <td>12.000</td>\n",
       "      <td>20.000</td>\n",
       "      <td>29.000000</td>\n",
       "      <td>40.000</td>\n",
       "    </tr>\n",
       "    <tr>\n",
       "      <th>temperature</th>\n",
       "      <td>813702.0</td>\n",
       "      <td>8.262834</td>\n",
       "      <td>3.236661</td>\n",
       "      <td>0.70</td>\n",
       "      <td>6.200</td>\n",
       "      <td>8.100</td>\n",
       "      <td>10.900000</td>\n",
       "      <td>15.200</td>\n",
       "    </tr>\n",
       "    <tr>\n",
       "      <th>pressure</th>\n",
       "      <td>813702.0</td>\n",
       "      <td>1009.745676</td>\n",
       "      <td>15.915381</td>\n",
       "      <td>977.20</td>\n",
       "      <td>996.400</td>\n",
       "      <td>1007.900</td>\n",
       "      <td>1023.700000</td>\n",
       "      <td>1039.400</td>\n",
       "    </tr>\n",
       "    <tr>\n",
       "      <th>humidity</th>\n",
       "      <td>813702.0</td>\n",
       "      <td>74.973037</td>\n",
       "      <td>11.410931</td>\n",
       "      <td>30.70</td>\n",
       "      <td>68.300</td>\n",
       "      <td>76.700</td>\n",
       "      <td>83.800000</td>\n",
       "      <td>97.300</td>\n",
       "    </tr>\n",
       "    <tr>\n",
       "      <th>clouds</th>\n",
       "      <td>813702.0</td>\n",
       "      <td>79.982633</td>\n",
       "      <td>32.578125</td>\n",
       "      <td>0.00</td>\n",
       "      <td>74.800</td>\n",
       "      <td>99.600</td>\n",
       "      <td>100.000000</td>\n",
       "      <td>100.000</td>\n",
       "    </tr>\n",
       "    <tr>\n",
       "      <th>precipitation_value</th>\n",
       "      <td>813702.0</td>\n",
       "      <td>0.114760</td>\n",
       "      <td>0.298696</td>\n",
       "      <td>0.00</td>\n",
       "      <td>0.000</td>\n",
       "      <td>0.000</td>\n",
       "      <td>0.000000</td>\n",
       "      <td>2.800</td>\n",
       "    </tr>\n",
       "    <tr>\n",
       "      <th>precipitation_probability</th>\n",
       "      <td>813702.0</td>\n",
       "      <td>15.669883</td>\n",
       "      <td>26.794941</td>\n",
       "      <td>0.00</td>\n",
       "      <td>0.000</td>\n",
       "      <td>1.500</td>\n",
       "      <td>16.700000</td>\n",
       "      <td>100.000</td>\n",
       "    </tr>\n",
       "    <tr>\n",
       "      <th>temperature_feels_like</th>\n",
       "      <td>813702.0</td>\n",
       "      <td>5.780204</td>\n",
       "      <td>4.701456</td>\n",
       "      <td>-5.83</td>\n",
       "      <td>2.780</td>\n",
       "      <td>5.010</td>\n",
       "      <td>10.150000</td>\n",
       "      <td>16.040</td>\n",
       "    </tr>\n",
       "    <tr>\n",
       "      <th>day_flag</th>\n",
       "      <td>813702.0</td>\n",
       "      <td>0.612005</td>\n",
       "      <td>0.487294</td>\n",
       "      <td>0.00</td>\n",
       "      <td>0.000</td>\n",
       "      <td>1.000</td>\n",
       "      <td>1.000000</td>\n",
       "      <td>1.000</td>\n",
       "    </tr>\n",
       "    <tr>\n",
       "      <th>time</th>\n",
       "      <td>813702.0</td>\n",
       "      <td>168.969918</td>\n",
       "      <td>70.319121</td>\n",
       "      <td>0.00</td>\n",
       "      <td>113.000</td>\n",
       "      <td>171.000</td>\n",
       "      <td>228.000000</td>\n",
       "      <td>287.000</td>\n",
       "    </tr>\n",
       "    <tr>\n",
       "      <th>day</th>\n",
       "      <td>813702.0</td>\n",
       "      <td>3.001835</td>\n",
       "      <td>2.009840</td>\n",
       "      <td>0.00</td>\n",
       "      <td>1.000</td>\n",
       "      <td>3.000</td>\n",
       "      <td>5.000000</td>\n",
       "      <td>6.000</td>\n",
       "    </tr>\n",
       "    <tr>\n",
       "      <th>availabilty_ratio</th>\n",
       "      <td>813702.0</td>\n",
       "      <td>0.371679</td>\n",
       "      <td>0.289208</td>\n",
       "      <td>0.00</td>\n",
       "      <td>0.125</td>\n",
       "      <td>0.325</td>\n",
       "      <td>0.566667</td>\n",
       "      <td>1.125</td>\n",
       "    </tr>\n",
       "    <tr>\n",
       "      <th>max_stands</th>\n",
       "      <td>813702.0</td>\n",
       "      <td>31.806151</td>\n",
       "      <td>7.805127</td>\n",
       "      <td>8.00</td>\n",
       "      <td>29.000</td>\n",
       "      <td>30.000</td>\n",
       "      <td>40.000000</td>\n",
       "      <td>40.000</td>\n",
       "    </tr>\n",
       "  </tbody>\n",
       "</table>\n",
       "</div>"
      ],
      "text/plain": [
       "                              count         mean        std     min      25%  \\\n",
       "station_id                 813702.0    58.837077  34.133779    1.00   29.000   \n",
       "available_bikes            813702.0    11.601055   9.424338    0.00    4.000   \n",
       "available_bike_stands      813702.0    20.110146  10.825623    0.00   12.000   \n",
       "temperature                813702.0     8.262834   3.236661    0.70    6.200   \n",
       "pressure                   813702.0  1009.745676  15.915381  977.20  996.400   \n",
       "humidity                   813702.0    74.973037  11.410931   30.70   68.300   \n",
       "clouds                     813702.0    79.982633  32.578125    0.00   74.800   \n",
       "precipitation_value        813702.0     0.114760   0.298696    0.00    0.000   \n",
       "precipitation_probability  813702.0    15.669883  26.794941    0.00    0.000   \n",
       "temperature_feels_like     813702.0     5.780204   4.701456   -5.83    2.780   \n",
       "day_flag                   813702.0     0.612005   0.487294    0.00    0.000   \n",
       "time                       813702.0   168.969918  70.319121    0.00  113.000   \n",
       "day                        813702.0     3.001835   2.009840    0.00    1.000   \n",
       "availabilty_ratio          813702.0     0.371679   0.289208    0.00    0.125   \n",
       "max_stands                 813702.0    31.806151   7.805127    8.00   29.000   \n",
       "\n",
       "                                50%          75%       max  \n",
       "station_id                   58.000    89.000000   117.000  \n",
       "available_bikes              10.000    17.000000    40.000  \n",
       "available_bike_stands        20.000    29.000000    40.000  \n",
       "temperature                   8.100    10.900000    15.200  \n",
       "pressure                   1007.900  1023.700000  1039.400  \n",
       "humidity                     76.700    83.800000    97.300  \n",
       "clouds                       99.600   100.000000   100.000  \n",
       "precipitation_value           0.000     0.000000     2.800  \n",
       "precipitation_probability     1.500    16.700000   100.000  \n",
       "temperature_feels_like        5.010    10.150000    16.040  \n",
       "day_flag                      1.000     1.000000     1.000  \n",
       "time                        171.000   228.000000   287.000  \n",
       "day                           3.000     5.000000     6.000  \n",
       "availabilty_ratio             0.325     0.566667     1.125  \n",
       "max_stands                   30.000    40.000000    40.000  "
      ]
     },
     "execution_count": 22,
     "metadata": {},
     "output_type": "execute_result"
    }
   ],
   "source": [
    "df.describe().T"
   ]
  },
  {
   "cell_type": "code",
   "execution_count": 23,
   "metadata": {},
   "outputs": [
    {
     "data": {
      "text/plain": [
       "station_id                   0\n",
       "available_bikes              0\n",
       "available_bike_stands        0\n",
       "temperature                  0\n",
       "pressure                     0\n",
       "humidity                     0\n",
       "clouds                       0\n",
       "precipitation_value          0\n",
       "precipitation_probability    0\n",
       "temperature_feels_like       0\n",
       "day_flag                     0\n",
       "time                         0\n",
       "day                          0\n",
       "availabilty_ratio            0\n",
       "max_stands                   0\n",
       "dtype: int64"
      ]
     },
     "execution_count": 23,
     "metadata": {},
     "output_type": "execute_result"
    }
   ],
   "source": [
    "df.isnull().sum()"
   ]
  },
  {
   "cell_type": "code",
   "execution_count": 24,
   "metadata": {},
   "outputs": [],
   "source": [
    "# drop temperature_feels_like and day_flag as we don't have them for future values:\n",
    "df = df.drop(['temperature_feels_like', 'day_flag'],axis=1)"
   ]
  },
  {
   "cell_type": "code",
   "execution_count": 25,
   "metadata": {},
   "outputs": [],
   "source": [
    "# Write clean_db in CSV\n",
    "df.to_csv(\"cleaned_clean_db.csv\", index=False)"
   ]
  },
  {
   "attachments": {},
   "cell_type": "markdown",
   "metadata": {},
   "source": [
    "Adding Flag columns for chance:"
   ]
  },
  {
   "cell_type": "code",
   "execution_count": 33,
   "metadata": {},
   "outputs": [
    {
     "data": {
      "text/html": [
       "<div>\n",
       "<style scoped>\n",
       "    .dataframe tbody tr th:only-of-type {\n",
       "        vertical-align: middle;\n",
       "    }\n",
       "\n",
       "    .dataframe tbody tr th {\n",
       "        vertical-align: top;\n",
       "    }\n",
       "\n",
       "    .dataframe thead th {\n",
       "        text-align: right;\n",
       "    }\n",
       "</style>\n",
       "<table border=\"1\" class=\"dataframe\">\n",
       "  <thead>\n",
       "    <tr style=\"text-align: right;\">\n",
       "      <th></th>\n",
       "      <th>count</th>\n",
       "      <th>mean</th>\n",
       "      <th>std</th>\n",
       "      <th>min</th>\n",
       "      <th>25%</th>\n",
       "      <th>50%</th>\n",
       "      <th>75%</th>\n",
       "      <th>max</th>\n",
       "    </tr>\n",
       "  </thead>\n",
       "  <tbody>\n",
       "    <tr>\n",
       "      <th>station_id</th>\n",
       "      <td>813702.0</td>\n",
       "      <td>58.837077</td>\n",
       "      <td>34.133779</td>\n",
       "      <td>1.0</td>\n",
       "      <td>29.000</td>\n",
       "      <td>58.000</td>\n",
       "      <td>89.000000</td>\n",
       "      <td>117.000</td>\n",
       "    </tr>\n",
       "    <tr>\n",
       "      <th>available_bikes</th>\n",
       "      <td>813702.0</td>\n",
       "      <td>11.601055</td>\n",
       "      <td>9.424338</td>\n",
       "      <td>0.0</td>\n",
       "      <td>4.000</td>\n",
       "      <td>10.000</td>\n",
       "      <td>17.000000</td>\n",
       "      <td>40.000</td>\n",
       "    </tr>\n",
       "    <tr>\n",
       "      <th>available_bike_stands</th>\n",
       "      <td>813702.0</td>\n",
       "      <td>20.110146</td>\n",
       "      <td>10.825623</td>\n",
       "      <td>0.0</td>\n",
       "      <td>12.000</td>\n",
       "      <td>20.000</td>\n",
       "      <td>29.000000</td>\n",
       "      <td>40.000</td>\n",
       "    </tr>\n",
       "    <tr>\n",
       "      <th>temperature</th>\n",
       "      <td>813702.0</td>\n",
       "      <td>8.262834</td>\n",
       "      <td>3.236661</td>\n",
       "      <td>0.7</td>\n",
       "      <td>6.200</td>\n",
       "      <td>8.100</td>\n",
       "      <td>10.900000</td>\n",
       "      <td>15.200</td>\n",
       "    </tr>\n",
       "    <tr>\n",
       "      <th>pressure</th>\n",
       "      <td>813702.0</td>\n",
       "      <td>1009.745676</td>\n",
       "      <td>15.915381</td>\n",
       "      <td>977.2</td>\n",
       "      <td>996.400</td>\n",
       "      <td>1007.900</td>\n",
       "      <td>1023.700000</td>\n",
       "      <td>1039.400</td>\n",
       "    </tr>\n",
       "    <tr>\n",
       "      <th>humidity</th>\n",
       "      <td>813702.0</td>\n",
       "      <td>74.973037</td>\n",
       "      <td>11.410931</td>\n",
       "      <td>30.7</td>\n",
       "      <td>68.300</td>\n",
       "      <td>76.700</td>\n",
       "      <td>83.800000</td>\n",
       "      <td>97.300</td>\n",
       "    </tr>\n",
       "    <tr>\n",
       "      <th>clouds</th>\n",
       "      <td>813702.0</td>\n",
       "      <td>79.982633</td>\n",
       "      <td>32.578125</td>\n",
       "      <td>0.0</td>\n",
       "      <td>74.800</td>\n",
       "      <td>99.600</td>\n",
       "      <td>100.000000</td>\n",
       "      <td>100.000</td>\n",
       "    </tr>\n",
       "    <tr>\n",
       "      <th>precipitation_value</th>\n",
       "      <td>813702.0</td>\n",
       "      <td>0.114760</td>\n",
       "      <td>0.298696</td>\n",
       "      <td>0.0</td>\n",
       "      <td>0.000</td>\n",
       "      <td>0.000</td>\n",
       "      <td>0.000000</td>\n",
       "      <td>2.800</td>\n",
       "    </tr>\n",
       "    <tr>\n",
       "      <th>precipitation_probability</th>\n",
       "      <td>813702.0</td>\n",
       "      <td>15.669883</td>\n",
       "      <td>26.794941</td>\n",
       "      <td>0.0</td>\n",
       "      <td>0.000</td>\n",
       "      <td>1.500</td>\n",
       "      <td>16.700000</td>\n",
       "      <td>100.000</td>\n",
       "    </tr>\n",
       "    <tr>\n",
       "      <th>time</th>\n",
       "      <td>813702.0</td>\n",
       "      <td>168.969918</td>\n",
       "      <td>70.319121</td>\n",
       "      <td>0.0</td>\n",
       "      <td>113.000</td>\n",
       "      <td>171.000</td>\n",
       "      <td>228.000000</td>\n",
       "      <td>287.000</td>\n",
       "    </tr>\n",
       "    <tr>\n",
       "      <th>day</th>\n",
       "      <td>813702.0</td>\n",
       "      <td>3.001835</td>\n",
       "      <td>2.009840</td>\n",
       "      <td>0.0</td>\n",
       "      <td>1.000</td>\n",
       "      <td>3.000</td>\n",
       "      <td>5.000000</td>\n",
       "      <td>6.000</td>\n",
       "    </tr>\n",
       "    <tr>\n",
       "      <th>availabilty_ratio</th>\n",
       "      <td>813702.0</td>\n",
       "      <td>0.371679</td>\n",
       "      <td>0.289208</td>\n",
       "      <td>0.0</td>\n",
       "      <td>0.125</td>\n",
       "      <td>0.325</td>\n",
       "      <td>0.566667</td>\n",
       "      <td>1.125</td>\n",
       "    </tr>\n",
       "    <tr>\n",
       "      <th>max_stands</th>\n",
       "      <td>813702.0</td>\n",
       "      <td>31.806151</td>\n",
       "      <td>7.805127</td>\n",
       "      <td>8.0</td>\n",
       "      <td>29.000</td>\n",
       "      <td>30.000</td>\n",
       "      <td>40.000000</td>\n",
       "      <td>40.000</td>\n",
       "    </tr>\n",
       "    <tr>\n",
       "      <th>bikes_flag</th>\n",
       "      <td>813702.0</td>\n",
       "      <td>0.917702</td>\n",
       "      <td>0.274818</td>\n",
       "      <td>0.0</td>\n",
       "      <td>1.000</td>\n",
       "      <td>1.000</td>\n",
       "      <td>1.000000</td>\n",
       "      <td>1.000</td>\n",
       "    </tr>\n",
       "    <tr>\n",
       "      <th>stands_flag</th>\n",
       "      <td>813702.0</td>\n",
       "      <td>0.970470</td>\n",
       "      <td>0.169288</td>\n",
       "      <td>0.0</td>\n",
       "      <td>1.000</td>\n",
       "      <td>1.000</td>\n",
       "      <td>1.000000</td>\n",
       "      <td>1.000</td>\n",
       "    </tr>\n",
       "  </tbody>\n",
       "</table>\n",
       "</div>"
      ],
      "text/plain": [
       "                              count         mean        std    min      25%  \\\n",
       "station_id                 813702.0    58.837077  34.133779    1.0   29.000   \n",
       "available_bikes            813702.0    11.601055   9.424338    0.0    4.000   \n",
       "available_bike_stands      813702.0    20.110146  10.825623    0.0   12.000   \n",
       "temperature                813702.0     8.262834   3.236661    0.7    6.200   \n",
       "pressure                   813702.0  1009.745676  15.915381  977.2  996.400   \n",
       "humidity                   813702.0    74.973037  11.410931   30.7   68.300   \n",
       "clouds                     813702.0    79.982633  32.578125    0.0   74.800   \n",
       "precipitation_value        813702.0     0.114760   0.298696    0.0    0.000   \n",
       "precipitation_probability  813702.0    15.669883  26.794941    0.0    0.000   \n",
       "time                       813702.0   168.969918  70.319121    0.0  113.000   \n",
       "day                        813702.0     3.001835   2.009840    0.0    1.000   \n",
       "availabilty_ratio          813702.0     0.371679   0.289208    0.0    0.125   \n",
       "max_stands                 813702.0    31.806151   7.805127    8.0   29.000   \n",
       "bikes_flag                 813702.0     0.917702   0.274818    0.0    1.000   \n",
       "stands_flag                813702.0     0.970470   0.169288    0.0    1.000   \n",
       "\n",
       "                                50%          75%       max  \n",
       "station_id                   58.000    89.000000   117.000  \n",
       "available_bikes              10.000    17.000000    40.000  \n",
       "available_bike_stands        20.000    29.000000    40.000  \n",
       "temperature                   8.100    10.900000    15.200  \n",
       "pressure                   1007.900  1023.700000  1039.400  \n",
       "humidity                     76.700    83.800000    97.300  \n",
       "clouds                       99.600   100.000000   100.000  \n",
       "precipitation_value           0.000     0.000000     2.800  \n",
       "precipitation_probability     1.500    16.700000   100.000  \n",
       "time                        171.000   228.000000   287.000  \n",
       "day                           3.000     5.000000     6.000  \n",
       "availabilty_ratio             0.325     0.566667     1.125  \n",
       "max_stands                   30.000    40.000000    40.000  \n",
       "bikes_flag                    1.000     1.000000     1.000  \n",
       "stands_flag                   1.000     1.000000     1.000  "
      ]
     },
     "execution_count": 33,
     "metadata": {},
     "output_type": "execute_result"
    }
   ],
   "source": [
    "df['bikes_flag'] = df['available_bikes'].apply(lambda x: 0 if x == 0 else 1)\n",
    "df['stands_flag'] = df['available_bike_stands'].apply(lambda x: 0 if x == 0 else 1)\n",
    "df.describe().T"
   ]
  },
  {
   "attachments": {},
   "cell_type": "markdown",
   "metadata": {},
   "source": [
    "## Random Forest Experiments"
   ]
  },
  {
   "attachments": {},
   "cell_type": "markdown",
   "metadata": {},
   "source": [
    "As a first test an overall model:"
   ]
  },
  {
   "cell_type": "code",
   "execution_count": 25,
   "metadata": {},
   "outputs": [],
   "source": [
    "X = df.drop(['station_id', 'available_bikes', 'available_bike_stands', 'availabilty_ratio', 'max_stands', 'bikes_flag', 'stands_flag'],axis=1)\n",
    "y = df['availabilty_ratio']"
   ]
  },
  {
   "cell_type": "code",
   "execution_count": 26,
   "metadata": {},
   "outputs": [
    {
     "data": {
      "text/plain": [
       "((569591, 8), (244111, 8))"
      ]
     },
     "execution_count": 26,
     "metadata": {},
     "output_type": "execute_result"
    }
   ],
   "source": [
    "X_train, X_test, y_train, y_test = train_test_split(X, y, train_size=0.7, random_state=42)\n",
    "X_train.shape, X_test.shape"
   ]
  },
  {
   "cell_type": "code",
   "execution_count": 27,
   "metadata": {},
   "outputs": [],
   "source": [
    "regr = RandomForestRegressor(n_estimators = 100, random_state = 42)"
   ]
  },
  {
   "cell_type": "code",
   "execution_count": 28,
   "metadata": {},
   "outputs": [
    {
     "name": "stdout",
     "output_type": "stream",
     "text": [
      "CPU times: user 1min, sys: 280 ms, total: 1min 1s\n",
      "Wall time: 1min 1s\n"
     ]
    },
    {
     "data": {
      "text/html": [
       "<style>#sk-container-id-1 {color: black;background-color: white;}#sk-container-id-1 pre{padding: 0;}#sk-container-id-1 div.sk-toggleable {background-color: white;}#sk-container-id-1 label.sk-toggleable__label {cursor: pointer;display: block;width: 100%;margin-bottom: 0;padding: 0.3em;box-sizing: border-box;text-align: center;}#sk-container-id-1 label.sk-toggleable__label-arrow:before {content: \"▸\";float: left;margin-right: 0.25em;color: #696969;}#sk-container-id-1 label.sk-toggleable__label-arrow:hover:before {color: black;}#sk-container-id-1 div.sk-estimator:hover label.sk-toggleable__label-arrow:before {color: black;}#sk-container-id-1 div.sk-toggleable__content {max-height: 0;max-width: 0;overflow: hidden;text-align: left;background-color: #f0f8ff;}#sk-container-id-1 div.sk-toggleable__content pre {margin: 0.2em;color: black;border-radius: 0.25em;background-color: #f0f8ff;}#sk-container-id-1 input.sk-toggleable__control:checked~div.sk-toggleable__content {max-height: 200px;max-width: 100%;overflow: auto;}#sk-container-id-1 input.sk-toggleable__control:checked~label.sk-toggleable__label-arrow:before {content: \"▾\";}#sk-container-id-1 div.sk-estimator input.sk-toggleable__control:checked~label.sk-toggleable__label {background-color: #d4ebff;}#sk-container-id-1 div.sk-label input.sk-toggleable__control:checked~label.sk-toggleable__label {background-color: #d4ebff;}#sk-container-id-1 input.sk-hidden--visually {border: 0;clip: rect(1px 1px 1px 1px);clip: rect(1px, 1px, 1px, 1px);height: 1px;margin: -1px;overflow: hidden;padding: 0;position: absolute;width: 1px;}#sk-container-id-1 div.sk-estimator {font-family: monospace;background-color: #f0f8ff;border: 1px dotted black;border-radius: 0.25em;box-sizing: border-box;margin-bottom: 0.5em;}#sk-container-id-1 div.sk-estimator:hover {background-color: #d4ebff;}#sk-container-id-1 div.sk-parallel-item::after {content: \"\";width: 100%;border-bottom: 1px solid gray;flex-grow: 1;}#sk-container-id-1 div.sk-label:hover label.sk-toggleable__label {background-color: #d4ebff;}#sk-container-id-1 div.sk-serial::before {content: \"\";position: absolute;border-left: 1px solid gray;box-sizing: border-box;top: 0;bottom: 0;left: 50%;z-index: 0;}#sk-container-id-1 div.sk-serial {display: flex;flex-direction: column;align-items: center;background-color: white;padding-right: 0.2em;padding-left: 0.2em;position: relative;}#sk-container-id-1 div.sk-item {position: relative;z-index: 1;}#sk-container-id-1 div.sk-parallel {display: flex;align-items: stretch;justify-content: center;background-color: white;position: relative;}#sk-container-id-1 div.sk-item::before, #sk-container-id-1 div.sk-parallel-item::before {content: \"\";position: absolute;border-left: 1px solid gray;box-sizing: border-box;top: 0;bottom: 0;left: 50%;z-index: -1;}#sk-container-id-1 div.sk-parallel-item {display: flex;flex-direction: column;z-index: 1;position: relative;background-color: white;}#sk-container-id-1 div.sk-parallel-item:first-child::after {align-self: flex-end;width: 50%;}#sk-container-id-1 div.sk-parallel-item:last-child::after {align-self: flex-start;width: 50%;}#sk-container-id-1 div.sk-parallel-item:only-child::after {width: 0;}#sk-container-id-1 div.sk-dashed-wrapped {border: 1px dashed gray;margin: 0 0.4em 0.5em 0.4em;box-sizing: border-box;padding-bottom: 0.4em;background-color: white;}#sk-container-id-1 div.sk-label label {font-family: monospace;font-weight: bold;display: inline-block;line-height: 1.2em;}#sk-container-id-1 div.sk-label-container {text-align: center;}#sk-container-id-1 div.sk-container {/* jupyter's `normalize.less` sets `[hidden] { display: none; }` but bootstrap.min.css set `[hidden] { display: none !important; }` so we also need the `!important` here to be able to override the default hidden behavior on the sphinx rendered scikit-learn.org. See: https://github.com/scikit-learn/scikit-learn/issues/21755 */display: inline-block !important;position: relative;}#sk-container-id-1 div.sk-text-repr-fallback {display: none;}</style><div id=\"sk-container-id-1\" class=\"sk-top-container\"><div class=\"sk-text-repr-fallback\"><pre>RandomForestRegressor(random_state=42)</pre><b>In a Jupyter environment, please rerun this cell to show the HTML representation or trust the notebook. <br />On GitHub, the HTML representation is unable to render, please try loading this page with nbviewer.org.</b></div><div class=\"sk-container\" hidden><div class=\"sk-item\"><div class=\"sk-estimator sk-toggleable\"><input class=\"sk-toggleable__control sk-hidden--visually\" id=\"sk-estimator-id-1\" type=\"checkbox\" checked><label for=\"sk-estimator-id-1\" class=\"sk-toggleable__label sk-toggleable__label-arrow\">RandomForestRegressor</label><div class=\"sk-toggleable__content\"><pre>RandomForestRegressor(random_state=42)</pre></div></div></div></div></div>"
      ],
      "text/plain": [
       "RandomForestRegressor(random_state=42)"
      ]
     },
     "execution_count": 28,
     "metadata": {},
     "output_type": "execute_result"
    }
   ],
   "source": [
    "%%time\n",
    "regr.fit(X_train, y_train)"
   ]
  },
  {
   "cell_type": "code",
   "execution_count": 29,
   "metadata": {},
   "outputs": [
    {
     "name": "stdout",
     "output_type": "stream",
     "text": [
      "Mean absolute error: 0.24435877372543963\n",
      "Root Mean Square Error: 0.2911122927687892\n"
     ]
    }
   ],
   "source": [
    "# checking the prediction\n",
    "y_pred = regr.predict(X_test)\n",
    "\n",
    "print(\"Mean absolute error:\", metrics.mean_absolute_error(y_test, y_pred))\n",
    "print(\"Root Mean Square Error:\", metrics.mean_squared_error(y_test, y_pred)**0.5)"
   ]
  },
  {
   "attachments": {},
   "cell_type": "markdown",
   "metadata": {},
   "source": [
    "-> Not really precise. 0.3 root mean square error for a value between 0 and 1."
   ]
  },
  {
   "cell_type": "code",
   "execution_count": 30,
   "metadata": {},
   "outputs": [
    {
     "data": {
      "text/plain": [
       "Text(0.5, 0, 'Actual DT')"
      ]
     },
     "execution_count": 30,
     "metadata": {},
     "output_type": "execute_result"
    },
    {
     "data": {
      "image/png": "[encoded data removed]",
      "text/plain": [
       "<Figure size 640x480 with 1 Axes>"
      ]
     },
     "metadata": {},
     "output_type": "display_data"
    }
   ],
   "source": [
    "plt.scatter(y_test, y_pred)\n",
    "plt.ylabel('Predicted DT')\n",
    "plt.xlabel('Actual DT')"
   ]
  },
  {
   "attachments": {},
   "cell_type": "markdown",
   "metadata": {},
   "source": [
    "-> Prediction seems to be really inaccurate."
   ]
  },
  {
   "attachments": {},
   "cell_type": "markdown",
   "metadata": {},
   "source": [
    "#### Random Search Training\n",
    "Source for following parameter tuning: https://towardsdatascience.com/hyperparameter-tuning-the-random-forest-in-python-using-scikit-learn-28d2aa77dd74"
   ]
  },
  {
   "cell_type": "code",
   "execution_count": 31,
   "metadata": {},
   "outputs": [
    {
     "name": "stdout",
     "output_type": "stream",
     "text": [
      "{'n_estimators': [200, 400, 600, 800, 1000, 1200, 1400, 1600, 1800, 2000], 'max_features': ['auto', 'sqrt'], 'max_depth': [10, 20, 30, 40, 50, 60, 70, 80, 90, 100, 110, None], 'min_samples_split': [2, 5, 10], 'min_samples_leaf': [1, 2, 4], 'bootstrap': [True, False]}\n"
     ]
    }
   ],
   "source": [
    "# Number of trees in random forest\n",
    "n_estimators = [int(x) for x in np.linspace(start = 200, stop = 2000, num = 10)]\n",
    "# Number of features to consider at every split\n",
    "max_features = ['auto', 'sqrt']\n",
    "# Maximum number of levels in tree\n",
    "max_depth = [int(x) for x in np.linspace(10, 110, num = 11)]\n",
    "max_depth.append(None)\n",
    "# Minimum number of samples required to split a node\n",
    "min_samples_split = [2, 5, 10]\n",
    "# Minimum number of samples required at each leaf node\n",
    "min_samples_leaf = [1, 2, 4]\n",
    "# Method of selecting samples for training each tree\n",
    "bootstrap = [True, False]\n",
    "# Create the random grid\n",
    "random_grid = {'n_estimators': n_estimators,\n",
    "               'max_features': max_features,\n",
    "               'max_depth': max_depth,\n",
    "               'min_samples_split': min_samples_split,\n",
    "               'min_samples_leaf': min_samples_leaf,\n",
    "               'bootstrap': bootstrap}\n",
    "print(random_grid)"
   ]
  },
  {
   "cell_type": "code",
   "execution_count": 32,
   "metadata": {},
   "outputs": [
    {
     "name": "stdout",
     "output_type": "stream",
     "text": [
      "Fitting 2 folds for each of 5 candidates, totalling 10 fits\n"
     ]
    },
    {
     "name": "stderr",
     "output_type": "stream",
     "text": [
      "/Users/florian/opt/anaconda3/envs/comp30830/lib/python3.10/site-packages/sklearn/ensemble/_forest.py:413: FutureWarning: `max_features='auto'` has been deprecated in 1.1 and will be removed in 1.3. To keep the past behaviour, explicitly set `max_features=1.0` or remove this parameter as it is also the default value for RandomForestRegressors and ExtraTreesRegressors.\n",
      "  warn(\n",
      "/Users/florian/opt/anaconda3/envs/comp30830/lib/python3.10/site-packages/sklearn/ensemble/_forest.py:413: FutureWarning: `max_features='auto'` has been deprecated in 1.1 and will be removed in 1.3. To keep the past behaviour, explicitly set `max_features=1.0` or remove this parameter as it is also the default value for RandomForestRegressors and ExtraTreesRegressors.\n",
      "  warn(\n"
     ]
    },
    {
     "name": "stdout",
     "output_type": "stream",
     "text": [
      "[CV] END bootstrap=True, max_depth=50, max_features=sqrt, min_samples_leaf=2, min_samples_split=10, n_estimators=200; total time=  48.4s\n",
      "[CV] END bootstrap=True, max_depth=50, max_features=sqrt, min_samples_leaf=2, min_samples_split=10, n_estimators=200; total time=  48.5s\n"
     ]
    },
    {
     "name": "stderr",
     "output_type": "stream",
     "text": [
      "/Users/florian/opt/anaconda3/envs/comp30830/lib/python3.10/site-packages/sklearn/ensemble/_forest.py:413: FutureWarning: `max_features='auto'` has been deprecated in 1.1 and will be removed in 1.3. To keep the past behaviour, explicitly set `max_features=1.0` or remove this parameter as it is also the default value for RandomForestRegressors and ExtraTreesRegressors.\n",
      "  warn(\n",
      "/Users/florian/opt/anaconda3/envs/comp30830/lib/python3.10/site-packages/sklearn/ensemble/_forest.py:413: FutureWarning: `max_features='auto'` has been deprecated in 1.1 and will be removed in 1.3. To keep the past behaviour, explicitly set `max_features=1.0` or remove this parameter as it is also the default value for RandomForestRegressors and ExtraTreesRegressors.\n",
      "  warn(\n"
     ]
    },
    {
     "name": "stdout",
     "output_type": "stream",
     "text": [
      "[CV] END bootstrap=False, max_depth=90, max_features=sqrt, min_samples_leaf=4, min_samples_split=10, n_estimators=600; total time= 4.2min\n",
      "[CV] END bootstrap=False, max_depth=90, max_features=sqrt, min_samples_leaf=4, min_samples_split=10, n_estimators=600; total time= 4.2min\n",
      "[CV] END bootstrap=True, max_depth=30, max_features=sqrt, min_samples_leaf=1, min_samples_split=5, n_estimators=1400; total time= 5.6min\n",
      "[CV] END bootstrap=True, max_depth=30, max_features=sqrt, min_samples_leaf=1, min_samples_split=5, n_estimators=1400; total time= 5.6min\n",
      "[CV] END bootstrap=False, max_depth=60, max_features=auto, min_samples_leaf=2, min_samples_split=2, n_estimators=600; total time= 6.8min\n",
      "[CV] END bootstrap=False, max_depth=60, max_features=auto, min_samples_leaf=2, min_samples_split=2, n_estimators=600; total time= 7.0min\n",
      "[CV] END bootstrap=False, max_depth=80, max_features=auto, min_samples_leaf=1, min_samples_split=10, n_estimators=1000; total time= 9.9min\n",
      "[CV] END bootstrap=False, max_depth=80, max_features=auto, min_samples_leaf=1, min_samples_split=10, n_estimators=1000; total time=10.2min\n"
     ]
    },
    {
     "data": {
      "text/html": [
       "<style>#sk-container-id-2 {color: black;background-color: white;}#sk-container-id-2 pre{padding: 0;}#sk-container-id-2 div.sk-toggleable {background-color: white;}#sk-container-id-2 label.sk-toggleable__label {cursor: pointer;display: block;width: 100%;margin-bottom: 0;padding: 0.3em;box-sizing: border-box;text-align: center;}#sk-container-id-2 label.sk-toggleable__label-arrow:before {content: \"▸\";float: left;margin-right: 0.25em;color: #696969;}#sk-container-id-2 label.sk-toggleable__label-arrow:hover:before {color: black;}#sk-container-id-2 div.sk-estimator:hover label.sk-toggleable__label-arrow:before {color: black;}#sk-container-id-2 div.sk-toggleable__content {max-height: 0;max-width: 0;overflow: hidden;text-align: left;background-color: #f0f8ff;}#sk-container-id-2 div.sk-toggleable__content pre {margin: 0.2em;color: black;border-radius: 0.25em;background-color: #f0f8ff;}#sk-container-id-2 input.sk-toggleable__control:checked~div.sk-toggleable__content {max-height: 200px;max-width: 100%;overflow: auto;}#sk-container-id-2 input.sk-toggleable__control:checked~label.sk-toggleable__label-arrow:before {content: \"▾\";}#sk-container-id-2 div.sk-estimator input.sk-toggleable__control:checked~label.sk-toggleable__label {background-color: #d4ebff;}#sk-container-id-2 div.sk-label input.sk-toggleable__control:checked~label.sk-toggleable__label {background-color: #d4ebff;}#sk-container-id-2 input.sk-hidden--visually {border: 0;clip: rect(1px 1px 1px 1px);clip: rect(1px, 1px, 1px, 1px);height: 1px;margin: -1px;overflow: hidden;padding: 0;position: absolute;width: 1px;}#sk-container-id-2 div.sk-estimator {font-family: monospace;background-color: #f0f8ff;border: 1px dotted black;border-radius: 0.25em;box-sizing: border-box;margin-bottom: 0.5em;}#sk-container-id-2 div.sk-estimator:hover {background-color: #d4ebff;}#sk-container-id-2 div.sk-parallel-item::after {content: \"\";width: 100%;border-bottom: 1px solid gray;flex-grow: 1;}#sk-container-id-2 div.sk-label:hover label.sk-toggleable__label {background-color: #d4ebff;}#sk-container-id-2 div.sk-serial::before {content: \"\";position: absolute;border-left: 1px solid gray;box-sizing: border-box;top: 0;bottom: 0;left: 50%;z-index: 0;}#sk-container-id-2 div.sk-serial {display: flex;flex-direction: column;align-items: center;background-color: white;padding-right: 0.2em;padding-left: 0.2em;position: relative;}#sk-container-id-2 div.sk-item {position: relative;z-index: 1;}#sk-container-id-2 div.sk-parallel {display: flex;align-items: stretch;justify-content: center;background-color: white;position: relative;}#sk-container-id-2 div.sk-item::before, #sk-container-id-2 div.sk-parallel-item::before {content: \"\";position: absolute;border-left: 1px solid gray;box-sizing: border-box;top: 0;bottom: 0;left: 50%;z-index: -1;}#sk-container-id-2 div.sk-parallel-item {display: flex;flex-direction: column;z-index: 1;position: relative;background-color: white;}#sk-container-id-2 div.sk-parallel-item:first-child::after {align-self: flex-end;width: 50%;}#sk-container-id-2 div.sk-parallel-item:last-child::after {align-self: flex-start;width: 50%;}#sk-container-id-2 div.sk-parallel-item:only-child::after {width: 0;}#sk-container-id-2 div.sk-dashed-wrapped {border: 1px dashed gray;margin: 0 0.4em 0.5em 0.4em;box-sizing: border-box;padding-bottom: 0.4em;background-color: white;}#sk-container-id-2 div.sk-label label {font-family: monospace;font-weight: bold;display: inline-block;line-height: 1.2em;}#sk-container-id-2 div.sk-label-container {text-align: center;}#sk-container-id-2 div.sk-container {/* jupyter's `normalize.less` sets `[hidden] { display: none; }` but bootstrap.min.css set `[hidden] { display: none !important; }` so we also need the `!important` here to be able to override the default hidden behavior on the sphinx rendered scikit-learn.org. See: https://github.com/scikit-learn/scikit-learn/issues/21755 */display: inline-block !important;position: relative;}#sk-container-id-2 div.sk-text-repr-fallback {display: none;}</style><div id=\"sk-container-id-2\" class=\"sk-top-container\"><div class=\"sk-text-repr-fallback\"><pre>RandomizedSearchCV(cv=2, estimator=RandomForestRegressor(random_state=42),\n",
       "                   n_iter=5, n_jobs=-1,\n",
       "                   param_distributions={&#x27;bootstrap&#x27;: [True, False],\n",
       "                                        &#x27;max_depth&#x27;: [10, 20, 30, 40, 50, 60,\n",
       "                                                      70, 80, 90, 100, 110,\n",
       "                                                      None],\n",
       "                                        &#x27;max_features&#x27;: [&#x27;auto&#x27;, &#x27;sqrt&#x27;],\n",
       "                                        &#x27;min_samples_leaf&#x27;: [1, 2, 4],\n",
       "                                        &#x27;min_samples_split&#x27;: [2, 5, 10],\n",
       "                                        &#x27;n_estimators&#x27;: [200, 400, 600, 800,\n",
       "                                                         1000, 1200, 1400, 1600,\n",
       "                                                         1800, 2000]},\n",
       "                   random_state=42, verbose=2)</pre><b>In a Jupyter environment, please rerun this cell to show the HTML representation or trust the notebook. <br />On GitHub, the HTML representation is unable to render, please try loading this page with nbviewer.org.</b></div><div class=\"sk-container\" hidden><div class=\"sk-item sk-dashed-wrapped\"><div class=\"sk-label-container\"><div class=\"sk-label sk-toggleable\"><input class=\"sk-toggleable__control sk-hidden--visually\" id=\"sk-estimator-id-2\" type=\"checkbox\" ><label for=\"sk-estimator-id-2\" class=\"sk-toggleable__label sk-toggleable__label-arrow\">RandomizedSearchCV</label><div class=\"sk-toggleable__content\"><pre>RandomizedSearchCV(cv=2, estimator=RandomForestRegressor(random_state=42),\n",
       "                   n_iter=5, n_jobs=-1,\n",
       "                   param_distributions={&#x27;bootstrap&#x27;: [True, False],\n",
       "                                        &#x27;max_depth&#x27;: [10, 20, 30, 40, 50, 60,\n",
       "                                                      70, 80, 90, 100, 110,\n",
       "                                                      None],\n",
       "                                        &#x27;max_features&#x27;: [&#x27;auto&#x27;, &#x27;sqrt&#x27;],\n",
       "                                        &#x27;min_samples_leaf&#x27;: [1, 2, 4],\n",
       "                                        &#x27;min_samples_split&#x27;: [2, 5, 10],\n",
       "                                        &#x27;n_estimators&#x27;: [200, 400, 600, 800,\n",
       "                                                         1000, 1200, 1400, 1600,\n",
       "                                                         1800, 2000]},\n",
       "                   random_state=42, verbose=2)</pre></div></div></div><div class=\"sk-parallel\"><div class=\"sk-parallel-item\"><div class=\"sk-item\"><div class=\"sk-label-container\"><div class=\"sk-label sk-toggleable\"><input class=\"sk-toggleable__control sk-hidden--visually\" id=\"sk-estimator-id-3\" type=\"checkbox\" ><label for=\"sk-estimator-id-3\" class=\"sk-toggleable__label sk-toggleable__label-arrow\">estimator: RandomForestRegressor</label><div class=\"sk-toggleable__content\"><pre>RandomForestRegressor(random_state=42)</pre></div></div></div><div class=\"sk-serial\"><div class=\"sk-item\"><div class=\"sk-estimator sk-toggleable\"><input class=\"sk-toggleable__control sk-hidden--visually\" id=\"sk-estimator-id-4\" type=\"checkbox\" ><label for=\"sk-estimator-id-4\" class=\"sk-toggleable__label sk-toggleable__label-arrow\">RandomForestRegressor</label><div class=\"sk-toggleable__content\"><pre>RandomForestRegressor(random_state=42)</pre></div></div></div></div></div></div></div></div></div></div>"
      ],
      "text/plain": [
       "RandomizedSearchCV(cv=2, estimator=RandomForestRegressor(random_state=42),\n",
       "                   n_iter=5, n_jobs=-1,\n",
       "                   param_distributions={'bootstrap': [True, False],\n",
       "                                        'max_depth': [10, 20, 30, 40, 50, 60,\n",
       "                                                      70, 80, 90, 100, 110,\n",
       "                                                      None],\n",
       "                                        'max_features': ['auto', 'sqrt'],\n",
       "                                        'min_samples_leaf': [1, 2, 4],\n",
       "                                        'min_samples_split': [2, 5, 10],\n",
       "                                        'n_estimators': [200, 400, 600, 800,\n",
       "                                                         1000, 1200, 1400, 1600,\n",
       "                                                         1800, 2000]},\n",
       "                   random_state=42, verbose=2)"
      ]
     },
     "execution_count": 32,
     "metadata": {},
     "output_type": "execute_result"
    }
   ],
   "source": [
    "# Use the random grid to search for best hyperparameters\n",
    "# First create the base model to tune\n",
    "rf = RandomForestRegressor(random_state = 42)\n",
    "# Random search of parameters, using 3 fold cross validation, \n",
    "# search across 100 different combinations, and use all available cores\n",
    "rf_random = RandomizedSearchCV(estimator = rf, param_distributions = random_grid, n_iter = 5, cv = 2, verbose=2, random_state=42, n_jobs = -1)\n",
    "# Fit the random search model\n",
    "rf_random.fit(X_train, y_train)"
   ]
  },
  {
   "cell_type": "code",
   "execution_count": 33,
   "metadata": {},
   "outputs": [
    {
     "data": {
      "text/plain": [
       "{'n_estimators': 1400,\n",
       " 'min_samples_split': 5,\n",
       " 'min_samples_leaf': 1,\n",
       " 'max_features': 'sqrt',\n",
       " 'max_depth': 30,\n",
       " 'bootstrap': True}"
      ]
     },
     "execution_count": 33,
     "metadata": {},
     "output_type": "execute_result"
    }
   ],
   "source": [
    "# Best parameters\n",
    "rf_random.best_params_"
   ]
  },
  {
   "attachments": {},
   "cell_type": "markdown",
   "metadata": {},
   "source": [
    "#### Evaluate Random Search\n",
    "To determine if random search yielded a better model, we compare the base model with the best random search model"
   ]
  },
  {
   "cell_type": "code",
   "execution_count": 34,
   "metadata": {},
   "outputs": [
    {
     "name": "stdout",
     "output_type": "stream",
     "text": [
      "Model Performance\n",
      "Average Error: 0.2444 degrees.\n",
      "RMSE: 0.2911.\n",
      "Accuracy = 70.89%.\n"
     ]
    }
   ],
   "source": [
    "def evaluate(model, test_features, test_labels):\n",
    "    predictions = model.predict(test_features)\n",
    "    RMSE = metrics.mean_squared_error(test_labels, regr.predict(test_features))**0.5\n",
    "    errors = abs(predictions - test_labels)\n",
    "    #mape = 100 * np.mean(errors / test_labels)\n",
    "    accuracy = 100 - (100*RMSE)\n",
    "    print('Model Performance')\n",
    "    print('Average Error: {:0.4f} degrees.'.format(np.mean(errors)))\n",
    "    print('RMSE: {:0.4f}.'.format(RMSE))\n",
    "    print('Accuracy = {:0.2f}%.'.format(accuracy))\n",
    "    \n",
    "    return accuracy\n",
    "base_model = regr\n",
    "base_accuracy = evaluate(base_model, X_test, y_test)"
   ]
  },
  {
   "cell_type": "code",
   "execution_count": 35,
   "metadata": {},
   "outputs": [
    {
     "name": "stdout",
     "output_type": "stream",
     "text": [
      "Model Performance\n",
      "Average Error: 0.2443 degrees.\n",
      "RMSE: 0.2911.\n",
      "Accuracy = 70.89%.\n"
     ]
    }
   ],
   "source": [
    "best_random = rf_random.best_estimator_\n",
    "random_accuracy = evaluate(best_random, X_test, y_test)"
   ]
  },
  {
   "cell_type": "code",
   "execution_count": 36,
   "metadata": {},
   "outputs": [
    {
     "name": "stdout",
     "output_type": "stream",
     "text": [
      "Improvement of 0.00%.\n"
     ]
    }
   ],
   "source": [
    "print('Improvement of {:0.2f}%.'.format( 100 * (random_accuracy - base_accuracy) / base_accuracy))"
   ]
  },
  {
   "attachments": {},
   "cell_type": "markdown",
   "metadata": {},
   "source": [
    "--> not worth the perfomance needed to improve the model."
   ]
  },
  {
   "attachments": {},
   "cell_type": "markdown",
   "metadata": {},
   "source": [
    "### Individual Models"
   ]
  },
  {
   "cell_type": "code",
   "execution_count": 37,
   "metadata": {},
   "outputs": [
    {
     "name": "stdout",
     "output_type": "stream",
     "text": [
      "Mean absolute error: 0.017251540918702506\n",
      "Root Mean Square Error: 0.03077102727376351\n",
      "Mean absolute error: 0.022497210599721082\n",
      "Root Mean Square Error: 0.04317764247681756\n",
      "Mean absolute error: 0.023525104602510498\n",
      "Root Mean Square Error: 0.038152144405440874\n",
      "Mean absolute error: 0.020474430497443113\n",
      "Root Mean Square Error: 0.0406835467516058\n",
      "Mean absolute error: 0.024309623430962383\n",
      "Root Mean Square Error: 0.044873512117124384\n"
     ]
    },
    {
     "data": {
      "image/png": "[encoded data removed]",
      "text/plain": [
       "<Figure size 640x480 with 1 Axes>"
      ]
     },
     "metadata": {},
     "output_type": "display_data"
    }
   ],
   "source": [
    "# First test with the first stations and a plot\n",
    "\n",
    "prediction_models = {}\n",
    "for station in stations_unique[:5]:\n",
    "        df_station = df.loc[df[\"station_id\"] == station]\n",
    "        X = df_station.drop(['station_id', 'available_bikes', 'available_bike_stands', 'availabilty_ratio', 'max_stands', 'bikes_flag', 'stands_flag'],axis=1)\n",
    "        y = df_station['availabilty_ratio']\n",
    "\n",
    "        X_train, X_test, y_train, y_test = train_test_split(X, y, train_size=0.7, random_state=42)\n",
    "        \n",
    "        regr = RandomForestRegressor(n_estimators = 100, random_state = 42)\n",
    "        regr.fit(X_train, y_train)\n",
    "\n",
    "        prediction_models[station] = regr\n",
    "\n",
    "        y_pred = regr.predict(X_test)\n",
    "\n",
    "        print(\"Mean absolute error:\", metrics.mean_absolute_error(y_test, y_pred))\n",
    "        print(\"Root Mean Square Error:\", metrics.mean_squared_error(y_test, y_pred)**0.5)\n",
    "\n",
    "        plt.scatter(y_test, y_pred)\n",
    "        plt.ylabel('Predicted DT')\n",
    "        plt.xlabel('Actual DT')"
   ]
  },
  {
   "attachments": {},
   "cell_type": "markdown",
   "metadata": {},
   "source": [
    "Specific models seem to be much better."
   ]
  },
  {
   "cell_type": "code",
   "execution_count": 38,
   "metadata": {},
   "outputs": [
    {
     "name": "stdout",
     "output_type": "stream",
     "text": [
      "Mean absolute error: 0.017251540918702506\n",
      "Root Mean Square Error: 0.03077102727376351\n",
      "Fitting 3 folds for each of 20 candidates, totalling 60 fits\n"
     ]
    },
    {
     "name": "stderr",
     "output_type": "stream",
     "text": [
      "/Users/florian/opt/anaconda3/envs/comp30830/lib/python3.10/site-packages/sklearn/ensemble/_forest.py:413: FutureWarning: `max_features='auto'` has been deprecated in 1.1 and will be removed in 1.3. To keep the past behaviour, explicitly set `max_features=1.0` or remove this parameter as it is also the default value for RandomForestRegressors and ExtraTreesRegressors.\n",
      "  warn(\n",
      "/Users/florian/opt/anaconda3/envs/comp30830/lib/python3.10/site-packages/sklearn/ensemble/_forest.py:413: FutureWarning: `max_features='auto'` has been deprecated in 1.1 and will be removed in 1.3. To keep the past behaviour, explicitly set `max_features=1.0` or remove this parameter as it is also the default value for RandomForestRegressors and ExtraTreesRegressors.\n",
      "  warn(\n",
      "/Users/florian/opt/anaconda3/envs/comp30830/lib/python3.10/site-packages/sklearn/ensemble/_forest.py:413: FutureWarning: `max_features='auto'` has been deprecated in 1.1 and will be removed in 1.3. To keep the past behaviour, explicitly set `max_features=1.0` or remove this parameter as it is also the default value for RandomForestRegressors and ExtraTreesRegressors.\n",
      "  warn(\n"
     ]
    },
    {
     "name": "stdout",
     "output_type": "stream",
     "text": [
      "[CV] END bootstrap=True, max_depth=50, max_features=sqrt, min_samples_leaf=2, min_samples_split=10, n_estimators=10; total time=   0.0s\n",
      "[CV] END bootstrap=True, max_depth=50, max_features=sqrt, min_samples_leaf=2, min_samples_split=10, n_estimators=10; total time=   0.0s\n",
      "[CV] END bootstrap=True, max_depth=50, max_features=sqrt, min_samples_leaf=2, min_samples_split=10, n_estimators=10; total time=   0.0s\n",
      "[CV] END bootstrap=False, max_depth=90, max_features=sqrt, min_samples_leaf=4, min_samples_split=10, n_estimators=230; total time=   0.9s\n",
      "[CV] END bootstrap=False, max_depth=90, max_features=sqrt, min_samples_leaf=4, min_samples_split=10, n_estimators=230; total time=   0.9s\n",
      "[CV] END bootstrap=False, max_depth=90, max_features=sqrt, min_samples_leaf=4, min_samples_split=10, n_estimators=230; total time=   1.0s\n"
     ]
    },
    {
     "name": "stderr",
     "output_type": "stream",
     "text": [
      "/Users/florian/opt/anaconda3/envs/comp30830/lib/python3.10/site-packages/sklearn/ensemble/_forest.py:413: FutureWarning: `max_features='auto'` has been deprecated in 1.1 and will be removed in 1.3. To keep the past behaviour, explicitly set `max_features=1.0` or remove this parameter as it is also the default value for RandomForestRegressors and ExtraTreesRegressors.\n",
      "  warn(\n",
      "/Users/florian/opt/anaconda3/envs/comp30830/lib/python3.10/site-packages/sklearn/ensemble/_forest.py:413: FutureWarning: `max_features='auto'` has been deprecated in 1.1 and will be removed in 1.3. To keep the past behaviour, explicitly set `max_features=1.0` or remove this parameter as it is also the default value for RandomForestRegressors and ExtraTreesRegressors.\n",
      "  warn(\n"
     ]
    },
    {
     "name": "stdout",
     "output_type": "stream",
     "text": [
      "[CV] END bootstrap=True, max_depth=30, max_features=sqrt, min_samples_leaf=1, min_samples_split=5, n_estimators=670; total time=   2.5s\n"
     ]
    },
    {
     "name": "stderr",
     "output_type": "stream",
     "text": [
      "/Users/florian/opt/anaconda3/envs/comp30830/lib/python3.10/site-packages/sklearn/ensemble/_forest.py:413: FutureWarning: `max_features='auto'` has been deprecated in 1.1 and will be removed in 1.3. To keep the past behaviour, explicitly set `max_features=1.0` or remove this parameter as it is also the default value for RandomForestRegressors and ExtraTreesRegressors.\n",
      "  warn(\n"
     ]
    },
    {
     "name": "stdout",
     "output_type": "stream",
     "text": [
      "[CV] END bootstrap=False, max_depth=60, max_features=auto, min_samples_leaf=2, min_samples_split=2, n_estimators=230; total time=   2.8s\n",
      "[CV] END bootstrap=False, max_depth=60, max_features=auto, min_samples_leaf=2, min_samples_split=2, n_estimators=230; total time=   3.0s\n",
      "[CV] END bootstrap=False, max_depth=60, max_features=auto, min_samples_leaf=2, min_samples_split=2, n_estimators=230; total time=   3.0s\n",
      "[CV] END bootstrap=True, max_depth=30, max_features=sqrt, min_samples_leaf=1, min_samples_split=5, n_estimators=670; total time=   3.0s\n"
     ]
    },
    {
     "name": "stderr",
     "output_type": "stream",
     "text": [
      "/Users/florian/opt/anaconda3/envs/comp30830/lib/python3.10/site-packages/sklearn/ensemble/_forest.py:413: FutureWarning: `max_features='auto'` has been deprecated in 1.1 and will be removed in 1.3. To keep the past behaviour, explicitly set `max_features=1.0` or remove this parameter as it is also the default value for RandomForestRegressors and ExtraTreesRegressors.\n",
      "  warn(\n"
     ]
    },
    {
     "name": "stdout",
     "output_type": "stream",
     "text": [
      "[CV] END bootstrap=False, max_depth=60, max_features=sqrt, min_samples_leaf=1, min_samples_split=10, n_estimators=120; total time=   0.5s\n",
      "[CV] END bootstrap=False, max_depth=60, max_features=sqrt, min_samples_leaf=1, min_samples_split=10, n_estimators=120; total time=   0.5s\n",
      "[CV] END bootstrap=False, max_depth=60, max_features=sqrt, min_samples_leaf=1, min_samples_split=10, n_estimators=120; total time=   0.5s\n",
      "[CV] END bootstrap=True, max_depth=30, max_features=sqrt, min_samples_leaf=1, min_samples_split=5, n_estimators=670; total time=   2.7s\n",
      "[CV] END bootstrap=True, max_depth=10, max_features=sqrt, min_samples_leaf=2, min_samples_split=5, n_estimators=10; total time=   0.0s\n"
     ]
    },
    {
     "name": "stderr",
     "output_type": "stream",
     "text": [
      "/Users/florian/opt/anaconda3/envs/comp30830/lib/python3.10/site-packages/sklearn/ensemble/_forest.py:413: FutureWarning: `max_features='auto'` has been deprecated in 1.1 and will be removed in 1.3. To keep the past behaviour, explicitly set `max_features=1.0` or remove this parameter as it is also the default value for RandomForestRegressors and ExtraTreesRegressors.\n",
      "  warn(\n",
      "/Users/florian/opt/anaconda3/envs/comp30830/lib/python3.10/site-packages/sklearn/ensemble/_forest.py:413: FutureWarning: `max_features='auto'` has been deprecated in 1.1 and will be removed in 1.3. To keep the past behaviour, explicitly set `max_features=1.0` or remove this parameter as it is also the default value for RandomForestRegressors and ExtraTreesRegressors.\n",
      "  warn(\n",
      "/Users/florian/opt/anaconda3/envs/comp30830/lib/python3.10/site-packages/sklearn/ensemble/_forest.py:413: FutureWarning: `max_features='auto'` has been deprecated in 1.1 and will be removed in 1.3. To keep the past behaviour, explicitly set `max_features=1.0` or remove this parameter as it is also the default value for RandomForestRegressors and ExtraTreesRegressors.\n",
      "  warn(\n"
     ]
    },
    {
     "name": "stdout",
     "output_type": "stream",
     "text": [
      "[CV] END bootstrap=True, max_depth=10, max_features=sqrt, min_samples_leaf=2, min_samples_split=5, n_estimators=10; total time=   0.0s\n",
      "[CV] END bootstrap=True, max_depth=10, max_features=sqrt, min_samples_leaf=2, min_samples_split=5, n_estimators=10; total time=   0.0s\n"
     ]
    },
    {
     "name": "stderr",
     "output_type": "stream",
     "text": [
      "/Users/florian/opt/anaconda3/envs/comp30830/lib/python3.10/site-packages/sklearn/ensemble/_forest.py:413: FutureWarning: `max_features='auto'` has been deprecated in 1.1 and will be removed in 1.3. To keep the past behaviour, explicitly set `max_features=1.0` or remove this parameter as it is also the default value for RandomForestRegressors and ExtraTreesRegressors.\n",
      "  warn(\n"
     ]
    },
    {
     "name": "stdout",
     "output_type": "stream",
     "text": [
      "[CV] END bootstrap=False, max_depth=80, max_features=auto, min_samples_leaf=1, min_samples_split=10, n_estimators=450; total time=   5.3s\n",
      "[CV] END bootstrap=False, max_depth=80, max_features=auto, min_samples_leaf=1, min_samples_split=10, n_estimators=450; total time=   5.3s\n"
     ]
    },
    {
     "name": "stderr",
     "output_type": "stream",
     "text": [
      "/Users/florian/opt/anaconda3/envs/comp30830/lib/python3.10/site-packages/sklearn/ensemble/_forest.py:413: FutureWarning: `max_features='auto'` has been deprecated in 1.1 and will be removed in 1.3. To keep the past behaviour, explicitly set `max_features=1.0` or remove this parameter as it is also the default value for RandomForestRegressors and ExtraTreesRegressors.\n",
      "  warn(\n",
      "/Users/florian/opt/anaconda3/envs/comp30830/lib/python3.10/site-packages/sklearn/ensemble/_forest.py:413: FutureWarning: `max_features='auto'` has been deprecated in 1.1 and will be removed in 1.3. To keep the past behaviour, explicitly set `max_features=1.0` or remove this parameter as it is also the default value for RandomForestRegressors and ExtraTreesRegressors.\n",
      "  warn(\n"
     ]
    },
    {
     "name": "stdout",
     "output_type": "stream",
     "text": [
      "[CV] END bootstrap=False, max_depth=80, max_features=auto, min_samples_leaf=1, min_samples_split=10, n_estimators=450; total time=   5.3s\n"
     ]
    },
    {
     "name": "stderr",
     "output_type": "stream",
     "text": [
      "/Users/florian/opt/anaconda3/envs/comp30830/lib/python3.10/site-packages/sklearn/ensemble/_forest.py:413: FutureWarning: `max_features='auto'` has been deprecated in 1.1 and will be removed in 1.3. To keep the past behaviour, explicitly set `max_features=1.0` or remove this parameter as it is also the default value for RandomForestRegressors and ExtraTreesRegressors.\n",
      "  warn(\n"
     ]
    },
    {
     "name": "stdout",
     "output_type": "stream",
     "text": [
      "[CV] END bootstrap=True, max_depth=100, max_features=auto, min_samples_leaf=4, min_samples_split=2, n_estimators=560; total time=   4.5s\n",
      "[CV] END bootstrap=True, max_depth=100, max_features=auto, min_samples_leaf=4, min_samples_split=2, n_estimators=560; total time=   4.7s\n"
     ]
    },
    {
     "name": "stderr",
     "output_type": "stream",
     "text": [
      "/Users/florian/opt/anaconda3/envs/comp30830/lib/python3.10/site-packages/sklearn/ensemble/_forest.py:413: FutureWarning: `max_features='auto'` has been deprecated in 1.1 and will be removed in 1.3. To keep the past behaviour, explicitly set `max_features=1.0` or remove this parameter as it is also the default value for RandomForestRegressors and ExtraTreesRegressors.\n",
      "  warn(\n",
      "/Users/florian/opt/anaconda3/envs/comp30830/lib/python3.10/site-packages/sklearn/ensemble/_forest.py:413: FutureWarning: `max_features='auto'` has been deprecated in 1.1 and will be removed in 1.3. To keep the past behaviour, explicitly set `max_features=1.0` or remove this parameter as it is also the default value for RandomForestRegressors and ExtraTreesRegressors.\n",
      "  warn(\n"
     ]
    },
    {
     "name": "stdout",
     "output_type": "stream",
     "text": [
      "[CV] END bootstrap=False, max_depth=20, max_features=auto, min_samples_leaf=2, min_samples_split=10, n_estimators=120; total time=   1.4s\n"
     ]
    },
    {
     "name": "stderr",
     "output_type": "stream",
     "text": [
      "/Users/florian/opt/anaconda3/envs/comp30830/lib/python3.10/site-packages/sklearn/ensemble/_forest.py:413: FutureWarning: `max_features='auto'` has been deprecated in 1.1 and will be removed in 1.3. To keep the past behaviour, explicitly set `max_features=1.0` or remove this parameter as it is also the default value for RandomForestRegressors and ExtraTreesRegressors.\n",
      "  warn(\n"
     ]
    },
    {
     "name": "stdout",
     "output_type": "stream",
     "text": [
      "[CV] END bootstrap=False, max_depth=20, max_features=auto, min_samples_leaf=2, min_samples_split=10, n_estimators=120; total time=   1.4s\n",
      "[CV] END bootstrap=True, max_depth=100, max_features=auto, min_samples_leaf=4, min_samples_split=2, n_estimators=560; total time=   5.0s\n"
     ]
    },
    {
     "name": "stderr",
     "output_type": "stream",
     "text": [
      "/Users/florian/opt/anaconda3/envs/comp30830/lib/python3.10/site-packages/sklearn/ensemble/_forest.py:413: FutureWarning: `max_features='auto'` has been deprecated in 1.1 and will be removed in 1.3. To keep the past behaviour, explicitly set `max_features=1.0` or remove this parameter as it is also the default value for RandomForestRegressors and ExtraTreesRegressors.\n",
      "  warn(\n"
     ]
    },
    {
     "name": "stdout",
     "output_type": "stream",
     "text": [
      "[CV] END bootstrap=False, max_depth=20, max_features=auto, min_samples_leaf=2, min_samples_split=10, n_estimators=120; total time=   1.3s\n",
      "[CV] END bootstrap=False, max_depth=20, max_features=sqrt, min_samples_leaf=1, min_samples_split=2, n_estimators=340; total time=   1.7s\n",
      "[CV] END bootstrap=False, max_depth=20, max_features=sqrt, min_samples_leaf=1, min_samples_split=2, n_estimators=340; total time=   1.8s\n",
      "[CV] END bootstrap=False, max_depth=20, max_features=sqrt, min_samples_leaf=1, min_samples_split=2, n_estimators=340; total time=   1.8s\n",
      "[CV] END bootstrap=True, max_depth=50, max_features=auto, min_samples_leaf=2, min_samples_split=5, n_estimators=1000; total time=   8.7s\n",
      "[CV] END bootstrap=False, max_depth=50, max_features=auto, min_samples_leaf=2, min_samples_split=2, n_estimators=1000; total time=  11.8s\n",
      "[CV] END bootstrap=False, max_depth=50, max_features=auto, min_samples_leaf=2, min_samples_split=2, n_estimators=1000; total time=  12.3s\n",
      "[CV] END bootstrap=True, max_depth=70, max_features=sqrt, min_samples_leaf=1, min_samples_split=5, n_estimators=450; total time=   1.6s\n",
      "[CV] END bootstrap=True, max_depth=70, max_features=sqrt, min_samples_leaf=1, min_samples_split=5, n_estimators=450; total time=   1.6s\n",
      "[CV] END bootstrap=False, max_depth=50, max_features=auto, min_samples_leaf=2, min_samples_split=2, n_estimators=1000; total time=  12.8s\n",
      "[CV] END bootstrap=True, max_depth=70, max_features=sqrt, min_samples_leaf=1, min_samples_split=5, n_estimators=450; total time=   1.7s\n",
      "[CV] END bootstrap=True, max_depth=50, max_features=auto, min_samples_leaf=2, min_samples_split=5, n_estimators=1000; total time=   9.1s\n",
      "[CV] END bootstrap=True, max_depth=50, max_features=auto, min_samples_leaf=2, min_samples_split=5, n_estimators=1000; total time=   8.9s\n"
     ]
    },
    {
     "name": "stderr",
     "output_type": "stream",
     "text": [
      "/Users/florian/opt/anaconda3/envs/comp30830/lib/python3.10/site-packages/sklearn/ensemble/_forest.py:413: FutureWarning: `max_features='auto'` has been deprecated in 1.1 and will be removed in 1.3. To keep the past behaviour, explicitly set `max_features=1.0` or remove this parameter as it is also the default value for RandomForestRegressors and ExtraTreesRegressors.\n",
      "  warn(\n",
      "/Users/florian/opt/anaconda3/envs/comp30830/lib/python3.10/site-packages/sklearn/ensemble/_forest.py:413: FutureWarning: `max_features='auto'` has been deprecated in 1.1 and will be removed in 1.3. To keep the past behaviour, explicitly set `max_features=1.0` or remove this parameter as it is also the default value for RandomForestRegressors and ExtraTreesRegressors.\n",
      "  warn(\n"
     ]
    },
    {
     "name": "stdout",
     "output_type": "stream",
     "text": [
      "[CV] END bootstrap=False, max_depth=70, max_features=sqrt, min_samples_leaf=2, min_samples_split=10, n_estimators=560; total time=   2.4s\n"
     ]
    },
    {
     "name": "stderr",
     "output_type": "stream",
     "text": [
      "/Users/florian/opt/anaconda3/envs/comp30830/lib/python3.10/site-packages/sklearn/ensemble/_forest.py:413: FutureWarning: `max_features='auto'` has been deprecated in 1.1 and will be removed in 1.3. To keep the past behaviour, explicitly set `max_features=1.0` or remove this parameter as it is also the default value for RandomForestRegressors and ExtraTreesRegressors.\n",
      "  warn(\n"
     ]
    },
    {
     "name": "stdout",
     "output_type": "stream",
     "text": [
      "[CV] END bootstrap=False, max_depth=70, max_features=sqrt, min_samples_leaf=2, min_samples_split=10, n_estimators=560; total time=   2.6s\n",
      "[CV] END bootstrap=False, max_depth=70, max_features=sqrt, min_samples_leaf=2, min_samples_split=10, n_estimators=560; total time=   2.6s\n",
      "[CV] END bootstrap=False, max_depth=110, max_features=sqrt, min_samples_leaf=4, min_samples_split=2, n_estimators=780; total time=   3.6s\n",
      "[CV] END bootstrap=True, max_depth=30, max_features=sqrt, min_samples_leaf=1, min_samples_split=10, n_estimators=450; total time=   1.7s\n"
     ]
    },
    {
     "name": "stderr",
     "output_type": "stream",
     "text": [
      "/Users/florian/opt/anaconda3/envs/comp30830/lib/python3.10/site-packages/sklearn/ensemble/_forest.py:413: FutureWarning: `max_features='auto'` has been deprecated in 1.1 and will be removed in 1.3. To keep the past behaviour, explicitly set `max_features=1.0` or remove this parameter as it is also the default value for RandomForestRegressors and ExtraTreesRegressors.\n",
      "  warn(\n",
      "/Users/florian/opt/anaconda3/envs/comp30830/lib/python3.10/site-packages/sklearn/ensemble/_forest.py:413: FutureWarning: `max_features='auto'` has been deprecated in 1.1 and will be removed in 1.3. To keep the past behaviour, explicitly set `max_features=1.0` or remove this parameter as it is also the default value for RandomForestRegressors and ExtraTreesRegressors.\n",
      "  warn(\n"
     ]
    },
    {
     "name": "stdout",
     "output_type": "stream",
     "text": [
      "[CV] END bootstrap=True, max_depth=30, max_features=sqrt, min_samples_leaf=1, min_samples_split=10, n_estimators=450; total time=   1.7s\n",
      "[CV] END bootstrap=False, max_depth=110, max_features=sqrt, min_samples_leaf=4, min_samples_split=2, n_estimators=780; total time=   3.9s\n"
     ]
    },
    {
     "name": "stderr",
     "output_type": "stream",
     "text": [
      "/Users/florian/opt/anaconda3/envs/comp30830/lib/python3.10/site-packages/sklearn/ensemble/_forest.py:413: FutureWarning: `max_features='auto'` has been deprecated in 1.1 and will be removed in 1.3. To keep the past behaviour, explicitly set `max_features=1.0` or remove this parameter as it is also the default value for RandomForestRegressors and ExtraTreesRegressors.\n",
      "  warn(\n",
      "/Users/florian/opt/anaconda3/envs/comp30830/lib/python3.10/site-packages/sklearn/ensemble/_forest.py:413: FutureWarning: `max_features='auto'` has been deprecated in 1.1 and will be removed in 1.3. To keep the past behaviour, explicitly set `max_features=1.0` or remove this parameter as it is also the default value for RandomForestRegressors and ExtraTreesRegressors.\n",
      "  warn(\n"
     ]
    },
    {
     "name": "stdout",
     "output_type": "stream",
     "text": [
      "[CV] END bootstrap=False, max_depth=110, max_features=sqrt, min_samples_leaf=4, min_samples_split=2, n_estimators=780; total time=   3.8s\n",
      "[CV] END bootstrap=True, max_depth=30, max_features=sqrt, min_samples_leaf=1, min_samples_split=10, n_estimators=450; total time=   1.6s\n"
     ]
    },
    {
     "name": "stderr",
     "output_type": "stream",
     "text": [
      "/Users/florian/opt/anaconda3/envs/comp30830/lib/python3.10/site-packages/sklearn/ensemble/_forest.py:413: FutureWarning: `max_features='auto'` has been deprecated in 1.1 and will be removed in 1.3. To keep the past behaviour, explicitly set `max_features=1.0` or remove this parameter as it is also the default value for RandomForestRegressors and ExtraTreesRegressors.\n",
      "  warn(\n"
     ]
    },
    {
     "name": "stdout",
     "output_type": "stream",
     "text": [
      "[CV] END bootstrap=True, max_depth=70, max_features=auto, min_samples_leaf=1, min_samples_split=2, n_estimators=230; total time=   2.2s\n",
      "[CV] END bootstrap=True, max_depth=70, max_features=auto, min_samples_leaf=1, min_samples_split=2, n_estimators=230; total time=   2.2s\n"
     ]
    },
    {
     "name": "stderr",
     "output_type": "stream",
     "text": [
      "/Users/florian/opt/anaconda3/envs/comp30830/lib/python3.10/site-packages/sklearn/ensemble/_forest.py:413: FutureWarning: `max_features='auto'` has been deprecated in 1.1 and will be removed in 1.3. To keep the past behaviour, explicitly set `max_features=1.0` or remove this parameter as it is also the default value for RandomForestRegressors and ExtraTreesRegressors.\n",
      "  warn(\n",
      "/Users/florian/opt/anaconda3/envs/comp30830/lib/python3.10/site-packages/sklearn/ensemble/_forest.py:413: FutureWarning: `max_features='auto'` has been deprecated in 1.1 and will be removed in 1.3. To keep the past behaviour, explicitly set `max_features=1.0` or remove this parameter as it is also the default value for RandomForestRegressors and ExtraTreesRegressors.\n",
      "  warn(\n"
     ]
    },
    {
     "name": "stdout",
     "output_type": "stream",
     "text": [
      "[CV] END bootstrap=True, max_depth=70, max_features=auto, min_samples_leaf=1, min_samples_split=2, n_estimators=230; total time=   2.2s\n",
      "[CV] END bootstrap=False, max_depth=50, max_features=auto, min_samples_leaf=1, min_samples_split=10, n_estimators=450; total time=   5.5s\n",
      "[CV] END bootstrap=False, max_depth=50, max_features=auto, min_samples_leaf=1, min_samples_split=10, n_estimators=450; total time=   5.5s\n"
     ]
    },
    {
     "name": "stderr",
     "output_type": "stream",
     "text": [
      "/Users/florian/opt/anaconda3/envs/comp30830/lib/python3.10/site-packages/sklearn/ensemble/_forest.py:413: FutureWarning: `max_features='auto'` has been deprecated in 1.1 and will be removed in 1.3. To keep the past behaviour, explicitly set `max_features=1.0` or remove this parameter as it is also the default value for RandomForestRegressors and ExtraTreesRegressors.\n",
      "  warn(\n",
      "/Users/florian/opt/anaconda3/envs/comp30830/lib/python3.10/site-packages/sklearn/ensemble/_forest.py:413: FutureWarning: `max_features='auto'` has been deprecated in 1.1 and will be removed in 1.3. To keep the past behaviour, explicitly set `max_features=1.0` or remove this parameter as it is also the default value for RandomForestRegressors and ExtraTreesRegressors.\n",
      "  warn(\n"
     ]
    },
    {
     "name": "stdout",
     "output_type": "stream",
     "text": [
      "[CV] END bootstrap=False, max_depth=50, max_features=auto, min_samples_leaf=1, min_samples_split=10, n_estimators=450; total time=   5.6s\n",
      "[CV] END bootstrap=True, max_depth=None, max_features=auto, min_samples_leaf=4, min_samples_split=2, n_estimators=780; total time=   5.2s\n",
      "[CV] END bootstrap=True, max_depth=None, max_features=auto, min_samples_leaf=4, min_samples_split=2, n_estimators=780; total time=   5.2s\n",
      "[CV] END bootstrap=True, max_depth=None, max_features=auto, min_samples_leaf=4, min_samples_split=2, n_estimators=780; total time=   5.2s\n",
      "[CV] END bootstrap=False, max_depth=30, max_features=auto, min_samples_leaf=2, min_samples_split=2, n_estimators=890; total time=   9.1s\n",
      "[CV] END bootstrap=False, max_depth=30, max_features=auto, min_samples_leaf=2, min_samples_split=2, n_estimators=890; total time=   9.0s\n",
      "[CV] END bootstrap=False, max_depth=30, max_features=auto, min_samples_leaf=2, min_samples_split=2, n_estimators=890; total time=   9.0s\n",
      "Model Performance\n",
      "Average Error: 0.0173 degrees.\n",
      "RMSE: 0.0308.\n",
      "Accuracy = 96.92%.\n",
      "Model Performance\n",
      "Average Error: 0.0133 degrees.\n",
      "RMSE: 0.0308.\n",
      "Accuracy = 96.92%.\n",
      "----------------------------------------------------------\n",
      "Improvement of 0.00%.\n",
      "----------------------------------------------------------\n",
      "Mean absolute error: 0.022497210599721082\n",
      "Root Mean Square Error: 0.04317764247681756\n",
      "Fitting 3 folds for each of 20 candidates, totalling 60 fits\n",
      "[CV] END bootstrap=True, max_depth=50, max_features=sqrt, min_samples_leaf=2, min_samples_split=10, n_estimators=10; total time=   0.0s\n",
      "[CV] END bootstrap=True, max_depth=50, max_features=sqrt, min_samples_leaf=2, min_samples_split=10, n_estimators=10; total time=   0.0s\n",
      "[CV] END bootstrap=True, max_depth=50, max_features=sqrt, min_samples_leaf=2, min_samples_split=10, n_estimators=10; total time=   0.0s\n"
     ]
    },
    {
     "name": "stderr",
     "output_type": "stream",
     "text": [
      "/Users/florian/opt/anaconda3/envs/comp30830/lib/python3.10/site-packages/sklearn/ensemble/_forest.py:413: FutureWarning: `max_features='auto'` has been deprecated in 1.1 and will be removed in 1.3. To keep the past behaviour, explicitly set `max_features=1.0` or remove this parameter as it is also the default value for RandomForestRegressors and ExtraTreesRegressors.\n",
      "  warn(\n",
      "/Users/florian/opt/anaconda3/envs/comp30830/lib/python3.10/site-packages/sklearn/ensemble/_forest.py:413: FutureWarning: `max_features='auto'` has been deprecated in 1.1 and will be removed in 1.3. To keep the past behaviour, explicitly set `max_features=1.0` or remove this parameter as it is also the default value for RandomForestRegressors and ExtraTreesRegressors.\n",
      "  warn(\n",
      "/Users/florian/opt/anaconda3/envs/comp30830/lib/python3.10/site-packages/sklearn/ensemble/_forest.py:413: FutureWarning: `max_features='auto'` has been deprecated in 1.1 and will be removed in 1.3. To keep the past behaviour, explicitly set `max_features=1.0` or remove this parameter as it is also the default value for RandomForestRegressors and ExtraTreesRegressors.\n",
      "  warn(\n"
     ]
    },
    {
     "name": "stdout",
     "output_type": "stream",
     "text": [
      "[CV] END bootstrap=False, max_depth=90, max_features=sqrt, min_samples_leaf=4, min_samples_split=10, n_estimators=230; total time=   1.3s\n",
      "[CV] END bootstrap=False, max_depth=90, max_features=sqrt, min_samples_leaf=4, min_samples_split=10, n_estimators=230; total time=   1.5s\n"
     ]
    },
    {
     "name": "stderr",
     "output_type": "stream",
     "text": [
      "/Users/florian/opt/anaconda3/envs/comp30830/lib/python3.10/site-packages/sklearn/ensemble/_forest.py:413: FutureWarning: `max_features='auto'` has been deprecated in 1.1 and will be removed in 1.3. To keep the past behaviour, explicitly set `max_features=1.0` or remove this parameter as it is also the default value for RandomForestRegressors and ExtraTreesRegressors.\n",
      "  warn(\n",
      "/Users/florian/opt/anaconda3/envs/comp30830/lib/python3.10/site-packages/sklearn/ensemble/_forest.py:413: FutureWarning: `max_features='auto'` has been deprecated in 1.1 and will be removed in 1.3. To keep the past behaviour, explicitly set `max_features=1.0` or remove this parameter as it is also the default value for RandomForestRegressors and ExtraTreesRegressors.\n",
      "  warn(\n"
     ]
    },
    {
     "name": "stdout",
     "output_type": "stream",
     "text": [
      "[CV] END bootstrap=False, max_depth=90, max_features=sqrt, min_samples_leaf=4, min_samples_split=10, n_estimators=230; total time=   1.5s\n",
      "[CV] END bootstrap=True, max_depth=30, max_features=sqrt, min_samples_leaf=1, min_samples_split=5, n_estimators=670; total time=   2.8s\n",
      "[CV] END bootstrap=True, max_depth=30, max_features=sqrt, min_samples_leaf=1, min_samples_split=5, n_estimators=670; total time=   3.0s\n"
     ]
    },
    {
     "name": "stderr",
     "output_type": "stream",
     "text": [
      "/Users/florian/opt/anaconda3/envs/comp30830/lib/python3.10/site-packages/sklearn/ensemble/_forest.py:413: FutureWarning: `max_features='auto'` has been deprecated in 1.1 and will be removed in 1.3. To keep the past behaviour, explicitly set `max_features=1.0` or remove this parameter as it is also the default value for RandomForestRegressors and ExtraTreesRegressors.\n",
      "  warn(\n"
     ]
    },
    {
     "name": "stdout",
     "output_type": "stream",
     "text": [
      "[CV] END bootstrap=False, max_depth=60, max_features=auto, min_samples_leaf=2, min_samples_split=2, n_estimators=230; total time=   3.4s\n",
      "[CV] END bootstrap=False, max_depth=60, max_features=auto, min_samples_leaf=2, min_samples_split=2, n_estimators=230; total time=   3.4s\n",
      "[CV] END bootstrap=False, max_depth=60, max_features=auto, min_samples_leaf=2, min_samples_split=2, n_estimators=230; total time=   3.4s\n"
     ]
    },
    {
     "name": "stderr",
     "output_type": "stream",
     "text": [
      "/Users/florian/opt/anaconda3/envs/comp30830/lib/python3.10/site-packages/sklearn/ensemble/_forest.py:413: FutureWarning: `max_features='auto'` has been deprecated in 1.1 and will be removed in 1.3. To keep the past behaviour, explicitly set `max_features=1.0` or remove this parameter as it is also the default value for RandomForestRegressors and ExtraTreesRegressors.\n",
      "  warn(\n",
      "/Users/florian/opt/anaconda3/envs/comp30830/lib/python3.10/site-packages/sklearn/ensemble/_forest.py:413: FutureWarning: `max_features='auto'` has been deprecated in 1.1 and will be removed in 1.3. To keep the past behaviour, explicitly set `max_features=1.0` or remove this parameter as it is also the default value for RandomForestRegressors and ExtraTreesRegressors.\n",
      "  warn(\n"
     ]
    },
    {
     "name": "stdout",
     "output_type": "stream",
     "text": [
      "[CV] END bootstrap=False, max_depth=60, max_features=sqrt, min_samples_leaf=1, min_samples_split=10, n_estimators=120; total time=   0.5s\n",
      "[CV] END bootstrap=True, max_depth=10, max_features=sqrt, min_samples_leaf=2, min_samples_split=5, n_estimators=10; total time=   0.0s\n",
      "[CV] END bootstrap=True, max_depth=10, max_features=sqrt, min_samples_leaf=2, min_samples_split=5, n_estimators=10; total time=   0.0s\n"
     ]
    },
    {
     "name": "stderr",
     "output_type": "stream",
     "text": [
      "/Users/florian/opt/anaconda3/envs/comp30830/lib/python3.10/site-packages/sklearn/ensemble/_forest.py:413: FutureWarning: `max_features='auto'` has been deprecated in 1.1 and will be removed in 1.3. To keep the past behaviour, explicitly set `max_features=1.0` or remove this parameter as it is also the default value for RandomForestRegressors and ExtraTreesRegressors.\n",
      "  warn(\n",
      "/Users/florian/opt/anaconda3/envs/comp30830/lib/python3.10/site-packages/sklearn/ensemble/_forest.py:413: FutureWarning: `max_features='auto'` has been deprecated in 1.1 and will be removed in 1.3. To keep the past behaviour, explicitly set `max_features=1.0` or remove this parameter as it is also the default value for RandomForestRegressors and ExtraTreesRegressors.\n",
      "  warn(\n"
     ]
    },
    {
     "name": "stdout",
     "output_type": "stream",
     "text": [
      "[CV] END bootstrap=True, max_depth=30, max_features=sqrt, min_samples_leaf=1, min_samples_split=5, n_estimators=670; total time=   2.5s\n",
      "[CV] END bootstrap=False, max_depth=60, max_features=sqrt, min_samples_leaf=1, min_samples_split=10, n_estimators=120; total time=   0.5s\n",
      "[CV] END bootstrap=False, max_depth=60, max_features=sqrt, min_samples_leaf=1, min_samples_split=10, n_estimators=120; total time=   0.6s\n"
     ]
    },
    {
     "name": "stderr",
     "output_type": "stream",
     "text": [
      "/Users/florian/opt/anaconda3/envs/comp30830/lib/python3.10/site-packages/sklearn/ensemble/_forest.py:413: FutureWarning: `max_features='auto'` has been deprecated in 1.1 and will be removed in 1.3. To keep the past behaviour, explicitly set `max_features=1.0` or remove this parameter as it is also the default value for RandomForestRegressors and ExtraTreesRegressors.\n",
      "  warn(\n"
     ]
    },
    {
     "name": "stdout",
     "output_type": "stream",
     "text": [
      "[CV] END bootstrap=False, max_depth=80, max_features=auto, min_samples_leaf=1, min_samples_split=10, n_estimators=450; total time=   6.1s\n",
      "[CV] END bootstrap=False, max_depth=80, max_features=auto, min_samples_leaf=1, min_samples_split=10, n_estimators=450; total time=   6.1s\n"
     ]
    },
    {
     "name": "stderr",
     "output_type": "stream",
     "text": [
      "/Users/florian/opt/anaconda3/envs/comp30830/lib/python3.10/site-packages/sklearn/ensemble/_forest.py:413: FutureWarning: `max_features='auto'` has been deprecated in 1.1 and will be removed in 1.3. To keep the past behaviour, explicitly set `max_features=1.0` or remove this parameter as it is also the default value for RandomForestRegressors and ExtraTreesRegressors.\n",
      "  warn(\n",
      "/Users/florian/opt/anaconda3/envs/comp30830/lib/python3.10/site-packages/sklearn/ensemble/_forest.py:413: FutureWarning: `max_features='auto'` has been deprecated in 1.1 and will be removed in 1.3. To keep the past behaviour, explicitly set `max_features=1.0` or remove this parameter as it is also the default value for RandomForestRegressors and ExtraTreesRegressors.\n",
      "  warn(\n"
     ]
    },
    {
     "name": "stdout",
     "output_type": "stream",
     "text": [
      "[CV] END bootstrap=False, max_depth=80, max_features=auto, min_samples_leaf=1, min_samples_split=10, n_estimators=450; total time=   5.7s\n",
      "[CV] END bootstrap=True, max_depth=100, max_features=auto, min_samples_leaf=4, min_samples_split=2, n_estimators=560; total time=   5.3s\n",
      "[CV] END bootstrap=False, max_depth=20, max_features=auto, min_samples_leaf=2, min_samples_split=10, n_estimators=120; total time=   1.5s\n",
      "[CV] END bootstrap=False, max_depth=20, max_features=auto, min_samples_leaf=2, min_samples_split=10, n_estimators=120; total time=   1.5s\n",
      "[CV] END bootstrap=True, max_depth=100, max_features=auto, min_samples_leaf=4, min_samples_split=2, n_estimators=560; total time=   5.3s\n"
     ]
    },
    {
     "name": "stderr",
     "output_type": "stream",
     "text": [
      "/Users/florian/opt/anaconda3/envs/comp30830/lib/python3.10/site-packages/sklearn/ensemble/_forest.py:413: FutureWarning: `max_features='auto'` has been deprecated in 1.1 and will be removed in 1.3. To keep the past behaviour, explicitly set `max_features=1.0` or remove this parameter as it is also the default value for RandomForestRegressors and ExtraTreesRegressors.\n",
      "  warn(\n",
      "/Users/florian/opt/anaconda3/envs/comp30830/lib/python3.10/site-packages/sklearn/ensemble/_forest.py:413: FutureWarning: `max_features='auto'` has been deprecated in 1.1 and will be removed in 1.3. To keep the past behaviour, explicitly set `max_features=1.0` or remove this parameter as it is also the default value for RandomForestRegressors and ExtraTreesRegressors.\n",
      "  warn(\n",
      "/Users/florian/opt/anaconda3/envs/comp30830/lib/python3.10/site-packages/sklearn/ensemble/_forest.py:413: FutureWarning: `max_features='auto'` has been deprecated in 1.1 and will be removed in 1.3. To keep the past behaviour, explicitly set `max_features=1.0` or remove this parameter as it is also the default value for RandomForestRegressors and ExtraTreesRegressors.\n",
      "  warn(\n"
     ]
    },
    {
     "name": "stdout",
     "output_type": "stream",
     "text": [
      "[CV] END bootstrap=False, max_depth=20, max_features=sqrt, min_samples_leaf=1, min_samples_split=2, n_estimators=340; total time=   1.9s\n",
      "[CV] END bootstrap=False, max_depth=20, max_features=auto, min_samples_leaf=2, min_samples_split=10, n_estimators=120; total time=   1.5s\n",
      "[CV] END bootstrap=False, max_depth=20, max_features=sqrt, min_samples_leaf=1, min_samples_split=2, n_estimators=340; total time=   2.0s\n",
      "[CV] END bootstrap=True, max_depth=70, max_features=sqrt, min_samples_leaf=1, min_samples_split=5, n_estimators=450; total time=   1.6s\n",
      "[CV] END bootstrap=False, max_depth=20, max_features=sqrt, min_samples_leaf=1, min_samples_split=2, n_estimators=340; total time=   1.7s\n",
      "[CV] END bootstrap=True, max_depth=70, max_features=sqrt, min_samples_leaf=1, min_samples_split=5, n_estimators=450; total time=   1.6s\n",
      "[CV] END bootstrap=True, max_depth=70, max_features=sqrt, min_samples_leaf=1, min_samples_split=5, n_estimators=450; total time=   1.7s\n",
      "[CV] END bootstrap=True, max_depth=100, max_features=auto, min_samples_leaf=4, min_samples_split=2, n_estimators=560; total time=   5.2s\n",
      "[CV] END bootstrap=True, max_depth=50, max_features=auto, min_samples_leaf=2, min_samples_split=5, n_estimators=1000; total time=   9.9s\n"
     ]
    },
    {
     "name": "stderr",
     "output_type": "stream",
     "text": [
      "/Users/florian/opt/anaconda3/envs/comp30830/lib/python3.10/site-packages/sklearn/ensemble/_forest.py:413: FutureWarning: `max_features='auto'` has been deprecated in 1.1 and will be removed in 1.3. To keep the past behaviour, explicitly set `max_features=1.0` or remove this parameter as it is also the default value for RandomForestRegressors and ExtraTreesRegressors.\n",
      "  warn(\n"
     ]
    },
    {
     "name": "stdout",
     "output_type": "stream",
     "text": [
      "[CV] END bootstrap=False, max_depth=70, max_features=sqrt, min_samples_leaf=2, min_samples_split=10, n_estimators=560; total time=   2.5s\n",
      "[CV] END bootstrap=False, max_depth=70, max_features=sqrt, min_samples_leaf=2, min_samples_split=10, n_estimators=560; total time=   2.4s\n"
     ]
    },
    {
     "name": "stderr",
     "output_type": "stream",
     "text": [
      "/Users/florian/opt/anaconda3/envs/comp30830/lib/python3.10/site-packages/sklearn/ensemble/_forest.py:413: FutureWarning: `max_features='auto'` has been deprecated in 1.1 and will be removed in 1.3. To keep the past behaviour, explicitly set `max_features=1.0` or remove this parameter as it is also the default value for RandomForestRegressors and ExtraTreesRegressors.\n",
      "  warn(\n"
     ]
    },
    {
     "name": "stdout",
     "output_type": "stream",
     "text": [
      "[CV] END bootstrap=False, max_depth=50, max_features=auto, min_samples_leaf=2, min_samples_split=2, n_estimators=1000; total time=  13.4s\n",
      "[CV] END bootstrap=True, max_depth=10, max_features=sqrt, min_samples_leaf=2, min_samples_split=5, n_estimators=10; total time=   0.1s\n",
      "[CV] END bootstrap=False, max_depth=70, max_features=sqrt, min_samples_leaf=2, min_samples_split=10, n_estimators=560; total time=   3.0s\n",
      "[CV] END bootstrap=False, max_depth=50, max_features=auto, min_samples_leaf=2, min_samples_split=2, n_estimators=1000; total time=  14.5s\n"
     ]
    },
    {
     "name": "stderr",
     "output_type": "stream",
     "text": [
      "/Users/florian/opt/anaconda3/envs/comp30830/lib/python3.10/site-packages/sklearn/ensemble/_forest.py:413: FutureWarning: `max_features='auto'` has been deprecated in 1.1 and will be removed in 1.3. To keep the past behaviour, explicitly set `max_features=1.0` or remove this parameter as it is also the default value for RandomForestRegressors and ExtraTreesRegressors.\n",
      "  warn(\n"
     ]
    },
    {
     "name": "stdout",
     "output_type": "stream",
     "text": [
      "[CV] END bootstrap=False, max_depth=110, max_features=sqrt, min_samples_leaf=4, min_samples_split=2, n_estimators=780; total time=   4.2s\n",
      "[CV] END bootstrap=False, max_depth=110, max_features=sqrt, min_samples_leaf=4, min_samples_split=2, n_estimators=780; total time=   4.1s\n"
     ]
    },
    {
     "name": "stderr",
     "output_type": "stream",
     "text": [
      "/Users/florian/opt/anaconda3/envs/comp30830/lib/python3.10/site-packages/sklearn/ensemble/_forest.py:413: FutureWarning: `max_features='auto'` has been deprecated in 1.1 and will be removed in 1.3. To keep the past behaviour, explicitly set `max_features=1.0` or remove this parameter as it is also the default value for RandomForestRegressors and ExtraTreesRegressors.\n",
      "  warn(\n"
     ]
    },
    {
     "name": "stdout",
     "output_type": "stream",
     "text": [
      "[CV] END bootstrap=True, max_depth=30, max_features=sqrt, min_samples_leaf=1, min_samples_split=10, n_estimators=450; total time=   2.1s\n",
      "[CV] END bootstrap=True, max_depth=50, max_features=auto, min_samples_leaf=2, min_samples_split=5, n_estimators=1000; total time=  10.4s\n",
      "[CV] END bootstrap=True, max_depth=30, max_features=sqrt, min_samples_leaf=1, min_samples_split=10, n_estimators=450; total time=   1.9s\n"
     ]
    },
    {
     "name": "stderr",
     "output_type": "stream",
     "text": [
      "/Users/florian/opt/anaconda3/envs/comp30830/lib/python3.10/site-packages/sklearn/ensemble/_forest.py:413: FutureWarning: `max_features='auto'` has been deprecated in 1.1 and will be removed in 1.3. To keep the past behaviour, explicitly set `max_features=1.0` or remove this parameter as it is also the default value for RandomForestRegressors and ExtraTreesRegressors.\n",
      "  warn(\n",
      "/Users/florian/opt/anaconda3/envs/comp30830/lib/python3.10/site-packages/sklearn/ensemble/_forest.py:413: FutureWarning: `max_features='auto'` has been deprecated in 1.1 and will be removed in 1.3. To keep the past behaviour, explicitly set `max_features=1.0` or remove this parameter as it is also the default value for RandomForestRegressors and ExtraTreesRegressors.\n",
      "  warn(\n"
     ]
    },
    {
     "name": "stdout",
     "output_type": "stream",
     "text": [
      "[CV] END bootstrap=True, max_depth=30, max_features=sqrt, min_samples_leaf=1, min_samples_split=10, n_estimators=450; total time=   1.9s\n"
     ]
    },
    {
     "name": "stderr",
     "output_type": "stream",
     "text": [
      "/Users/florian/opt/anaconda3/envs/comp30830/lib/python3.10/site-packages/sklearn/ensemble/_forest.py:413: FutureWarning: `max_features='auto'` has been deprecated in 1.1 and will be removed in 1.3. To keep the past behaviour, explicitly set `max_features=1.0` or remove this parameter as it is also the default value for RandomForestRegressors and ExtraTreesRegressors.\n",
      "  warn(\n"
     ]
    },
    {
     "name": "stdout",
     "output_type": "stream",
     "text": [
      "[CV] END bootstrap=False, max_depth=50, max_features=auto, min_samples_leaf=1, min_samples_split=10, n_estimators=450; total time=   6.7s\n"
     ]
    },
    {
     "name": "stderr",
     "output_type": "stream",
     "text": [
      "/Users/florian/opt/anaconda3/envs/comp30830/lib/python3.10/site-packages/sklearn/ensemble/_forest.py:413: FutureWarning: `max_features='auto'` has been deprecated in 1.1 and will be removed in 1.3. To keep the past behaviour, explicitly set `max_features=1.0` or remove this parameter as it is also the default value for RandomForestRegressors and ExtraTreesRegressors.\n",
      "  warn(\n"
     ]
    },
    {
     "name": "stdout",
     "output_type": "stream",
     "text": [
      "[CV] END bootstrap=True, max_depth=70, max_features=auto, min_samples_leaf=1, min_samples_split=2, n_estimators=230; total time=   2.8s\n",
      "[CV] END bootstrap=False, max_depth=110, max_features=sqrt, min_samples_leaf=4, min_samples_split=2, n_estimators=780; total time=   4.4s\n"
     ]
    },
    {
     "name": "stderr",
     "output_type": "stream",
     "text": [
      "/Users/florian/opt/anaconda3/envs/comp30830/lib/python3.10/site-packages/sklearn/ensemble/_forest.py:413: FutureWarning: `max_features='auto'` has been deprecated in 1.1 and will be removed in 1.3. To keep the past behaviour, explicitly set `max_features=1.0` or remove this parameter as it is also the default value for RandomForestRegressors and ExtraTreesRegressors.\n",
      "  warn(\n",
      "/Users/florian/opt/anaconda3/envs/comp30830/lib/python3.10/site-packages/sklearn/ensemble/_forest.py:413: FutureWarning: `max_features='auto'` has been deprecated in 1.1 and will be removed in 1.3. To keep the past behaviour, explicitly set `max_features=1.0` or remove this parameter as it is also the default value for RandomForestRegressors and ExtraTreesRegressors.\n",
      "  warn(\n"
     ]
    },
    {
     "name": "stdout",
     "output_type": "stream",
     "text": [
      "[CV] END bootstrap=True, max_depth=70, max_features=auto, min_samples_leaf=1, min_samples_split=2, n_estimators=230; total time=   2.9s\n"
     ]
    },
    {
     "name": "stderr",
     "output_type": "stream",
     "text": [
      "/Users/florian/opt/anaconda3/envs/comp30830/lib/python3.10/site-packages/sklearn/ensemble/_forest.py:413: FutureWarning: `max_features='auto'` has been deprecated in 1.1 and will be removed in 1.3. To keep the past behaviour, explicitly set `max_features=1.0` or remove this parameter as it is also the default value for RandomForestRegressors and ExtraTreesRegressors.\n",
      "  warn(\n"
     ]
    },
    {
     "name": "stdout",
     "output_type": "stream",
     "text": [
      "[CV] END bootstrap=True, max_depth=70, max_features=auto, min_samples_leaf=1, min_samples_split=2, n_estimators=230; total time=   2.9s\n"
     ]
    },
    {
     "name": "stderr",
     "output_type": "stream",
     "text": [
      "/Users/florian/opt/anaconda3/envs/comp30830/lib/python3.10/site-packages/sklearn/ensemble/_forest.py:413: FutureWarning: `max_features='auto'` has been deprecated in 1.1 and will be removed in 1.3. To keep the past behaviour, explicitly set `max_features=1.0` or remove this parameter as it is also the default value for RandomForestRegressors and ExtraTreesRegressors.\n",
      "  warn(\n"
     ]
    },
    {
     "name": "stdout",
     "output_type": "stream",
     "text": [
      "[CV] END bootstrap=False, max_depth=50, max_features=auto, min_samples_leaf=1, min_samples_split=10, n_estimators=450; total time=   6.6s\n"
     ]
    },
    {
     "name": "stderr",
     "output_type": "stream",
     "text": [
      "/Users/florian/opt/anaconda3/envs/comp30830/lib/python3.10/site-packages/sklearn/ensemble/_forest.py:413: FutureWarning: `max_features='auto'` has been deprecated in 1.1 and will be removed in 1.3. To keep the past behaviour, explicitly set `max_features=1.0` or remove this parameter as it is also the default value for RandomForestRegressors and ExtraTreesRegressors.\n",
      "  warn(\n"
     ]
    },
    {
     "name": "stdout",
     "output_type": "stream",
     "text": [
      "[CV] END bootstrap=True, max_depth=50, max_features=auto, min_samples_leaf=2, min_samples_split=5, n_estimators=1000; total time=  11.1s\n"
     ]
    },
    {
     "name": "stderr",
     "output_type": "stream",
     "text": [
      "/Users/florian/opt/anaconda3/envs/comp30830/lib/python3.10/site-packages/sklearn/ensemble/_forest.py:413: FutureWarning: `max_features='auto'` has been deprecated in 1.1 and will be removed in 1.3. To keep the past behaviour, explicitly set `max_features=1.0` or remove this parameter as it is also the default value for RandomForestRegressors and ExtraTreesRegressors.\n",
      "  warn(\n"
     ]
    },
    {
     "name": "stdout",
     "output_type": "stream",
     "text": [
      "[CV] END bootstrap=False, max_depth=50, max_features=auto, min_samples_leaf=1, min_samples_split=10, n_estimators=450; total time=   5.6s\n",
      "[CV] END bootstrap=True, max_depth=None, max_features=auto, min_samples_leaf=4, min_samples_split=2, n_estimators=780; total time=   6.7s\n",
      "[CV] END bootstrap=True, max_depth=None, max_features=auto, min_samples_leaf=4, min_samples_split=2, n_estimators=780; total time=   6.6s\n",
      "[CV] END bootstrap=False, max_depth=50, max_features=auto, min_samples_leaf=2, min_samples_split=2, n_estimators=1000; total time=  13.8s\n",
      "[CV] END bootstrap=True, max_depth=None, max_features=auto, min_samples_leaf=4, min_samples_split=2, n_estimators=780; total time=   6.5s\n",
      "[CV] END bootstrap=False, max_depth=30, max_features=auto, min_samples_leaf=2, min_samples_split=2, n_estimators=890; total time=  10.8s\n",
      "[CV] END bootstrap=False, max_depth=30, max_features=auto, min_samples_leaf=2, min_samples_split=2, n_estimators=890; total time=  10.7s\n",
      "[CV] END bootstrap=False, max_depth=30, max_features=auto, min_samples_leaf=2, min_samples_split=2, n_estimators=890; total time=  11.1s\n",
      "Model Performance\n",
      "Average Error: 0.0225 degrees.\n",
      "RMSE: 0.0432.\n",
      "Accuracy = 95.68%.\n",
      "Model Performance\n",
      "Average Error: 0.0167 degrees.\n",
      "RMSE: 0.0432.\n",
      "Accuracy = 95.68%.\n",
      "----------------------------------------------------------\n",
      "Improvement of 0.00%.\n",
      "----------------------------------------------------------\n",
      "Mean absolute error: 0.023525104602510498\n",
      "Root Mean Square Error: 0.038152144405440874\n",
      "Fitting 3 folds for each of 20 candidates, totalling 60 fits\n",
      "[CV] END bootstrap=True, max_depth=50, max_features=sqrt, min_samples_leaf=2, min_samples_split=10, n_estimators=10; total time=   0.0s\n",
      "[CV] END bootstrap=True, max_depth=50, max_features=sqrt, min_samples_leaf=2, min_samples_split=10, n_estimators=10; total time=   0.0s\n",
      "[CV] END bootstrap=True, max_depth=50, max_features=sqrt, min_samples_leaf=2, min_samples_split=10, n_estimators=10; total time=   0.0s\n"
     ]
    },
    {
     "name": "stderr",
     "output_type": "stream",
     "text": [
      "/Users/florian/opt/anaconda3/envs/comp30830/lib/python3.10/site-packages/sklearn/ensemble/_forest.py:413: FutureWarning: `max_features='auto'` has been deprecated in 1.1 and will be removed in 1.3. To keep the past behaviour, explicitly set `max_features=1.0` or remove this parameter as it is also the default value for RandomForestRegressors and ExtraTreesRegressors.\n",
      "  warn(\n",
      "/Users/florian/opt/anaconda3/envs/comp30830/lib/python3.10/site-packages/sklearn/ensemble/_forest.py:413: FutureWarning: `max_features='auto'` has been deprecated in 1.1 and will be removed in 1.3. To keep the past behaviour, explicitly set `max_features=1.0` or remove this parameter as it is also the default value for RandomForestRegressors and ExtraTreesRegressors.\n",
      "  warn(\n",
      "/Users/florian/opt/anaconda3/envs/comp30830/lib/python3.10/site-packages/sklearn/ensemble/_forest.py:413: FutureWarning: `max_features='auto'` has been deprecated in 1.1 and will be removed in 1.3. To keep the past behaviour, explicitly set `max_features=1.0` or remove this parameter as it is also the default value for RandomForestRegressors and ExtraTreesRegressors.\n",
      "  warn(\n"
     ]
    },
    {
     "name": "stdout",
     "output_type": "stream",
     "text": [
      "[CV] END bootstrap=False, max_depth=90, max_features=sqrt, min_samples_leaf=4, min_samples_split=10, n_estimators=230; total time=   0.9s\n",
      "[CV] END bootstrap=False, max_depth=90, max_features=sqrt, min_samples_leaf=4, min_samples_split=10, n_estimators=230; total time=   1.1s\n",
      "[CV] END bootstrap=False, max_depth=90, max_features=sqrt, min_samples_leaf=4, min_samples_split=10, n_estimators=230; total time=   1.1s\n"
     ]
    },
    {
     "name": "stderr",
     "output_type": "stream",
     "text": [
      "/Users/florian/opt/anaconda3/envs/comp30830/lib/python3.10/site-packages/sklearn/ensemble/_forest.py:413: FutureWarning: `max_features='auto'` has been deprecated in 1.1 and will be removed in 1.3. To keep the past behaviour, explicitly set `max_features=1.0` or remove this parameter as it is also the default value for RandomForestRegressors and ExtraTreesRegressors.\n",
      "  warn(\n",
      "/Users/florian/opt/anaconda3/envs/comp30830/lib/python3.10/site-packages/sklearn/ensemble/_forest.py:413: FutureWarning: `max_features='auto'` has been deprecated in 1.1 and will be removed in 1.3. To keep the past behaviour, explicitly set `max_features=1.0` or remove this parameter as it is also the default value for RandomForestRegressors and ExtraTreesRegressors.\n",
      "  warn(\n"
     ]
    },
    {
     "name": "stdout",
     "output_type": "stream",
     "text": [
      "[CV] END bootstrap=False, max_depth=60, max_features=auto, min_samples_leaf=2, min_samples_split=2, n_estimators=230; total time=   2.6s\n",
      "[CV] END bootstrap=True, max_depth=30, max_features=sqrt, min_samples_leaf=1, min_samples_split=5, n_estimators=670; total time=   2.5s\n",
      "[CV] END bootstrap=True, max_depth=30, max_features=sqrt, min_samples_leaf=1, min_samples_split=5, n_estimators=670; total time=   2.6s\n"
     ]
    },
    {
     "name": "stderr",
     "output_type": "stream",
     "text": [
      "/Users/florian/opt/anaconda3/envs/comp30830/lib/python3.10/site-packages/sklearn/ensemble/_forest.py:413: FutureWarning: `max_features='auto'` has been deprecated in 1.1 and will be removed in 1.3. To keep the past behaviour, explicitly set `max_features=1.0` or remove this parameter as it is also the default value for RandomForestRegressors and ExtraTreesRegressors.\n",
      "  warn(\n"
     ]
    },
    {
     "name": "stdout",
     "output_type": "stream",
     "text": [
      "[CV] END bootstrap=False, max_depth=60, max_features=auto, min_samples_leaf=2, min_samples_split=2, n_estimators=230; total time=   2.8s\n",
      "[CV] END bootstrap=False, max_depth=60, max_features=auto, min_samples_leaf=2, min_samples_split=2, n_estimators=230; total time=   2.9s\n"
     ]
    },
    {
     "name": "stderr",
     "output_type": "stream",
     "text": [
      "/Users/florian/opt/anaconda3/envs/comp30830/lib/python3.10/site-packages/sklearn/ensemble/_forest.py:413: FutureWarning: `max_features='auto'` has been deprecated in 1.1 and will be removed in 1.3. To keep the past behaviour, explicitly set `max_features=1.0` or remove this parameter as it is also the default value for RandomForestRegressors and ExtraTreesRegressors.\n",
      "  warn(\n",
      "/Users/florian/opt/anaconda3/envs/comp30830/lib/python3.10/site-packages/sklearn/ensemble/_forest.py:413: FutureWarning: `max_features='auto'` has been deprecated in 1.1 and will be removed in 1.3. To keep the past behaviour, explicitly set `max_features=1.0` or remove this parameter as it is also the default value for RandomForestRegressors and ExtraTreesRegressors.\n",
      "  warn(\n"
     ]
    },
    {
     "name": "stdout",
     "output_type": "stream",
     "text": [
      "[CV] END bootstrap=False, max_depth=60, max_features=sqrt, min_samples_leaf=1, min_samples_split=10, n_estimators=120; total time=   0.5s\n",
      "[CV] END bootstrap=False, max_depth=60, max_features=sqrt, min_samples_leaf=1, min_samples_split=10, n_estimators=120; total time=   0.5s\n",
      "[CV] END bootstrap=True, max_depth=10, max_features=sqrt, min_samples_leaf=2, min_samples_split=5, n_estimators=10; total time=   0.1s\n",
      "[CV] END bootstrap=True, max_depth=10, max_features=sqrt, min_samples_leaf=2, min_samples_split=5, n_estimators=10; total time=   0.0s\n",
      "[CV] END bootstrap=True, max_depth=30, max_features=sqrt, min_samples_leaf=1, min_samples_split=5, n_estimators=670; total time=   2.4s\n"
     ]
    },
    {
     "name": "stderr",
     "output_type": "stream",
     "text": [
      "/Users/florian/opt/anaconda3/envs/comp30830/lib/python3.10/site-packages/sklearn/ensemble/_forest.py:413: FutureWarning: `max_features='auto'` has been deprecated in 1.1 and will be removed in 1.3. To keep the past behaviour, explicitly set `max_features=1.0` or remove this parameter as it is also the default value for RandomForestRegressors and ExtraTreesRegressors.\n",
      "  warn(\n",
      "/Users/florian/opt/anaconda3/envs/comp30830/lib/python3.10/site-packages/sklearn/ensemble/_forest.py:413: FutureWarning: `max_features='auto'` has been deprecated in 1.1 and will be removed in 1.3. To keep the past behaviour, explicitly set `max_features=1.0` or remove this parameter as it is also the default value for RandomForestRegressors and ExtraTreesRegressors.\n",
      "  warn(\n"
     ]
    },
    {
     "name": "stdout",
     "output_type": "stream",
     "text": [
      "[CV] END bootstrap=False, max_depth=60, max_features=sqrt, min_samples_leaf=1, min_samples_split=10, n_estimators=120; total time=   0.5s\n"
     ]
    },
    {
     "name": "stderr",
     "output_type": "stream",
     "text": [
      "/Users/florian/opt/anaconda3/envs/comp30830/lib/python3.10/site-packages/sklearn/ensemble/_forest.py:413: FutureWarning: `max_features='auto'` has been deprecated in 1.1 and will be removed in 1.3. To keep the past behaviour, explicitly set `max_features=1.0` or remove this parameter as it is also the default value for RandomForestRegressors and ExtraTreesRegressors.\n",
      "  warn(\n"
     ]
    },
    {
     "name": "stdout",
     "output_type": "stream",
     "text": [
      "[CV] END bootstrap=False, max_depth=80, max_features=auto, min_samples_leaf=1, min_samples_split=10, n_estimators=450; total time=   4.7s\n",
      "[CV] END bootstrap=False, max_depth=80, max_features=auto, min_samples_leaf=1, min_samples_split=10, n_estimators=450; total time=   4.8s\n"
     ]
    },
    {
     "name": "stderr",
     "output_type": "stream",
     "text": [
      "/Users/florian/opt/anaconda3/envs/comp30830/lib/python3.10/site-packages/sklearn/ensemble/_forest.py:413: FutureWarning: `max_features='auto'` has been deprecated in 1.1 and will be removed in 1.3. To keep the past behaviour, explicitly set `max_features=1.0` or remove this parameter as it is also the default value for RandomForestRegressors and ExtraTreesRegressors.\n",
      "  warn(\n",
      "/Users/florian/opt/anaconda3/envs/comp30830/lib/python3.10/site-packages/sklearn/ensemble/_forest.py:413: FutureWarning: `max_features='auto'` has been deprecated in 1.1 and will be removed in 1.3. To keep the past behaviour, explicitly set `max_features=1.0` or remove this parameter as it is also the default value for RandomForestRegressors and ExtraTreesRegressors.\n",
      "  warn(\n"
     ]
    },
    {
     "name": "stdout",
     "output_type": "stream",
     "text": [
      "[CV] END bootstrap=False, max_depth=20, max_features=auto, min_samples_leaf=2, min_samples_split=10, n_estimators=120; total time=   1.2s\n",
      "[CV] END bootstrap=False, max_depth=80, max_features=auto, min_samples_leaf=1, min_samples_split=10, n_estimators=450; total time=   4.7s\n",
      "[CV] END bootstrap=False, max_depth=20, max_features=auto, min_samples_leaf=2, min_samples_split=10, n_estimators=120; total time=   1.5s\n"
     ]
    },
    {
     "name": "stderr",
     "output_type": "stream",
     "text": [
      "/Users/florian/opt/anaconda3/envs/comp30830/lib/python3.10/site-packages/sklearn/ensemble/_forest.py:413: FutureWarning: `max_features='auto'` has been deprecated in 1.1 and will be removed in 1.3. To keep the past behaviour, explicitly set `max_features=1.0` or remove this parameter as it is also the default value for RandomForestRegressors and ExtraTreesRegressors.\n",
      "  warn(\n"
     ]
    },
    {
     "name": "stdout",
     "output_type": "stream",
     "text": [
      "[CV] END bootstrap=True, max_depth=100, max_features=auto, min_samples_leaf=4, min_samples_split=2, n_estimators=560; total time=   4.2s\n"
     ]
    },
    {
     "name": "stderr",
     "output_type": "stream",
     "text": [
      "/Users/florian/opt/anaconda3/envs/comp30830/lib/python3.10/site-packages/sklearn/ensemble/_forest.py:413: FutureWarning: `max_features='auto'` has been deprecated in 1.1 and will be removed in 1.3. To keep the past behaviour, explicitly set `max_features=1.0` or remove this parameter as it is also the default value for RandomForestRegressors and ExtraTreesRegressors.\n",
      "  warn(\n"
     ]
    },
    {
     "name": "stdout",
     "output_type": "stream",
     "text": [
      "[CV] END bootstrap=True, max_depth=100, max_features=auto, min_samples_leaf=4, min_samples_split=2, n_estimators=560; total time=   4.4s\n"
     ]
    },
    {
     "name": "stderr",
     "output_type": "stream",
     "text": [
      "/Users/florian/opt/anaconda3/envs/comp30830/lib/python3.10/site-packages/sklearn/ensemble/_forest.py:413: FutureWarning: `max_features='auto'` has been deprecated in 1.1 and will be removed in 1.3. To keep the past behaviour, explicitly set `max_features=1.0` or remove this parameter as it is also the default value for RandomForestRegressors and ExtraTreesRegressors.\n",
      "  warn(\n"
     ]
    },
    {
     "name": "stdout",
     "output_type": "stream",
     "text": [
      "[CV] END bootstrap=False, max_depth=20, max_features=auto, min_samples_leaf=2, min_samples_split=10, n_estimators=120; total time=   1.2s\n",
      "[CV] END bootstrap=False, max_depth=20, max_features=sqrt, min_samples_leaf=1, min_samples_split=2, n_estimators=340; total time=   1.9s\n",
      "[CV] END bootstrap=False, max_depth=20, max_features=sqrt, min_samples_leaf=1, min_samples_split=2, n_estimators=340; total time=   1.7s\n",
      "[CV] END bootstrap=True, max_depth=70, max_features=sqrt, min_samples_leaf=1, min_samples_split=5, n_estimators=450; total time=   1.7s\n",
      "[CV] END bootstrap=True, max_depth=70, max_features=sqrt, min_samples_leaf=1, min_samples_split=5, n_estimators=450; total time=   1.6s\n",
      "[CV] END bootstrap=False, max_depth=20, max_features=sqrt, min_samples_leaf=1, min_samples_split=2, n_estimators=340; total time=   1.8s\n",
      "[CV] END bootstrap=True, max_depth=100, max_features=auto, min_samples_leaf=4, min_samples_split=2, n_estimators=560; total time=   4.3s\n",
      "[CV] END bootstrap=True, max_depth=70, max_features=sqrt, min_samples_leaf=1, min_samples_split=5, n_estimators=450; total time=   1.9s\n",
      "[CV] END bootstrap=True, max_depth=50, max_features=auto, min_samples_leaf=2, min_samples_split=5, n_estimators=1000; total time=   8.6s\n"
     ]
    },
    {
     "name": "stderr",
     "output_type": "stream",
     "text": [
      "/Users/florian/opt/anaconda3/envs/comp30830/lib/python3.10/site-packages/sklearn/ensemble/_forest.py:413: FutureWarning: `max_features='auto'` has been deprecated in 1.1 and will be removed in 1.3. To keep the past behaviour, explicitly set `max_features=1.0` or remove this parameter as it is also the default value for RandomForestRegressors and ExtraTreesRegressors.\n",
      "  warn(\n"
     ]
    },
    {
     "name": "stdout",
     "output_type": "stream",
     "text": [
      "[CV] END bootstrap=False, max_depth=70, max_features=sqrt, min_samples_leaf=2, min_samples_split=10, n_estimators=560; total time=   2.6s\n",
      "[CV] END bootstrap=False, max_depth=70, max_features=sqrt, min_samples_leaf=2, min_samples_split=10, n_estimators=560; total time=   2.5s\n"
     ]
    },
    {
     "name": "stderr",
     "output_type": "stream",
     "text": [
      "/Users/florian/opt/anaconda3/envs/comp30830/lib/python3.10/site-packages/sklearn/ensemble/_forest.py:413: FutureWarning: `max_features='auto'` has been deprecated in 1.1 and will be removed in 1.3. To keep the past behaviour, explicitly set `max_features=1.0` or remove this parameter as it is also the default value for RandomForestRegressors and ExtraTreesRegressors.\n",
      "  warn(\n"
     ]
    },
    {
     "name": "stdout",
     "output_type": "stream",
     "text": [
      "[CV] END bootstrap=False, max_depth=50, max_features=auto, min_samples_leaf=2, min_samples_split=2, n_estimators=1000; total time=  11.9s\n"
     ]
    },
    {
     "name": "stderr",
     "output_type": "stream",
     "text": [
      "/Users/florian/opt/anaconda3/envs/comp30830/lib/python3.10/site-packages/sklearn/ensemble/_forest.py:413: FutureWarning: `max_features='auto'` has been deprecated in 1.1 and will be removed in 1.3. To keep the past behaviour, explicitly set `max_features=1.0` or remove this parameter as it is also the default value for RandomForestRegressors and ExtraTreesRegressors.\n",
      "  warn(\n"
     ]
    },
    {
     "name": "stdout",
     "output_type": "stream",
     "text": [
      "[CV] END bootstrap=False, max_depth=50, max_features=auto, min_samples_leaf=2, min_samples_split=2, n_estimators=1000; total time=  12.2s\n",
      "[CV] END bootstrap=True, max_depth=10, max_features=sqrt, min_samples_leaf=2, min_samples_split=5, n_estimators=10; total time=   0.0s\n",
      "[CV] END bootstrap=False, max_depth=110, max_features=sqrt, min_samples_leaf=4, min_samples_split=2, n_estimators=780; total time=   3.5s\n",
      "[CV] END bootstrap=False, max_depth=110, max_features=sqrt, min_samples_leaf=4, min_samples_split=2, n_estimators=780; total time=   3.5s\n",
      "[CV] END bootstrap=False, max_depth=70, max_features=sqrt, min_samples_leaf=2, min_samples_split=10, n_estimators=560; total time=   2.5s\n"
     ]
    },
    {
     "name": "stderr",
     "output_type": "stream",
     "text": [
      "/Users/florian/opt/anaconda3/envs/comp30830/lib/python3.10/site-packages/sklearn/ensemble/_forest.py:413: FutureWarning: `max_features='auto'` has been deprecated in 1.1 and will be removed in 1.3. To keep the past behaviour, explicitly set `max_features=1.0` or remove this parameter as it is also the default value for RandomForestRegressors and ExtraTreesRegressors.\n",
      "  warn(\n"
     ]
    },
    {
     "name": "stdout",
     "output_type": "stream",
     "text": [
      "[CV] END bootstrap=True, max_depth=50, max_features=auto, min_samples_leaf=2, min_samples_split=5, n_estimators=1000; total time=   8.9s\n",
      "[CV] END bootstrap=True, max_depth=30, max_features=sqrt, min_samples_leaf=1, min_samples_split=10, n_estimators=450; total time=   1.6s\n"
     ]
    },
    {
     "name": "stderr",
     "output_type": "stream",
     "text": [
      "/Users/florian/opt/anaconda3/envs/comp30830/lib/python3.10/site-packages/sklearn/ensemble/_forest.py:413: FutureWarning: `max_features='auto'` has been deprecated in 1.1 and will be removed in 1.3. To keep the past behaviour, explicitly set `max_features=1.0` or remove this parameter as it is also the default value for RandomForestRegressors and ExtraTreesRegressors.\n",
      "  warn(\n"
     ]
    },
    {
     "name": "stdout",
     "output_type": "stream",
     "text": [
      "[CV] END bootstrap=True, max_depth=30, max_features=sqrt, min_samples_leaf=1, min_samples_split=10, n_estimators=450; total time=   1.6s\n"
     ]
    },
    {
     "name": "stderr",
     "output_type": "stream",
     "text": [
      "/Users/florian/opt/anaconda3/envs/comp30830/lib/python3.10/site-packages/sklearn/ensemble/_forest.py:413: FutureWarning: `max_features='auto'` has been deprecated in 1.1 and will be removed in 1.3. To keep the past behaviour, explicitly set `max_features=1.0` or remove this parameter as it is also the default value for RandomForestRegressors and ExtraTreesRegressors.\n",
      "  warn(\n"
     ]
    },
    {
     "name": "stdout",
     "output_type": "stream",
     "text": [
      "[CV] END bootstrap=False, max_depth=50, max_features=auto, min_samples_leaf=1, min_samples_split=10, n_estimators=450; total time=   4.8s\n"
     ]
    },
    {
     "name": "stderr",
     "output_type": "stream",
     "text": [
      "/Users/florian/opt/anaconda3/envs/comp30830/lib/python3.10/site-packages/sklearn/ensemble/_forest.py:413: FutureWarning: `max_features='auto'` has been deprecated in 1.1 and will be removed in 1.3. To keep the past behaviour, explicitly set `max_features=1.0` or remove this parameter as it is also the default value for RandomForestRegressors and ExtraTreesRegressors.\n",
      "  warn(\n"
     ]
    },
    {
     "name": "stdout",
     "output_type": "stream",
     "text": [
      "[CV] END bootstrap=True, max_depth=30, max_features=sqrt, min_samples_leaf=1, min_samples_split=10, n_estimators=450; total time=   1.7s\n"
     ]
    },
    {
     "name": "stderr",
     "output_type": "stream",
     "text": [
      "/Users/florian/opt/anaconda3/envs/comp30830/lib/python3.10/site-packages/sklearn/ensemble/_forest.py:413: FutureWarning: `max_features='auto'` has been deprecated in 1.1 and will be removed in 1.3. To keep the past behaviour, explicitly set `max_features=1.0` or remove this parameter as it is also the default value for RandomForestRegressors and ExtraTreesRegressors.\n",
      "  warn(\n"
     ]
    },
    {
     "name": "stdout",
     "output_type": "stream",
     "text": [
      "[CV] END bootstrap=False, max_depth=110, max_features=sqrt, min_samples_leaf=4, min_samples_split=2, n_estimators=780; total time=   3.6s\n",
      "[CV] END bootstrap=True, max_depth=70, max_features=auto, min_samples_leaf=1, min_samples_split=2, n_estimators=230; total time=   2.3s\n"
     ]
    },
    {
     "name": "stderr",
     "output_type": "stream",
     "text": [
      "/Users/florian/opt/anaconda3/envs/comp30830/lib/python3.10/site-packages/sklearn/ensemble/_forest.py:413: FutureWarning: `max_features='auto'` has been deprecated in 1.1 and will be removed in 1.3. To keep the past behaviour, explicitly set `max_features=1.0` or remove this parameter as it is also the default value for RandomForestRegressors and ExtraTreesRegressors.\n",
      "  warn(\n",
      "/Users/florian/opt/anaconda3/envs/comp30830/lib/python3.10/site-packages/sklearn/ensemble/_forest.py:413: FutureWarning: `max_features='auto'` has been deprecated in 1.1 and will be removed in 1.3. To keep the past behaviour, explicitly set `max_features=1.0` or remove this parameter as it is also the default value for RandomForestRegressors and ExtraTreesRegressors.\n",
      "  warn(\n"
     ]
    },
    {
     "name": "stdout",
     "output_type": "stream",
     "text": [
      "[CV] END bootstrap=True, max_depth=70, max_features=auto, min_samples_leaf=1, min_samples_split=2, n_estimators=230; total time=   2.3s\n"
     ]
    },
    {
     "name": "stderr",
     "output_type": "stream",
     "text": [
      "/Users/florian/opt/anaconda3/envs/comp30830/lib/python3.10/site-packages/sklearn/ensemble/_forest.py:413: FutureWarning: `max_features='auto'` has been deprecated in 1.1 and will be removed in 1.3. To keep the past behaviour, explicitly set `max_features=1.0` or remove this parameter as it is also the default value for RandomForestRegressors and ExtraTreesRegressors.\n",
      "  warn(\n"
     ]
    },
    {
     "name": "stdout",
     "output_type": "stream",
     "text": [
      "[CV] END bootstrap=True, max_depth=70, max_features=auto, min_samples_leaf=1, min_samples_split=2, n_estimators=230; total time=   2.3s\n",
      "[CV] END bootstrap=False, max_depth=50, max_features=auto, min_samples_leaf=1, min_samples_split=10, n_estimators=450; total time=   5.1s\n"
     ]
    },
    {
     "name": "stderr",
     "output_type": "stream",
     "text": [
      "/Users/florian/opt/anaconda3/envs/comp30830/lib/python3.10/site-packages/sklearn/ensemble/_forest.py:413: FutureWarning: `max_features='auto'` has been deprecated in 1.1 and will be removed in 1.3. To keep the past behaviour, explicitly set `max_features=1.0` or remove this parameter as it is also the default value for RandomForestRegressors and ExtraTreesRegressors.\n",
      "  warn(\n",
      "/Users/florian/opt/anaconda3/envs/comp30830/lib/python3.10/site-packages/sklearn/ensemble/_forest.py:413: FutureWarning: `max_features='auto'` has been deprecated in 1.1 and will be removed in 1.3. To keep the past behaviour, explicitly set `max_features=1.0` or remove this parameter as it is also the default value for RandomForestRegressors and ExtraTreesRegressors.\n",
      "  warn(\n"
     ]
    },
    {
     "name": "stdout",
     "output_type": "stream",
     "text": [
      "[CV] END bootstrap=True, max_depth=50, max_features=auto, min_samples_leaf=2, min_samples_split=5, n_estimators=1000; total time=   9.2s\n"
     ]
    },
    {
     "name": "stderr",
     "output_type": "stream",
     "text": [
      "/Users/florian/opt/anaconda3/envs/comp30830/lib/python3.10/site-packages/sklearn/ensemble/_forest.py:413: FutureWarning: `max_features='auto'` has been deprecated in 1.1 and will be removed in 1.3. To keep the past behaviour, explicitly set `max_features=1.0` or remove this parameter as it is also the default value for RandomForestRegressors and ExtraTreesRegressors.\n",
      "  warn(\n"
     ]
    },
    {
     "name": "stdout",
     "output_type": "stream",
     "text": [
      "[CV] END bootstrap=False, max_depth=50, max_features=auto, min_samples_leaf=1, min_samples_split=10, n_estimators=450; total time=   5.2s\n",
      "[CV] END bootstrap=False, max_depth=50, max_features=auto, min_samples_leaf=2, min_samples_split=2, n_estimators=1000; total time=  11.7s\n",
      "[CV] END bootstrap=True, max_depth=None, max_features=auto, min_samples_leaf=4, min_samples_split=2, n_estimators=780; total time=   5.9s\n",
      "[CV] END bootstrap=True, max_depth=None, max_features=auto, min_samples_leaf=4, min_samples_split=2, n_estimators=780; total time=   6.0s\n",
      "[CV] END bootstrap=True, max_depth=None, max_features=auto, min_samples_leaf=4, min_samples_split=2, n_estimators=780; total time=   5.9s\n",
      "[CV] END bootstrap=False, max_depth=30, max_features=auto, min_samples_leaf=2, min_samples_split=2, n_estimators=890; total time=   9.8s\n",
      "[CV] END bootstrap=False, max_depth=30, max_features=auto, min_samples_leaf=2, min_samples_split=2, n_estimators=890; total time=  10.0s\n",
      "[CV] END bootstrap=False, max_depth=30, max_features=auto, min_samples_leaf=2, min_samples_split=2, n_estimators=890; total time=   9.8s\n",
      "Model Performance\n",
      "Average Error: 0.0235 degrees.\n",
      "RMSE: 0.0382.\n",
      "Accuracy = 96.18%.\n",
      "Model Performance\n",
      "Average Error: 0.0187 degrees.\n",
      "RMSE: 0.0382.\n",
      "Accuracy = 96.18%.\n",
      "----------------------------------------------------------\n",
      "Improvement of 0.00%.\n",
      "----------------------------------------------------------\n",
      "Mean absolute error: 0.020474430497443113\n",
      "Root Mean Square Error: 0.0406835467516058\n",
      "Fitting 3 folds for each of 20 candidates, totalling 60 fits\n",
      "[CV] END bootstrap=True, max_depth=50, max_features=sqrt, min_samples_leaf=2, min_samples_split=10, n_estimators=10; total time=   0.0s\n",
      "[CV] END bootstrap=True, max_depth=50, max_features=sqrt, min_samples_leaf=2, min_samples_split=10, n_estimators=10; total time=   0.0s\n",
      "[CV] END bootstrap=True, max_depth=50, max_features=sqrt, min_samples_leaf=2, min_samples_split=10, n_estimators=10; total time=   0.0s\n"
     ]
    },
    {
     "name": "stderr",
     "output_type": "stream",
     "text": [
      "/Users/florian/opt/anaconda3/envs/comp30830/lib/python3.10/site-packages/sklearn/ensemble/_forest.py:413: FutureWarning: `max_features='auto'` has been deprecated in 1.1 and will be removed in 1.3. To keep the past behaviour, explicitly set `max_features=1.0` or remove this parameter as it is also the default value for RandomForestRegressors and ExtraTreesRegressors.\n",
      "  warn(\n",
      "/Users/florian/opt/anaconda3/envs/comp30830/lib/python3.10/site-packages/sklearn/ensemble/_forest.py:413: FutureWarning: `max_features='auto'` has been deprecated in 1.1 and will be removed in 1.3. To keep the past behaviour, explicitly set `max_features=1.0` or remove this parameter as it is also the default value for RandomForestRegressors and ExtraTreesRegressors.\n",
      "  warn(\n",
      "/Users/florian/opt/anaconda3/envs/comp30830/lib/python3.10/site-packages/sklearn/ensemble/_forest.py:413: FutureWarning: `max_features='auto'` has been deprecated in 1.1 and will be removed in 1.3. To keep the past behaviour, explicitly set `max_features=1.0` or remove this parameter as it is also the default value for RandomForestRegressors and ExtraTreesRegressors.\n",
      "  warn(\n"
     ]
    },
    {
     "name": "stdout",
     "output_type": "stream",
     "text": [
      "[CV] END bootstrap=False, max_depth=90, max_features=sqrt, min_samples_leaf=4, min_samples_split=10, n_estimators=230; total time=   0.9s\n",
      "[CV] END bootstrap=False, max_depth=90, max_features=sqrt, min_samples_leaf=4, min_samples_split=10, n_estimators=230; total time=   0.9s\n",
      "[CV] END bootstrap=False, max_depth=90, max_features=sqrt, min_samples_leaf=4, min_samples_split=10, n_estimators=230; total time=   1.0s\n"
     ]
    },
    {
     "name": "stderr",
     "output_type": "stream",
     "text": [
      "/Users/florian/opt/anaconda3/envs/comp30830/lib/python3.10/site-packages/sklearn/ensemble/_forest.py:413: FutureWarning: `max_features='auto'` has been deprecated in 1.1 and will be removed in 1.3. To keep the past behaviour, explicitly set `max_features=1.0` or remove this parameter as it is also the default value for RandomForestRegressors and ExtraTreesRegressors.\n",
      "  warn(\n",
      "/Users/florian/opt/anaconda3/envs/comp30830/lib/python3.10/site-packages/sklearn/ensemble/_forest.py:413: FutureWarning: `max_features='auto'` has been deprecated in 1.1 and will be removed in 1.3. To keep the past behaviour, explicitly set `max_features=1.0` or remove this parameter as it is also the default value for RandomForestRegressors and ExtraTreesRegressors.\n",
      "  warn(\n"
     ]
    },
    {
     "name": "stdout",
     "output_type": "stream",
     "text": [
      "[CV] END bootstrap=True, max_depth=30, max_features=sqrt, min_samples_leaf=1, min_samples_split=5, n_estimators=670; total time=   2.5s\n",
      "[CV] END bootstrap=True, max_depth=30, max_features=sqrt, min_samples_leaf=1, min_samples_split=5, n_estimators=670; total time=   2.6s\n",
      "[CV] END bootstrap=False, max_depth=60, max_features=auto, min_samples_leaf=2, min_samples_split=2, n_estimators=230; total time=   2.7s\n",
      "[CV] END bootstrap=False, max_depth=60, max_features=auto, min_samples_leaf=2, min_samples_split=2, n_estimators=230; total time=   2.8s\n"
     ]
    },
    {
     "name": "stderr",
     "output_type": "stream",
     "text": [
      "/Users/florian/opt/anaconda3/envs/comp30830/lib/python3.10/site-packages/sklearn/ensemble/_forest.py:413: FutureWarning: `max_features='auto'` has been deprecated in 1.1 and will be removed in 1.3. To keep the past behaviour, explicitly set `max_features=1.0` or remove this parameter as it is also the default value for RandomForestRegressors and ExtraTreesRegressors.\n",
      "  warn(\n",
      "/Users/florian/opt/anaconda3/envs/comp30830/lib/python3.10/site-packages/sklearn/ensemble/_forest.py:413: FutureWarning: `max_features='auto'` has been deprecated in 1.1 and will be removed in 1.3. To keep the past behaviour, explicitly set `max_features=1.0` or remove this parameter as it is also the default value for RandomForestRegressors and ExtraTreesRegressors.\n",
      "  warn(\n"
     ]
    },
    {
     "name": "stdout",
     "output_type": "stream",
     "text": [
      "[CV] END bootstrap=False, max_depth=60, max_features=auto, min_samples_leaf=2, min_samples_split=2, n_estimators=230; total time=   2.8s\n"
     ]
    },
    {
     "name": "stderr",
     "output_type": "stream",
     "text": [
      "/Users/florian/opt/anaconda3/envs/comp30830/lib/python3.10/site-packages/sklearn/ensemble/_forest.py:413: FutureWarning: `max_features='auto'` has been deprecated in 1.1 and will be removed in 1.3. To keep the past behaviour, explicitly set `max_features=1.0` or remove this parameter as it is also the default value for RandomForestRegressors and ExtraTreesRegressors.\n",
      "  warn(\n"
     ]
    },
    {
     "name": "stdout",
     "output_type": "stream",
     "text": [
      "[CV] END bootstrap=False, max_depth=60, max_features=sqrt, min_samples_leaf=1, min_samples_split=10, n_estimators=120; total time=   0.5s\n",
      "[CV] END bootstrap=True, max_depth=10, max_features=sqrt, min_samples_leaf=2, min_samples_split=5, n_estimators=10; total time=   0.1s\n",
      "[CV] END bootstrap=False, max_depth=60, max_features=sqrt, min_samples_leaf=1, min_samples_split=10, n_estimators=120; total time=   0.5s\n",
      "[CV] END bootstrap=True, max_depth=10, max_features=sqrt, min_samples_leaf=2, min_samples_split=5, n_estimators=10; total time=   0.0s\n"
     ]
    },
    {
     "name": "stderr",
     "output_type": "stream",
     "text": [
      "/Users/florian/opt/anaconda3/envs/comp30830/lib/python3.10/site-packages/sklearn/ensemble/_forest.py:413: FutureWarning: `max_features='auto'` has been deprecated in 1.1 and will be removed in 1.3. To keep the past behaviour, explicitly set `max_features=1.0` or remove this parameter as it is also the default value for RandomForestRegressors and ExtraTreesRegressors.\n",
      "  warn(\n"
     ]
    },
    {
     "name": "stdout",
     "output_type": "stream",
     "text": [
      "[CV] END bootstrap=True, max_depth=30, max_features=sqrt, min_samples_leaf=1, min_samples_split=5, n_estimators=670; total time=   2.5s\n"
     ]
    },
    {
     "name": "stderr",
     "output_type": "stream",
     "text": [
      "/Users/florian/opt/anaconda3/envs/comp30830/lib/python3.10/site-packages/sklearn/ensemble/_forest.py:413: FutureWarning: `max_features='auto'` has been deprecated in 1.1 and will be removed in 1.3. To keep the past behaviour, explicitly set `max_features=1.0` or remove this parameter as it is also the default value for RandomForestRegressors and ExtraTreesRegressors.\n",
      "  warn(\n"
     ]
    },
    {
     "name": "stdout",
     "output_type": "stream",
     "text": [
      "[CV] END bootstrap=False, max_depth=60, max_features=sqrt, min_samples_leaf=1, min_samples_split=10, n_estimators=120; total time=   0.6s\n"
     ]
    },
    {
     "name": "stderr",
     "output_type": "stream",
     "text": [
      "/Users/florian/opt/anaconda3/envs/comp30830/lib/python3.10/site-packages/sklearn/ensemble/_forest.py:413: FutureWarning: `max_features='auto'` has been deprecated in 1.1 and will be removed in 1.3. To keep the past behaviour, explicitly set `max_features=1.0` or remove this parameter as it is also the default value for RandomForestRegressors and ExtraTreesRegressors.\n",
      "  warn(\n"
     ]
    },
    {
     "name": "stdout",
     "output_type": "stream",
     "text": [
      "[CV] END bootstrap=False, max_depth=80, max_features=auto, min_samples_leaf=1, min_samples_split=10, n_estimators=450; total time=   5.0s\n",
      "[CV] END bootstrap=False, max_depth=80, max_features=auto, min_samples_leaf=1, min_samples_split=10, n_estimators=450; total time=   5.2s\n"
     ]
    },
    {
     "name": "stderr",
     "output_type": "stream",
     "text": [
      "/Users/florian/opt/anaconda3/envs/comp30830/lib/python3.10/site-packages/sklearn/ensemble/_forest.py:413: FutureWarning: `max_features='auto'` has been deprecated in 1.1 and will be removed in 1.3. To keep the past behaviour, explicitly set `max_features=1.0` or remove this parameter as it is also the default value for RandomForestRegressors and ExtraTreesRegressors.\n",
      "  warn(\n",
      "/Users/florian/opt/anaconda3/envs/comp30830/lib/python3.10/site-packages/sklearn/ensemble/_forest.py:413: FutureWarning: `max_features='auto'` has been deprecated in 1.1 and will be removed in 1.3. To keep the past behaviour, explicitly set `max_features=1.0` or remove this parameter as it is also the default value for RandomForestRegressors and ExtraTreesRegressors.\n",
      "  warn(\n"
     ]
    },
    {
     "name": "stdout",
     "output_type": "stream",
     "text": [
      "[CV] END bootstrap=False, max_depth=20, max_features=auto, min_samples_leaf=2, min_samples_split=10, n_estimators=120; total time=   1.2s\n",
      "[CV] END bootstrap=False, max_depth=20, max_features=auto, min_samples_leaf=2, min_samples_split=10, n_estimators=120; total time=   1.3s\n"
     ]
    },
    {
     "name": "stderr",
     "output_type": "stream",
     "text": [
      "/Users/florian/opt/anaconda3/envs/comp30830/lib/python3.10/site-packages/sklearn/ensemble/_forest.py:413: FutureWarning: `max_features='auto'` has been deprecated in 1.1 and will be removed in 1.3. To keep the past behaviour, explicitly set `max_features=1.0` or remove this parameter as it is also the default value for RandomForestRegressors and ExtraTreesRegressors.\n",
      "  warn(\n"
     ]
    },
    {
     "name": "stdout",
     "output_type": "stream",
     "text": [
      "[CV] END bootstrap=False, max_depth=80, max_features=auto, min_samples_leaf=1, min_samples_split=10, n_estimators=450; total time=   4.9s\n",
      "[CV] END bootstrap=True, max_depth=100, max_features=auto, min_samples_leaf=4, min_samples_split=2, n_estimators=560; total time=   4.3s\n"
     ]
    },
    {
     "name": "stderr",
     "output_type": "stream",
     "text": [
      "/Users/florian/opt/anaconda3/envs/comp30830/lib/python3.10/site-packages/sklearn/ensemble/_forest.py:413: FutureWarning: `max_features='auto'` has been deprecated in 1.1 and will be removed in 1.3. To keep the past behaviour, explicitly set `max_features=1.0` or remove this parameter as it is also the default value for RandomForestRegressors and ExtraTreesRegressors.\n",
      "  warn(\n"
     ]
    },
    {
     "name": "stdout",
     "output_type": "stream",
     "text": [
      "[CV] END bootstrap=True, max_depth=100, max_features=auto, min_samples_leaf=4, min_samples_split=2, n_estimators=560; total time=   4.4s\n"
     ]
    },
    {
     "name": "stderr",
     "output_type": "stream",
     "text": [
      "/Users/florian/opt/anaconda3/envs/comp30830/lib/python3.10/site-packages/sklearn/ensemble/_forest.py:413: FutureWarning: `max_features='auto'` has been deprecated in 1.1 and will be removed in 1.3. To keep the past behaviour, explicitly set `max_features=1.0` or remove this parameter as it is also the default value for RandomForestRegressors and ExtraTreesRegressors.\n",
      "  warn(\n"
     ]
    },
    {
     "name": "stdout",
     "output_type": "stream",
     "text": [
      "[CV] END bootstrap=False, max_depth=20, max_features=auto, min_samples_leaf=2, min_samples_split=10, n_estimators=120; total time=   1.2s\n",
      "[CV] END bootstrap=False, max_depth=20, max_features=sqrt, min_samples_leaf=1, min_samples_split=2, n_estimators=340; total time=   1.8s\n",
      "[CV] END bootstrap=False, max_depth=20, max_features=sqrt, min_samples_leaf=1, min_samples_split=2, n_estimators=340; total time=   1.7s\n",
      "[CV] END bootstrap=True, max_depth=70, max_features=sqrt, min_samples_leaf=1, min_samples_split=5, n_estimators=450; total time=   1.5s\n",
      "[CV] END bootstrap=True, max_depth=70, max_features=sqrt, min_samples_leaf=1, min_samples_split=5, n_estimators=450; total time=   1.6s\n",
      "[CV] END bootstrap=False, max_depth=20, max_features=sqrt, min_samples_leaf=1, min_samples_split=2, n_estimators=340; total time=   2.0s\n",
      "[CV] END bootstrap=True, max_depth=70, max_features=sqrt, min_samples_leaf=1, min_samples_split=5, n_estimators=450; total time=   2.2s\n",
      "[CV] END bootstrap=True, max_depth=100, max_features=auto, min_samples_leaf=4, min_samples_split=2, n_estimators=560; total time=   4.8s\n",
      "[CV] END bootstrap=True, max_depth=50, max_features=auto, min_samples_leaf=2, min_samples_split=5, n_estimators=1000; total time=   9.6s\n"
     ]
    },
    {
     "name": "stderr",
     "output_type": "stream",
     "text": [
      "/Users/florian/opt/anaconda3/envs/comp30830/lib/python3.10/site-packages/sklearn/ensemble/_forest.py:413: FutureWarning: `max_features='auto'` has been deprecated in 1.1 and will be removed in 1.3. To keep the past behaviour, explicitly set `max_features=1.0` or remove this parameter as it is also the default value for RandomForestRegressors and ExtraTreesRegressors.\n",
      "  warn(\n"
     ]
    },
    {
     "name": "stdout",
     "output_type": "stream",
     "text": [
      "[CV] END bootstrap=False, max_depth=70, max_features=sqrt, min_samples_leaf=2, min_samples_split=10, n_estimators=560; total time=   3.0s\n",
      "[CV] END bootstrap=False, max_depth=70, max_features=sqrt, min_samples_leaf=2, min_samples_split=10, n_estimators=560; total time=   2.7s\n"
     ]
    },
    {
     "name": "stderr",
     "output_type": "stream",
     "text": [
      "/Users/florian/opt/anaconda3/envs/comp30830/lib/python3.10/site-packages/sklearn/ensemble/_forest.py:413: FutureWarning: `max_features='auto'` has been deprecated in 1.1 and will be removed in 1.3. To keep the past behaviour, explicitly set `max_features=1.0` or remove this parameter as it is also the default value for RandomForestRegressors and ExtraTreesRegressors.\n",
      "  warn(\n"
     ]
    },
    {
     "name": "stdout",
     "output_type": "stream",
     "text": [
      "[CV] END bootstrap=False, max_depth=50, max_features=auto, min_samples_leaf=2, min_samples_split=2, n_estimators=1000; total time=  12.5s\n"
     ]
    },
    {
     "name": "stderr",
     "output_type": "stream",
     "text": [
      "/Users/florian/opt/anaconda3/envs/comp30830/lib/python3.10/site-packages/sklearn/ensemble/_forest.py:413: FutureWarning: `max_features='auto'` has been deprecated in 1.1 and will be removed in 1.3. To keep the past behaviour, explicitly set `max_features=1.0` or remove this parameter as it is also the default value for RandomForestRegressors and ExtraTreesRegressors.\n",
      "  warn(\n"
     ]
    },
    {
     "name": "stdout",
     "output_type": "stream",
     "text": [
      "[CV] END bootstrap=False, max_depth=50, max_features=auto, min_samples_leaf=2, min_samples_split=2, n_estimators=1000; total time=  12.7s\n",
      "[CV] END bootstrap=True, max_depth=10, max_features=sqrt, min_samples_leaf=2, min_samples_split=5, n_estimators=10; total time=   0.0s\n",
      "[CV] END bootstrap=False, max_depth=110, max_features=sqrt, min_samples_leaf=4, min_samples_split=2, n_estimators=780; total time=   3.7s\n",
      "[CV] END bootstrap=False, max_depth=110, max_features=sqrt, min_samples_leaf=4, min_samples_split=2, n_estimators=780; total time=   3.8s\n"
     ]
    },
    {
     "name": "stderr",
     "output_type": "stream",
     "text": [
      "/Users/florian/opt/anaconda3/envs/comp30830/lib/python3.10/site-packages/sklearn/ensemble/_forest.py:413: FutureWarning: `max_features='auto'` has been deprecated in 1.1 and will be removed in 1.3. To keep the past behaviour, explicitly set `max_features=1.0` or remove this parameter as it is also the default value for RandomForestRegressors and ExtraTreesRegressors.\n",
      "  warn(\n"
     ]
    },
    {
     "name": "stdout",
     "output_type": "stream",
     "text": [
      "[CV] END bootstrap=False, max_depth=70, max_features=sqrt, min_samples_leaf=2, min_samples_split=10, n_estimators=560; total time=   2.4s\n",
      "[CV] END bootstrap=True, max_depth=30, max_features=sqrt, min_samples_leaf=1, min_samples_split=10, n_estimators=450; total time=   1.5s\n",
      "[CV] END bootstrap=True, max_depth=50, max_features=auto, min_samples_leaf=2, min_samples_split=5, n_estimators=1000; total time=   9.4s\n"
     ]
    },
    {
     "name": "stderr",
     "output_type": "stream",
     "text": [
      "/Users/florian/opt/anaconda3/envs/comp30830/lib/python3.10/site-packages/sklearn/ensemble/_forest.py:413: FutureWarning: `max_features='auto'` has been deprecated in 1.1 and will be removed in 1.3. To keep the past behaviour, explicitly set `max_features=1.0` or remove this parameter as it is also the default value for RandomForestRegressors and ExtraTreesRegressors.\n",
      "  warn(\n"
     ]
    },
    {
     "name": "stdout",
     "output_type": "stream",
     "text": [
      "[CV] END bootstrap=True, max_depth=30, max_features=sqrt, min_samples_leaf=1, min_samples_split=10, n_estimators=450; total time=   1.6s\n"
     ]
    },
    {
     "name": "stderr",
     "output_type": "stream",
     "text": [
      "/Users/florian/opt/anaconda3/envs/comp30830/lib/python3.10/site-packages/sklearn/ensemble/_forest.py:413: FutureWarning: `max_features='auto'` has been deprecated in 1.1 and will be removed in 1.3. To keep the past behaviour, explicitly set `max_features=1.0` or remove this parameter as it is also the default value for RandomForestRegressors and ExtraTreesRegressors.\n",
      "  warn(\n"
     ]
    },
    {
     "name": "stdout",
     "output_type": "stream",
     "text": [
      "[CV] END bootstrap=True, max_depth=30, max_features=sqrt, min_samples_leaf=1, min_samples_split=10, n_estimators=450; total time=   1.7s\n",
      "[CV] END bootstrap=False, max_depth=50, max_features=auto, min_samples_leaf=1, min_samples_split=10, n_estimators=450; total time=   5.0s\n"
     ]
    },
    {
     "name": "stderr",
     "output_type": "stream",
     "text": [
      "/Users/florian/opt/anaconda3/envs/comp30830/lib/python3.10/site-packages/sklearn/ensemble/_forest.py:413: FutureWarning: `max_features='auto'` has been deprecated in 1.1 and will be removed in 1.3. To keep the past behaviour, explicitly set `max_features=1.0` or remove this parameter as it is also the default value for RandomForestRegressors and ExtraTreesRegressors.\n",
      "  warn(\n",
      "/Users/florian/opt/anaconda3/envs/comp30830/lib/python3.10/site-packages/sklearn/ensemble/_forest.py:413: FutureWarning: `max_features='auto'` has been deprecated in 1.1 and will be removed in 1.3. To keep the past behaviour, explicitly set `max_features=1.0` or remove this parameter as it is also the default value for RandomForestRegressors and ExtraTreesRegressors.\n",
      "  warn(\n"
     ]
    },
    {
     "name": "stdout",
     "output_type": "stream",
     "text": [
      "[CV] END bootstrap=False, max_depth=110, max_features=sqrt, min_samples_leaf=4, min_samples_split=2, n_estimators=780; total time=   3.3s\n"
     ]
    },
    {
     "name": "stderr",
     "output_type": "stream",
     "text": [
      "/Users/florian/opt/anaconda3/envs/comp30830/lib/python3.10/site-packages/sklearn/ensemble/_forest.py:413: FutureWarning: `max_features='auto'` has been deprecated in 1.1 and will be removed in 1.3. To keep the past behaviour, explicitly set `max_features=1.0` or remove this parameter as it is also the default value for RandomForestRegressors and ExtraTreesRegressors.\n",
      "  warn(\n"
     ]
    },
    {
     "name": "stdout",
     "output_type": "stream",
     "text": [
      "[CV] END bootstrap=True, max_depth=70, max_features=auto, min_samples_leaf=1, min_samples_split=2, n_estimators=230; total time=   2.3s\n"
     ]
    },
    {
     "name": "stderr",
     "output_type": "stream",
     "text": [
      "/Users/florian/opt/anaconda3/envs/comp30830/lib/python3.10/site-packages/sklearn/ensemble/_forest.py:413: FutureWarning: `max_features='auto'` has been deprecated in 1.1 and will be removed in 1.3. To keep the past behaviour, explicitly set `max_features=1.0` or remove this parameter as it is also the default value for RandomForestRegressors and ExtraTreesRegressors.\n",
      "  warn(\n"
     ]
    },
    {
     "name": "stdout",
     "output_type": "stream",
     "text": [
      "[CV] END bootstrap=True, max_depth=70, max_features=auto, min_samples_leaf=1, min_samples_split=2, n_estimators=230; total time=   2.2s\n"
     ]
    },
    {
     "name": "stderr",
     "output_type": "stream",
     "text": [
      "/Users/florian/opt/anaconda3/envs/comp30830/lib/python3.10/site-packages/sklearn/ensemble/_forest.py:413: FutureWarning: `max_features='auto'` has been deprecated in 1.1 and will be removed in 1.3. To keep the past behaviour, explicitly set `max_features=1.0` or remove this parameter as it is also the default value for RandomForestRegressors and ExtraTreesRegressors.\n",
      "  warn(\n"
     ]
    },
    {
     "name": "stdout",
     "output_type": "stream",
     "text": [
      "[CV] END bootstrap=True, max_depth=70, max_features=auto, min_samples_leaf=1, min_samples_split=2, n_estimators=230; total time=   2.5s\n"
     ]
    },
    {
     "name": "stderr",
     "output_type": "stream",
     "text": [
      "/Users/florian/opt/anaconda3/envs/comp30830/lib/python3.10/site-packages/sklearn/ensemble/_forest.py:413: FutureWarning: `max_features='auto'` has been deprecated in 1.1 and will be removed in 1.3. To keep the past behaviour, explicitly set `max_features=1.0` or remove this parameter as it is also the default value for RandomForestRegressors and ExtraTreesRegressors.\n",
      "  warn(\n"
     ]
    },
    {
     "name": "stdout",
     "output_type": "stream",
     "text": [
      "[CV] END bootstrap=False, max_depth=50, max_features=auto, min_samples_leaf=1, min_samples_split=10, n_estimators=450; total time=   5.7s\n"
     ]
    },
    {
     "name": "stderr",
     "output_type": "stream",
     "text": [
      "/Users/florian/opt/anaconda3/envs/comp30830/lib/python3.10/site-packages/sklearn/ensemble/_forest.py:413: FutureWarning: `max_features='auto'` has been deprecated in 1.1 and will be removed in 1.3. To keep the past behaviour, explicitly set `max_features=1.0` or remove this parameter as it is also the default value for RandomForestRegressors and ExtraTreesRegressors.\n",
      "  warn(\n"
     ]
    },
    {
     "name": "stdout",
     "output_type": "stream",
     "text": [
      "[CV] END bootstrap=True, max_depth=50, max_features=auto, min_samples_leaf=2, min_samples_split=5, n_estimators=1000; total time=   9.5s\n"
     ]
    },
    {
     "name": "stderr",
     "output_type": "stream",
     "text": [
      "/Users/florian/opt/anaconda3/envs/comp30830/lib/python3.10/site-packages/sklearn/ensemble/_forest.py:413: FutureWarning: `max_features='auto'` has been deprecated in 1.1 and will be removed in 1.3. To keep the past behaviour, explicitly set `max_features=1.0` or remove this parameter as it is also the default value for RandomForestRegressors and ExtraTreesRegressors.\n",
      "  warn(\n"
     ]
    },
    {
     "name": "stdout",
     "output_type": "stream",
     "text": [
      "[CV] END bootstrap=False, max_depth=50, max_features=auto, min_samples_leaf=1, min_samples_split=10, n_estimators=450; total time=   5.4s\n",
      "[CV] END bootstrap=False, max_depth=50, max_features=auto, min_samples_leaf=2, min_samples_split=2, n_estimators=1000; total time=  12.1s\n",
      "[CV] END bootstrap=True, max_depth=None, max_features=auto, min_samples_leaf=4, min_samples_split=2, n_estimators=780; total time=   6.4s\n",
      "[CV] END bootstrap=True, max_depth=None, max_features=auto, min_samples_leaf=4, min_samples_split=2, n_estimators=780; total time=   6.2s\n",
      "[CV] END bootstrap=True, max_depth=None, max_features=auto, min_samples_leaf=4, min_samples_split=2, n_estimators=780; total time=   6.3s\n",
      "[CV] END bootstrap=False, max_depth=30, max_features=auto, min_samples_leaf=2, min_samples_split=2, n_estimators=890; total time=  10.1s\n",
      "[CV] END bootstrap=False, max_depth=30, max_features=auto, min_samples_leaf=2, min_samples_split=2, n_estimators=890; total time=  10.6s\n",
      "[CV] END bootstrap=False, max_depth=30, max_features=auto, min_samples_leaf=2, min_samples_split=2, n_estimators=890; total time=  10.0s\n",
      "Model Performance\n",
      "Average Error: 0.0205 degrees.\n",
      "RMSE: 0.0407.\n",
      "Accuracy = 95.93%.\n",
      "Model Performance\n",
      "Average Error: 0.0146 degrees.\n",
      "RMSE: 0.0407.\n",
      "Accuracy = 95.93%.\n",
      "----------------------------------------------------------\n",
      "Improvement of 0.00%.\n",
      "----------------------------------------------------------\n",
      "Mean absolute error: 0.024309623430962383\n",
      "Root Mean Square Error: 0.044873512117124384\n",
      "Fitting 3 folds for each of 20 candidates, totalling 60 fits\n",
      "[CV] END bootstrap=True, max_depth=50, max_features=sqrt, min_samples_leaf=2, min_samples_split=10, n_estimators=10; total time=   0.0s\n",
      "[CV] END bootstrap=True, max_depth=50, max_features=sqrt, min_samples_leaf=2, min_samples_split=10, n_estimators=10; total time=   0.0s\n",
      "[CV] END bootstrap=True, max_depth=50, max_features=sqrt, min_samples_leaf=2, min_samples_split=10, n_estimators=10; total time=   0.0s\n"
     ]
    },
    {
     "name": "stderr",
     "output_type": "stream",
     "text": [
      "/Users/florian/opt/anaconda3/envs/comp30830/lib/python3.10/site-packages/sklearn/ensemble/_forest.py:413: FutureWarning: `max_features='auto'` has been deprecated in 1.1 and will be removed in 1.3. To keep the past behaviour, explicitly set `max_features=1.0` or remove this parameter as it is also the default value for RandomForestRegressors and ExtraTreesRegressors.\n",
      "  warn(\n",
      "/Users/florian/opt/anaconda3/envs/comp30830/lib/python3.10/site-packages/sklearn/ensemble/_forest.py:413: FutureWarning: `max_features='auto'` has been deprecated in 1.1 and will be removed in 1.3. To keep the past behaviour, explicitly set `max_features=1.0` or remove this parameter as it is also the default value for RandomForestRegressors and ExtraTreesRegressors.\n",
      "  warn(\n",
      "/Users/florian/opt/anaconda3/envs/comp30830/lib/python3.10/site-packages/sklearn/ensemble/_forest.py:413: FutureWarning: `max_features='auto'` has been deprecated in 1.1 and will be removed in 1.3. To keep the past behaviour, explicitly set `max_features=1.0` or remove this parameter as it is also the default value for RandomForestRegressors and ExtraTreesRegressors.\n",
      "  warn(\n"
     ]
    },
    {
     "name": "stdout",
     "output_type": "stream",
     "text": [
      "[CV] END bootstrap=False, max_depth=90, max_features=sqrt, min_samples_leaf=4, min_samples_split=10, n_estimators=230; total time=   1.0s\n",
      "[CV] END bootstrap=False, max_depth=90, max_features=sqrt, min_samples_leaf=4, min_samples_split=10, n_estimators=230; total time=   1.0s\n",
      "[CV] END bootstrap=False, max_depth=90, max_features=sqrt, min_samples_leaf=4, min_samples_split=10, n_estimators=230; total time=   1.0s\n"
     ]
    },
    {
     "name": "stderr",
     "output_type": "stream",
     "text": [
      "/Users/florian/opt/anaconda3/envs/comp30830/lib/python3.10/site-packages/sklearn/ensemble/_forest.py:413: FutureWarning: `max_features='auto'` has been deprecated in 1.1 and will be removed in 1.3. To keep the past behaviour, explicitly set `max_features=1.0` or remove this parameter as it is also the default value for RandomForestRegressors and ExtraTreesRegressors.\n",
      "  warn(\n",
      "/Users/florian/opt/anaconda3/envs/comp30830/lib/python3.10/site-packages/sklearn/ensemble/_forest.py:413: FutureWarning: `max_features='auto'` has been deprecated in 1.1 and will be removed in 1.3. To keep the past behaviour, explicitly set `max_features=1.0` or remove this parameter as it is also the default value for RandomForestRegressors and ExtraTreesRegressors.\n",
      "  warn(\n"
     ]
    },
    {
     "name": "stdout",
     "output_type": "stream",
     "text": [
      "[CV] END bootstrap=True, max_depth=30, max_features=sqrt, min_samples_leaf=1, min_samples_split=5, n_estimators=670; total time=   2.4s\n"
     ]
    },
    {
     "name": "stderr",
     "output_type": "stream",
     "text": [
      "/Users/florian/opt/anaconda3/envs/comp30830/lib/python3.10/site-packages/sklearn/ensemble/_forest.py:413: FutureWarning: `max_features='auto'` has been deprecated in 1.1 and will be removed in 1.3. To keep the past behaviour, explicitly set `max_features=1.0` or remove this parameter as it is also the default value for RandomForestRegressors and ExtraTreesRegressors.\n",
      "  warn(\n"
     ]
    },
    {
     "name": "stdout",
     "output_type": "stream",
     "text": [
      "[CV] END bootstrap=True, max_depth=30, max_features=sqrt, min_samples_leaf=1, min_samples_split=5, n_estimators=670; total time=   2.7s\n",
      "[CV] END bootstrap=False, max_depth=60, max_features=auto, min_samples_leaf=2, min_samples_split=2, n_estimators=230; total time=   2.9s\n",
      "[CV] END bootstrap=False, max_depth=60, max_features=auto, min_samples_leaf=2, min_samples_split=2, n_estimators=230; total time=   3.0s\n",
      "[CV] END bootstrap=False, max_depth=60, max_features=auto, min_samples_leaf=2, min_samples_split=2, n_estimators=230; total time=   3.1s\n"
     ]
    },
    {
     "name": "stderr",
     "output_type": "stream",
     "text": [
      "/Users/florian/opt/anaconda3/envs/comp30830/lib/python3.10/site-packages/sklearn/ensemble/_forest.py:413: FutureWarning: `max_features='auto'` has been deprecated in 1.1 and will be removed in 1.3. To keep the past behaviour, explicitly set `max_features=1.0` or remove this parameter as it is also the default value for RandomForestRegressors and ExtraTreesRegressors.\n",
      "  warn(\n",
      "/Users/florian/opt/anaconda3/envs/comp30830/lib/python3.10/site-packages/sklearn/ensemble/_forest.py:413: FutureWarning: `max_features='auto'` has been deprecated in 1.1 and will be removed in 1.3. To keep the past behaviour, explicitly set `max_features=1.0` or remove this parameter as it is also the default value for RandomForestRegressors and ExtraTreesRegressors.\n",
      "  warn(\n"
     ]
    },
    {
     "name": "stdout",
     "output_type": "stream",
     "text": [
      "[CV] END bootstrap=False, max_depth=60, max_features=sqrt, min_samples_leaf=1, min_samples_split=10, n_estimators=120; total time=   0.5s\n",
      "[CV] END bootstrap=True, max_depth=10, max_features=sqrt, min_samples_leaf=2, min_samples_split=5, n_estimators=10; total time=   0.0s\n",
      "[CV] END bootstrap=True, max_depth=10, max_features=sqrt, min_samples_leaf=2, min_samples_split=5, n_estimators=10; total time=   0.0s\n",
      "[CV] END bootstrap=False, max_depth=60, max_features=sqrt, min_samples_leaf=1, min_samples_split=10, n_estimators=120; total time=   0.5s\n"
     ]
    },
    {
     "name": "stderr",
     "output_type": "stream",
     "text": [
      "/Users/florian/opt/anaconda3/envs/comp30830/lib/python3.10/site-packages/sklearn/ensemble/_forest.py:413: FutureWarning: `max_features='auto'` has been deprecated in 1.1 and will be removed in 1.3. To keep the past behaviour, explicitly set `max_features=1.0` or remove this parameter as it is also the default value for RandomForestRegressors and ExtraTreesRegressors.\n",
      "  warn(\n"
     ]
    },
    {
     "name": "stdout",
     "output_type": "stream",
     "text": [
      "[CV] END bootstrap=True, max_depth=30, max_features=sqrt, min_samples_leaf=1, min_samples_split=5, n_estimators=670; total time=   2.7s\n"
     ]
    },
    {
     "name": "stderr",
     "output_type": "stream",
     "text": [
      "/Users/florian/opt/anaconda3/envs/comp30830/lib/python3.10/site-packages/sklearn/ensemble/_forest.py:413: FutureWarning: `max_features='auto'` has been deprecated in 1.1 and will be removed in 1.3. To keep the past behaviour, explicitly set `max_features=1.0` or remove this parameter as it is also the default value for RandomForestRegressors and ExtraTreesRegressors.\n",
      "  warn(\n"
     ]
    },
    {
     "name": "stdout",
     "output_type": "stream",
     "text": [
      "[CV] END bootstrap=False, max_depth=60, max_features=sqrt, min_samples_leaf=1, min_samples_split=10, n_estimators=120; total time=   0.5s\n"
     ]
    },
    {
     "name": "stderr",
     "output_type": "stream",
     "text": [
      "/Users/florian/opt/anaconda3/envs/comp30830/lib/python3.10/site-packages/sklearn/ensemble/_forest.py:413: FutureWarning: `max_features='auto'` has been deprecated in 1.1 and will be removed in 1.3. To keep the past behaviour, explicitly set `max_features=1.0` or remove this parameter as it is also the default value for RandomForestRegressors and ExtraTreesRegressors.\n",
      "  warn(\n"
     ]
    },
    {
     "name": "stdout",
     "output_type": "stream",
     "text": [
      "[CV] END bootstrap=False, max_depth=80, max_features=auto, min_samples_leaf=1, min_samples_split=10, n_estimators=450; total time=   5.3s\n",
      "[CV] END bootstrap=False, max_depth=80, max_features=auto, min_samples_leaf=1, min_samples_split=10, n_estimators=450; total time=   5.4s\n"
     ]
    },
    {
     "name": "stderr",
     "output_type": "stream",
     "text": [
      "/Users/florian/opt/anaconda3/envs/comp30830/lib/python3.10/site-packages/sklearn/ensemble/_forest.py:413: FutureWarning: `max_features='auto'` has been deprecated in 1.1 and will be removed in 1.3. To keep the past behaviour, explicitly set `max_features=1.0` or remove this parameter as it is also the default value for RandomForestRegressors and ExtraTreesRegressors.\n",
      "  warn(\n",
      "/Users/florian/opt/anaconda3/envs/comp30830/lib/python3.10/site-packages/sklearn/ensemble/_forest.py:413: FutureWarning: `max_features='auto'` has been deprecated in 1.1 and will be removed in 1.3. To keep the past behaviour, explicitly set `max_features=1.0` or remove this parameter as it is also the default value for RandomForestRegressors and ExtraTreesRegressors.\n",
      "  warn(\n"
     ]
    },
    {
     "name": "stdout",
     "output_type": "stream",
     "text": [
      "[CV] END bootstrap=False, max_depth=20, max_features=auto, min_samples_leaf=2, min_samples_split=10, n_estimators=120; total time=   1.5s\n",
      "[CV] END bootstrap=False, max_depth=20, max_features=auto, min_samples_leaf=2, min_samples_split=10, n_estimators=120; total time=   1.4s\n",
      "[CV] END bootstrap=False, max_depth=80, max_features=auto, min_samples_leaf=1, min_samples_split=10, n_estimators=450; total time=   5.4s\n"
     ]
    },
    {
     "name": "stderr",
     "output_type": "stream",
     "text": [
      "/Users/florian/opt/anaconda3/envs/comp30830/lib/python3.10/site-packages/sklearn/ensemble/_forest.py:413: FutureWarning: `max_features='auto'` has been deprecated in 1.1 and will be removed in 1.3. To keep the past behaviour, explicitly set `max_features=1.0` or remove this parameter as it is also the default value for RandomForestRegressors and ExtraTreesRegressors.\n",
      "  warn(\n"
     ]
    },
    {
     "name": "stdout",
     "output_type": "stream",
     "text": [
      "[CV] END bootstrap=True, max_depth=100, max_features=auto, min_samples_leaf=4, min_samples_split=2, n_estimators=560; total time=   4.6s\n"
     ]
    },
    {
     "name": "stderr",
     "output_type": "stream",
     "text": [
      "/Users/florian/opt/anaconda3/envs/comp30830/lib/python3.10/site-packages/sklearn/ensemble/_forest.py:413: FutureWarning: `max_features='auto'` has been deprecated in 1.1 and will be removed in 1.3. To keep the past behaviour, explicitly set `max_features=1.0` or remove this parameter as it is also the default value for RandomForestRegressors and ExtraTreesRegressors.\n",
      "  warn(\n"
     ]
    },
    {
     "name": "stdout",
     "output_type": "stream",
     "text": [
      "[CV] END bootstrap=True, max_depth=100, max_features=auto, min_samples_leaf=4, min_samples_split=2, n_estimators=560; total time=   4.7s\n"
     ]
    },
    {
     "name": "stderr",
     "output_type": "stream",
     "text": [
      "/Users/florian/opt/anaconda3/envs/comp30830/lib/python3.10/site-packages/sklearn/ensemble/_forest.py:413: FutureWarning: `max_features='auto'` has been deprecated in 1.1 and will be removed in 1.3. To keep the past behaviour, explicitly set `max_features=1.0` or remove this parameter as it is also the default value for RandomForestRegressors and ExtraTreesRegressors.\n",
      "  warn(\n"
     ]
    },
    {
     "name": "stdout",
     "output_type": "stream",
     "text": [
      "[CV] END bootstrap=False, max_depth=20, max_features=auto, min_samples_leaf=2, min_samples_split=10, n_estimators=120; total time=   1.4s\n",
      "[CV] END bootstrap=False, max_depth=20, max_features=sqrt, min_samples_leaf=1, min_samples_split=2, n_estimators=340; total time=   2.1s\n",
      "[CV] END bootstrap=False, max_depth=20, max_features=sqrt, min_samples_leaf=1, min_samples_split=2, n_estimators=340; total time=   2.3s\n",
      "[CV] END bootstrap=True, max_depth=70, max_features=sqrt, min_samples_leaf=1, min_samples_split=5, n_estimators=450; total time=   1.9s\n",
      "[CV] END bootstrap=True, max_depth=70, max_features=sqrt, min_samples_leaf=1, min_samples_split=5, n_estimators=450; total time=   1.7s\n",
      "[CV] END bootstrap=False, max_depth=20, max_features=sqrt, min_samples_leaf=1, min_samples_split=2, n_estimators=340; total time=   2.2s\n",
      "[CV] END bootstrap=True, max_depth=100, max_features=auto, min_samples_leaf=4, min_samples_split=2, n_estimators=560; total time=   4.9s\n",
      "[CV] END bootstrap=True, max_depth=70, max_features=sqrt, min_samples_leaf=1, min_samples_split=5, n_estimators=450; total time=   1.9s\n",
      "[CV] END bootstrap=True, max_depth=50, max_features=auto, min_samples_leaf=2, min_samples_split=5, n_estimators=1000; total time=   9.7s\n"
     ]
    },
    {
     "name": "stderr",
     "output_type": "stream",
     "text": [
      "/Users/florian/opt/anaconda3/envs/comp30830/lib/python3.10/site-packages/sklearn/ensemble/_forest.py:413: FutureWarning: `max_features='auto'` has been deprecated in 1.1 and will be removed in 1.3. To keep the past behaviour, explicitly set `max_features=1.0` or remove this parameter as it is also the default value for RandomForestRegressors and ExtraTreesRegressors.\n",
      "  warn(\n"
     ]
    },
    {
     "name": "stdout",
     "output_type": "stream",
     "text": [
      "[CV] END bootstrap=False, max_depth=70, max_features=sqrt, min_samples_leaf=2, min_samples_split=10, n_estimators=560; total time=   2.5s\n",
      "[CV] END bootstrap=False, max_depth=70, max_features=sqrt, min_samples_leaf=2, min_samples_split=10, n_estimators=560; total time=   2.5s\n"
     ]
    },
    {
     "name": "stderr",
     "output_type": "stream",
     "text": [
      "/Users/florian/opt/anaconda3/envs/comp30830/lib/python3.10/site-packages/sklearn/ensemble/_forest.py:413: FutureWarning: `max_features='auto'` has been deprecated in 1.1 and will be removed in 1.3. To keep the past behaviour, explicitly set `max_features=1.0` or remove this parameter as it is also the default value for RandomForestRegressors and ExtraTreesRegressors.\n",
      "  warn(\n"
     ]
    },
    {
     "name": "stdout",
     "output_type": "stream",
     "text": [
      "[CV] END bootstrap=False, max_depth=110, max_features=sqrt, min_samples_leaf=4, min_samples_split=2, n_estimators=780; total time=   3.3s\n",
      "[CV] END bootstrap=False, max_depth=110, max_features=sqrt, min_samples_leaf=4, min_samples_split=2, n_estimators=780; total time=   3.6s\n"
     ]
    },
    {
     "name": "stderr",
     "output_type": "stream",
     "text": [
      "/Users/florian/opt/anaconda3/envs/comp30830/lib/python3.10/site-packages/sklearn/ensemble/_forest.py:413: FutureWarning: `max_features='auto'` has been deprecated in 1.1 and will be removed in 1.3. To keep the past behaviour, explicitly set `max_features=1.0` or remove this parameter as it is also the default value for RandomForestRegressors and ExtraTreesRegressors.\n",
      "  warn(\n"
     ]
    },
    {
     "name": "stdout",
     "output_type": "stream",
     "text": [
      "[CV] END bootstrap=False, max_depth=50, max_features=auto, min_samples_leaf=2, min_samples_split=2, n_estimators=1000; total time=  13.7s\n",
      "[CV] END bootstrap=False, max_depth=50, max_features=auto, min_samples_leaf=2, min_samples_split=2, n_estimators=1000; total time=  13.7s\n"
     ]
    },
    {
     "name": "stderr",
     "output_type": "stream",
     "text": [
      "/Users/florian/opt/anaconda3/envs/comp30830/lib/python3.10/site-packages/sklearn/ensemble/_forest.py:413: FutureWarning: `max_features='auto'` has been deprecated in 1.1 and will be removed in 1.3. To keep the past behaviour, explicitly set `max_features=1.0` or remove this parameter as it is also the default value for RandomForestRegressors and ExtraTreesRegressors.\n",
      "  warn(\n"
     ]
    },
    {
     "name": "stdout",
     "output_type": "stream",
     "text": [
      "[CV] END bootstrap=True, max_depth=10, max_features=sqrt, min_samples_leaf=2, min_samples_split=5, n_estimators=10; total time=   0.0s\n",
      "[CV] END bootstrap=False, max_depth=70, max_features=sqrt, min_samples_leaf=2, min_samples_split=10, n_estimators=560; total time=   2.6s\n",
      "[CV] END bootstrap=True, max_depth=50, max_features=auto, min_samples_leaf=2, min_samples_split=5, n_estimators=1000; total time=  10.5s\n",
      "[CV] END bootstrap=True, max_depth=30, max_features=sqrt, min_samples_leaf=1, min_samples_split=10, n_estimators=450; total time=   2.0s\n"
     ]
    },
    {
     "name": "stderr",
     "output_type": "stream",
     "text": [
      "/Users/florian/opt/anaconda3/envs/comp30830/lib/python3.10/site-packages/sklearn/ensemble/_forest.py:413: FutureWarning: `max_features='auto'` has been deprecated in 1.1 and will be removed in 1.3. To keep the past behaviour, explicitly set `max_features=1.0` or remove this parameter as it is also the default value for RandomForestRegressors and ExtraTreesRegressors.\n",
      "  warn(\n",
      "/Users/florian/opt/anaconda3/envs/comp30830/lib/python3.10/site-packages/sklearn/ensemble/_forest.py:413: FutureWarning: `max_features='auto'` has been deprecated in 1.1 and will be removed in 1.3. To keep the past behaviour, explicitly set `max_features=1.0` or remove this parameter as it is also the default value for RandomForestRegressors and ExtraTreesRegressors.\n",
      "  warn(\n"
     ]
    },
    {
     "name": "stdout",
     "output_type": "stream",
     "text": [
      "[CV] END bootstrap=True, max_depth=30, max_features=sqrt, min_samples_leaf=1, min_samples_split=10, n_estimators=450; total time=   1.7s\n",
      "[CV] END bootstrap=False, max_depth=110, max_features=sqrt, min_samples_leaf=4, min_samples_split=2, n_estimators=780; total time=   3.7s\n"
     ]
    },
    {
     "name": "stderr",
     "output_type": "stream",
     "text": [
      "/Users/florian/opt/anaconda3/envs/comp30830/lib/python3.10/site-packages/sklearn/ensemble/_forest.py:413: FutureWarning: `max_features='auto'` has been deprecated in 1.1 and will be removed in 1.3. To keep the past behaviour, explicitly set `max_features=1.0` or remove this parameter as it is also the default value for RandomForestRegressors and ExtraTreesRegressors.\n",
      "  warn(\n"
     ]
    },
    {
     "name": "stdout",
     "output_type": "stream",
     "text": [
      "[CV] END bootstrap=False, max_depth=50, max_features=auto, min_samples_leaf=1, min_samples_split=10, n_estimators=450; total time=   6.0s\n"
     ]
    },
    {
     "name": "stderr",
     "output_type": "stream",
     "text": [
      "/Users/florian/opt/anaconda3/envs/comp30830/lib/python3.10/site-packages/sklearn/ensemble/_forest.py:413: FutureWarning: `max_features='auto'` has been deprecated in 1.1 and will be removed in 1.3. To keep the past behaviour, explicitly set `max_features=1.0` or remove this parameter as it is also the default value for RandomForestRegressors and ExtraTreesRegressors.\n",
      "  warn(\n"
     ]
    },
    {
     "name": "stdout",
     "output_type": "stream",
     "text": [
      "[CV] END bootstrap=True, max_depth=30, max_features=sqrt, min_samples_leaf=1, min_samples_split=10, n_estimators=450; total time=   1.8s\n"
     ]
    },
    {
     "name": "stderr",
     "output_type": "stream",
     "text": [
      "/Users/florian/opt/anaconda3/envs/comp30830/lib/python3.10/site-packages/sklearn/ensemble/_forest.py:413: FutureWarning: `max_features='auto'` has been deprecated in 1.1 and will be removed in 1.3. To keep the past behaviour, explicitly set `max_features=1.0` or remove this parameter as it is also the default value for RandomForestRegressors and ExtraTreesRegressors.\n",
      "  warn(\n"
     ]
    },
    {
     "name": "stdout",
     "output_type": "stream",
     "text": [
      "[CV] END bootstrap=True, max_depth=70, max_features=auto, min_samples_leaf=1, min_samples_split=2, n_estimators=230; total time=   2.5s\n",
      "[CV] END bootstrap=True, max_depth=70, max_features=auto, min_samples_leaf=1, min_samples_split=2, n_estimators=230; total time=   2.6s\n"
     ]
    },
    {
     "name": "stderr",
     "output_type": "stream",
     "text": [
      "/Users/florian/opt/anaconda3/envs/comp30830/lib/python3.10/site-packages/sklearn/ensemble/_forest.py:413: FutureWarning: `max_features='auto'` has been deprecated in 1.1 and will be removed in 1.3. To keep the past behaviour, explicitly set `max_features=1.0` or remove this parameter as it is also the default value for RandomForestRegressors and ExtraTreesRegressors.\n",
      "  warn(\n",
      "/Users/florian/opt/anaconda3/envs/comp30830/lib/python3.10/site-packages/sklearn/ensemble/_forest.py:413: FutureWarning: `max_features='auto'` has been deprecated in 1.1 and will be removed in 1.3. To keep the past behaviour, explicitly set `max_features=1.0` or remove this parameter as it is also the default value for RandomForestRegressors and ExtraTreesRegressors.\n",
      "  warn(\n"
     ]
    },
    {
     "name": "stdout",
     "output_type": "stream",
     "text": [
      "[CV] END bootstrap=False, max_depth=50, max_features=auto, min_samples_leaf=1, min_samples_split=10, n_estimators=450; total time=   5.9s\n"
     ]
    },
    {
     "name": "stderr",
     "output_type": "stream",
     "text": [
      "/Users/florian/opt/anaconda3/envs/comp30830/lib/python3.10/site-packages/sklearn/ensemble/_forest.py:413: FutureWarning: `max_features='auto'` has been deprecated in 1.1 and will be removed in 1.3. To keep the past behaviour, explicitly set `max_features=1.0` or remove this parameter as it is also the default value for RandomForestRegressors and ExtraTreesRegressors.\n",
      "  warn(\n"
     ]
    },
    {
     "name": "stdout",
     "output_type": "stream",
     "text": [
      "[CV] END bootstrap=True, max_depth=70, max_features=auto, min_samples_leaf=1, min_samples_split=2, n_estimators=230; total time=   2.5s\n"
     ]
    },
    {
     "name": "stderr",
     "output_type": "stream",
     "text": [
      "/Users/florian/opt/anaconda3/envs/comp30830/lib/python3.10/site-packages/sklearn/ensemble/_forest.py:413: FutureWarning: `max_features='auto'` has been deprecated in 1.1 and will be removed in 1.3. To keep the past behaviour, explicitly set `max_features=1.0` or remove this parameter as it is also the default value for RandomForestRegressors and ExtraTreesRegressors.\n",
      "  warn(\n"
     ]
    },
    {
     "name": "stdout",
     "output_type": "stream",
     "text": [
      "[CV] END bootstrap=True, max_depth=50, max_features=auto, min_samples_leaf=2, min_samples_split=5, n_estimators=1000; total time=   9.9s\n"
     ]
    },
    {
     "name": "stderr",
     "output_type": "stream",
     "text": [
      "/Users/florian/opt/anaconda3/envs/comp30830/lib/python3.10/site-packages/sklearn/ensemble/_forest.py:413: FutureWarning: `max_features='auto'` has been deprecated in 1.1 and will be removed in 1.3. To keep the past behaviour, explicitly set `max_features=1.0` or remove this parameter as it is also the default value for RandomForestRegressors and ExtraTreesRegressors.\n",
      "  warn(\n"
     ]
    },
    {
     "name": "stdout",
     "output_type": "stream",
     "text": [
      "[CV] END bootstrap=False, max_depth=50, max_features=auto, min_samples_leaf=1, min_samples_split=10, n_estimators=450; total time=   5.9s\n",
      "[CV] END bootstrap=True, max_depth=None, max_features=auto, min_samples_leaf=4, min_samples_split=2, n_estimators=780; total time=   7.0s\n",
      "[CV] END bootstrap=True, max_depth=None, max_features=auto, min_samples_leaf=4, min_samples_split=2, n_estimators=780; total time=   6.6s\n",
      "[CV] END bootstrap=False, max_depth=50, max_features=auto, min_samples_leaf=2, min_samples_split=2, n_estimators=1000; total time=  13.6s\n",
      "[CV] END bootstrap=True, max_depth=None, max_features=auto, min_samples_leaf=4, min_samples_split=2, n_estimators=780; total time=   6.6s\n",
      "[CV] END bootstrap=False, max_depth=30, max_features=auto, min_samples_leaf=2, min_samples_split=2, n_estimators=890; total time=  11.3s\n",
      "[CV] END bootstrap=False, max_depth=30, max_features=auto, min_samples_leaf=2, min_samples_split=2, n_estimators=890; total time=  11.0s\n",
      "[CV] END bootstrap=False, max_depth=30, max_features=auto, min_samples_leaf=2, min_samples_split=2, n_estimators=890; total time=  11.0s\n"
     ]
    },
    {
     "name": "stderr",
     "output_type": "stream",
     "text": [
      "/Users/florian/opt/anaconda3/envs/comp30830/lib/python3.10/site-packages/sklearn/ensemble/_forest.py:413: FutureWarning: `max_features='auto'` has been deprecated in 1.1 and will be removed in 1.3. To keep the past behaviour, explicitly set `max_features=1.0` or remove this parameter as it is also the default value for RandomForestRegressors and ExtraTreesRegressors.\n",
      "  warn(\n"
     ]
    },
    {
     "name": "stdout",
     "output_type": "stream",
     "text": [
      "Model Performance\n",
      "Average Error: 0.0243 degrees.\n",
      "RMSE: 0.0449.\n",
      "Accuracy = 95.51%.\n",
      "Model Performance\n",
      "Average Error: 0.0241 degrees.\n",
      "RMSE: 0.0449.\n",
      "Accuracy = 95.51%.\n",
      "----------------------------------------------------------\n",
      "Improvement of 0.00%.\n",
      "----------------------------------------------------------\n"
     ]
    }
   ],
   "source": [
    "# Test of training models:\n",
    "def training(base_model, X_train, X_test, y_train, y_test):\n",
    "        # Number of trees in random forest\n",
    "        n_estimators = [int(x) for x in np.linspace(start = 10, stop = 1000, num = 10)]\n",
    "        # Number of features to consider at every split\n",
    "        max_features = ['auto', 'sqrt']\n",
    "        # Maximum number of levels in tree\n",
    "        max_depth = [int(x) for x in np.linspace(10, 110, num = 11)]\n",
    "        max_depth.append(None)\n",
    "        # Minimum number of samples required to split a node\n",
    "        min_samples_split = [2, 5, 10]\n",
    "        # Minimum number of samples required at each leaf node\n",
    "        min_samples_leaf = [1, 2, 4]\n",
    "        # Method of selecting samples for training each tree\n",
    "        bootstrap = [True, False]\n",
    "        # Create the random grid\n",
    "        random_grid = {'n_estimators': n_estimators,\n",
    "                'max_features': max_features,\n",
    "                'max_depth': max_depth,\n",
    "                'min_samples_split': min_samples_split,\n",
    "                'min_samples_leaf': min_samples_leaf,\n",
    "                'bootstrap': bootstrap}\n",
    "\n",
    "        # Use the random grid to search for best hyperparameters\n",
    "        # First create the base model to tune\n",
    "        rf = RandomForestRegressor(random_state = 42)\n",
    "        # Random search of parameters, using 3 fold cross validation, \n",
    "        # search across 100 different combinations, and use all available cores\n",
    "        rf_random = RandomizedSearchCV(estimator = rf, param_distributions = random_grid, n_iter = 20, cv = 3, verbose=2, random_state=42, n_jobs = -1)\n",
    "        # Fit the random search model\n",
    "        rf_random.fit(X_train, y_train)\n",
    "\n",
    "        base_accuracy = evaluate(base_model, X_test, y_test)\n",
    "        best_random = rf_random.best_estimator_\n",
    "        random_accuracy = evaluate(best_random, X_test, y_test)\n",
    "        print('----------------------------------------------------------')\n",
    "        print('Improvement of {:0.2f}%.'.format( 100 * (random_accuracy - base_accuracy) / base_accuracy))\n",
    "        print('----------------------------------------------------------')\n",
    "\n",
    "\n",
    "prediction_models = {}\n",
    "for station in stations_unique[:5]:\n",
    "        df_station = df.loc[df[\"station_id\"] == station]\n",
    "        X = df_station.drop(['station_id', 'available_bikes', 'available_bike_stands', 'availabilty_ratio', 'max_stands'],axis=1)\n",
    "        y = df_station['availabilty_ratio']\n",
    "\n",
    "        X_train, X_test, y_train, y_test = train_test_split(X, y, train_size=0.7, random_state=42)\n",
    "        \n",
    "        regr = RandomForestRegressor(n_estimators = 100, random_state = 42)\n",
    "        regr.fit(X_train, y_train)\n",
    "\n",
    "        prediction_models[station] = regr\n",
    "\n",
    "        y_pred = regr.predict(X_test)\n",
    "\n",
    "        print(\"Mean absolute error:\", metrics.mean_absolute_error(y_test, y_pred))\n",
    "        print(\"Root Mean Square Error:\", metrics.mean_squared_error(y_test, y_pred)**0.5)\n",
    "\n",
    "        training(regr, X_train, X_test, y_train, y_test)\n"
   ]
  },
  {
   "attachments": {},
   "cell_type": "markdown",
   "metadata": {},
   "source": [
    "Result: For this sample the training did not improve the accuracy, so we won't train each model to reduce on performance needs."
   ]
  },
  {
   "cell_type": "code",
   "execution_count": 36,
   "metadata": {},
   "outputs": [],
   "source": [
    "prediction_models = {}\n",
    "for station in stations_unique:\n",
    "        df_station = df.loc[df[\"station_id\"] == station]\n",
    "        max_stands = df.loc[df[\"station_id\"] == station][\"max_stands\"].max()\n",
    "        X = df_station.drop(['station_id', 'available_bikes', 'available_bike_stands', 'availabilty_ratio', 'max_stands', 'bikes_flag', 'stands_flag'],axis=1)\n",
    "        y = df_station['availabilty_ratio']\n",
    "        y_bike_chance = df_station['bikes_flag']\n",
    "        y_stands_chance = df_station['stands_flag']\n",
    "\n",
    "        #X_train, X_test, y_train, y_test = train_test_split(X, y, train_size=0.7, random_state=42)\n",
    "        \n",
    "        regr = RandomForestRegressor(n_estimators = 100, random_state = 42)\n",
    "        regr.fit(X, y)\n",
    "\n",
    "        regr_bike_chance = RandomForestRegressor(n_estimators = 100, random_state = 42)\n",
    "        regr_bike_chance.fit(X, y_bike_chance)\n",
    "\n",
    "        regr_stands_chance = RandomForestRegressor(n_estimators = 100, random_state = 42)\n",
    "        regr_stands_chance.fit(X, y_stands_chance)\n",
    "\n",
    "        prediction_models[station] = [regr.predict, max_stands, regr_bike_chance.predict, regr_stands_chance.predict]\n",
    "\n"
   ]
  },
  {
   "cell_type": "code",
   "execution_count": 41,
   "metadata": {},
   "outputs": [
    {
     "name": "stdout",
     "output_type": "stream",
     "text": [
      "[0.66903226]\n",
      "1.0\n",
      "[0.59]\n",
      "[20.74]\n"
     ]
    },
    {
     "name": "stderr",
     "output_type": "stream",
     "text": [
      "/Users/florian/opt/anaconda3/envs/comp30830/lib/python3.10/site-packages/sklearn/base.py:439: UserWarning: X does not have valid feature names, but RandomForestRegressor was fitted with feature names\n",
      "  warnings.warn(\n",
      "/Users/florian/opt/anaconda3/envs/comp30830/lib/python3.10/site-packages/sklearn/base.py:439: UserWarning: X does not have valid feature names, but RandomForestRegressor was fitted with feature names\n",
      "  warnings.warn(\n",
      "/Users/florian/opt/anaconda3/envs/comp30830/lib/python3.10/site-packages/sklearn/base.py:439: UserWarning: X does not have valid feature names, but RandomForestRegressor was fitted with feature names\n",
      "  warnings.warn(\n"
     ]
    }
   ],
   "source": [
    "# Test prediction\n",
    "# ['temperature', 'pressure', 'humidity', 'clouds', 'precipitation_value', 'precipitation_probability', 'time', 'day']\n",
    "test_values = np.array([[6, 1026.5, 60.4, 79.9, 0, 0, 150, 4]])\n",
    "pred = prediction_models[1][0](test_values)\n",
    "pred_chance = prediction_models[1][2](test_values)\n",
    "pred_stand_chance = prediction_models[1][3](test_values)\n",
    "print(pred)\n",
    "print(float(pred_chance))\n",
    "print(pred_stand_chance)\n",
    "print(pred * prediction_models[1][1])\n"
   ]
  },
  {
   "cell_type": "code",
   "execution_count": 47,
   "metadata": {},
   "outputs": [],
   "source": [
    "def get_available_bike_prediction(station_id, date, temperature, pressure, humidity, clouds, precipitation_value, precipitation_probability):\n",
    "   \"\"\" date as string: '2023-05-02 23:59:59' \"\"\"\n",
    "   # time conversion:\n",
    "   # hours * 12 + minutes//5 * 1\n",
    "   time = int(date[11:13]) * 12 + int(date[14:16])//5\n",
    "   # day conversion:\n",
    "   d = pd.Timestamp(date[:10])\n",
    "   day = d.dayofweek\n",
    "\n",
    "   input_value = np.array([[temperature, pressure, humidity, clouds, precipitation_value, precipitation_probability, time, day]])\n",
    "   pred = int(prediction_models[station_id][0](input_value))\n",
    "   pred_bikes = pred * prediction_models[station_id][1]\n",
    "   pred_stations = prediction_models[station_id][1]-pred_bikes\n",
    "   return pred_bikes, pred_stations"
   ]
  },
  {
   "cell_type": "code",
   "execution_count": 48,
   "metadata": {},
   "outputs": [
    {
     "name": "stdout",
     "output_type": "stream",
     "text": [
      "0 31\n"
     ]
    },
    {
     "name": "stderr",
     "output_type": "stream",
     "text": [
      "/Users/florian/opt/anaconda3/envs/comp30830/lib/python3.10/site-packages/sklearn/base.py:439: UserWarning: X does not have valid feature names, but RandomForestRegressor was fitted with feature names\n",
      "  warnings.warn(\n"
     ]
    }
   ],
   "source": [
    "bike, stands = get_available_bike_prediction(1, '2023-05-02 23:59:59', 6, 1026.5, 60.4, 79.9, 0, 0)\n",
    "print(bike, stands)"
   ]
  },
  {
   "cell_type": "code",
   "execution_count": 44,
   "metadata": {},
   "outputs": [],
   "source": [
    "# Export function:\n",
    "import pickle\n",
    "\n",
    "with open('predictionModels.pkl', 'wb') as file:\n",
    "    pickle.dump(prediction_models, file)"
   ]
  },
  {
   "attachments": {},
   "cell_type": "markdown",
   "metadata": {},
   "source": [
    "--------------------------------------"
   ]
  }
 ],
 "metadata": {
  "kernelspec": {
   "display_name": "comp30830",
   "language": "python",
   "name": "python3"
  },
  "language_info": {
   "codemirror_mode": {
    "name": "ipython",
    "version": 3
   },
   "file_extension": ".py",
   "mimetype": "text/x-python",
   "name": "python",
   "nbconvert_exporter": "python",
   "pygments_lexer": "ipython3",
   "version": "3.10.9"
  },
  "orig_nbformat": 4
 },
 "nbformat": 4,
 "nbformat_minor": 2
}
